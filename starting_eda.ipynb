{
 "cells": [
  {
   "cell_type": "markdown",
   "metadata": {},
   "source": [
    "Will start running some basic statistics and info diving on the cleaned data here"
   ]
  },
  {
   "cell_type": "code",
   "execution_count": 178,
   "metadata": {},
   "outputs": [],
   "source": [
    "import pandas as pd\n",
    "import numpy as np\n",
    "import scipy \n",
    "import matplotlib.pyplot as plt\n",
    "import seaborn as sns\n",
    "import pickle\n",
    "import re\n",
    "from sklearn.feature_extraction.text import CountVectorizer\n",
    "from collections import Counter\n",
    "from sklearn.feature_extraction import text\n",
    "from wordcloud import WordCloud"
   ]
  },
  {
   "cell_type": "code",
   "execution_count": 11,
   "metadata": {},
   "outputs": [
    {
     "data": {
      "text/html": [
       "<div>\n",
       "<style scoped>\n",
       "    .dataframe tbody tr th:only-of-type {\n",
       "        vertical-align: middle;\n",
       "    }\n",
       "\n",
       "    .dataframe tbody tr th {\n",
       "        vertical-align: top;\n",
       "    }\n",
       "\n",
       "    .dataframe thead th {\n",
       "        text-align: right;\n",
       "    }\n",
       "</style>\n",
       "<table border=\"1\" class=\"dataframe\">\n",
       "  <thead>\n",
       "    <tr style=\"text-align: right;\">\n",
       "      <th></th>\n",
       "      <th>links</th>\n",
       "      <th>rough_review_body</th>\n",
       "      <th>cleaned_review_body</th>\n",
       "      <th>review_summary_rough</th>\n",
       "      <th>review_score</th>\n",
       "      <th>tags</th>\n",
       "      <th>categories</th>\n",
       "      <th>modified_date</th>\n",
       "      <th>published_date</th>\n",
       "      <th>author_name</th>\n",
       "      <th>tag_list</th>\n",
       "      <th>categories_list</th>\n",
       "      <th>review_title</th>\n",
       "      <th>review_body_corpus</th>\n",
       "    </tr>\n",
       "  </thead>\n",
       "  <tbody>\n",
       "    <tr>\n",
       "      <th>1</th>\n",
       "      <td>https://www.ign.com/articles/2011/07/19/warham...</td>\n",
       "      <td>\\u003csection class=\\\"article-page\\\"\\u003e\\u00...</td>\n",
       "      <td>'Warhammer 40K: Kill Team might be unfortun...</td>\n",
       "      <td>\"And \\\"also-ran\\\" hangs all over Warhammer 40K...</td>\n",
       "      <td>6.5</td>\n",
       "      <td>:[\"review\",\"blogroll\",\"event-essentials\",\"hot\"...</td>\n",
       "      <td>:[\"ign\",\"ps3\",\"xbox-360\",\"xbox-live\"],</td>\n",
       "      <td>2011-10-18T05:59:32+0000</td>\n",
       "      <td>2011-07-19T19:47:00+0000</td>\n",
       "      <td>\"Arthur Gies\"</td>\n",
       "      <td>[review, blogroll, event-essentials, hot, lega...</td>\n",
       "      <td>[ign, ps3, xbox-360, xbox-live, ]</td>\n",
       "      <td>\"Warhammer 40K: Kill Team Review\"</td>\n",
       "      <td>warhammer 40k kill team might be unfortunat...</td>\n",
       "    </tr>\n",
       "    <tr>\n",
       "      <th>2</th>\n",
       "      <td>https://www.ign.com/articles/2011/07/20/call-o...</td>\n",
       "      <td>\\u003csection class=\\\"article-page\\\"\\u003eThe ...</td>\n",
       "      <td>The Call of Juarez franchise always intereste...</td>\n",
       "      <td>\"Call of Juarez: The Cartel is a poor change o...</td>\n",
       "      <td>4.5</td>\n",
       "      <td>:[\"review\",\"blogroll\",\"call-of-juarez-the-cart...</td>\n",
       "      <td>:[\"ign\",\"pc\",\"ps3\",\"xbox-360\"],</td>\n",
       "      <td>2011-10-18T06:02:02+0000</td>\n",
       "      <td>2011-07-20T00:14:00+0000</td>\n",
       "      <td>\"Anthony Gallegos\"</td>\n",
       "      <td>[review, blogroll, call-of-juarez-the-cartel, ...</td>\n",
       "      <td>[ign, pc, ps3, xbox-360, ]</td>\n",
       "      <td>\"Call of Juarez: The Cartel Review\"</td>\n",
       "      <td>the call of juarez franchise always intereste...</td>\n",
       "    </tr>\n",
       "    <tr>\n",
       "      <th>3</th>\n",
       "      <td>https://www.ign.com/articles/2011/07/20/captai...</td>\n",
       "      <td>\\u003csection class=\\\"article-page\\\"\\u003eThe ...</td>\n",
       "      <td>The majority of movie games are just awful. S...</td>\n",
       "      <td>\"Captain America: Super Soldier is a mediocre ...</td>\n",
       "      <td>5.5</td>\n",
       "      <td>:[\"review\",\"blogroll\",\"legacy\",\"wii\",\"games\",\"...</td>\n",
       "      <td>:[\"ign\",\"wii\"],</td>\n",
       "      <td>2011-10-18T06:02:20+0000</td>\n",
       "      <td>2011-07-20T00:43:00+0000</td>\n",
       "      <td>\"Audrey Drake\"</td>\n",
       "      <td>[review, blogroll, legacy, wii, games, captain...</td>\n",
       "      <td>[ign, wii, ]</td>\n",
       "      <td>\"Captain America: Super Soldier Wii Review\"</td>\n",
       "      <td>the majority of movie games are just awful st...</td>\n",
       "    </tr>\n",
       "    <tr>\n",
       "      <th>4</th>\n",
       "      <td>https://www.ign.com/articles/2011/07/20/quiz-c...</td>\n",
       "      <td>\\u003csection class=\\\"article-page\\\"\\u003e\\u00...</td>\n",
       "      <td>'Quiz Climber, from Buzz! developer   'Rele...</td>\n",
       "      <td>\"Ultimately, Quiz Climber is just a little too...</td>\n",
       "      <td>6.5</td>\n",
       "      <td>:[\"review\",\"blogroll\",\"games\",\"legacy\",\"wirele...</td>\n",
       "      <td>:[\"ign\",\"wireless\"],</td>\n",
       "      <td>2011-10-18T06:07:06+0000</td>\n",
       "      <td>2011-07-20T21:44:00+0000</td>\n",
       "      <td>\"Justin Davis\"</td>\n",
       "      <td>[review, blogroll, games, legacy, wireless, qu...</td>\n",
       "      <td>[ign, wireless, ]</td>\n",
       "      <td>\"Quiz Climber Review\"</td>\n",
       "      <td>quiz climber from buzz developer   relentle...</td>\n",
       "    </tr>\n",
       "    <tr>\n",
       "      <th>5</th>\n",
       "      <td>https://www.ign.com/articles/2011/07/20/limbo-...</td>\n",
       "      <td>\\u003csection class=\\\"article-page\\\"\\u003eVide...</td>\n",
       "      <td>Video games are an art form made up of visual...</td>\n",
       "      <td>\"Limbo is an incredible achievement. Very few ...</td>\n",
       "      <td>9</td>\n",
       "      <td>:[\"review\",\"games\",\"legacy\",\"limbo\",\"platforme...</td>\n",
       "      <td>:[\"pc\",\"ps3\"],</td>\n",
       "      <td>2011-10-18T06:07:21+0000</td>\n",
       "      <td>2011-07-20T22:29:00+0000</td>\n",
       "      <td>\"Daemon Hatfield\"</td>\n",
       "      <td>[review, games, legacy, limbo, platformer, pla...</td>\n",
       "      <td>[pc, ps3, ]</td>\n",
       "      <td>\"Limbo Review\"</td>\n",
       "      <td>video games are an art form made up of visual...</td>\n",
       "    </tr>\n",
       "  </tbody>\n",
       "</table>\n",
       "</div>"
      ],
      "text/plain": [
       "                                               links  \\\n",
       "1  https://www.ign.com/articles/2011/07/19/warham...   \n",
       "2  https://www.ign.com/articles/2011/07/20/call-o...   \n",
       "3  https://www.ign.com/articles/2011/07/20/captai...   \n",
       "4  https://www.ign.com/articles/2011/07/20/quiz-c...   \n",
       "5  https://www.ign.com/articles/2011/07/20/limbo-...   \n",
       "\n",
       "                                   rough_review_body  \\\n",
       "1  \\u003csection class=\\\"article-page\\\"\\u003e\\u00...   \n",
       "2  \\u003csection class=\\\"article-page\\\"\\u003eThe ...   \n",
       "3  \\u003csection class=\\\"article-page\\\"\\u003eThe ...   \n",
       "4  \\u003csection class=\\\"article-page\\\"\\u003e\\u00...   \n",
       "5  \\u003csection class=\\\"article-page\\\"\\u003eVide...   \n",
       "\n",
       "                                 cleaned_review_body  \\\n",
       "1     'Warhammer 40K: Kill Team might be unfortun...   \n",
       "2   The Call of Juarez franchise always intereste...   \n",
       "3   The majority of movie games are just awful. S...   \n",
       "4     'Quiz Climber, from Buzz! developer   'Rele...   \n",
       "5   Video games are an art form made up of visual...   \n",
       "\n",
       "                                review_summary_rough review_score  \\\n",
       "1  \"And \\\"also-ran\\\" hangs all over Warhammer 40K...          6.5   \n",
       "2  \"Call of Juarez: The Cartel is a poor change o...          4.5   \n",
       "3  \"Captain America: Super Soldier is a mediocre ...          5.5   \n",
       "4  \"Ultimately, Quiz Climber is just a little too...          6.5   \n",
       "5  \"Limbo is an incredible achievement. Very few ...            9   \n",
       "\n",
       "                                                tags  \\\n",
       "1  :[\"review\",\"blogroll\",\"event-essentials\",\"hot\"...   \n",
       "2  :[\"review\",\"blogroll\",\"call-of-juarez-the-cart...   \n",
       "3  :[\"review\",\"blogroll\",\"legacy\",\"wii\",\"games\",\"...   \n",
       "4  :[\"review\",\"blogroll\",\"games\",\"legacy\",\"wirele...   \n",
       "5  :[\"review\",\"games\",\"legacy\",\"limbo\",\"platforme...   \n",
       "\n",
       "                               categories             modified_date  \\\n",
       "1  :[\"ign\",\"ps3\",\"xbox-360\",\"xbox-live\"],  2011-10-18T05:59:32+0000   \n",
       "2         :[\"ign\",\"pc\",\"ps3\",\"xbox-360\"],  2011-10-18T06:02:02+0000   \n",
       "3                         :[\"ign\",\"wii\"],  2011-10-18T06:02:20+0000   \n",
       "4                    :[\"ign\",\"wireless\"],  2011-10-18T06:07:06+0000   \n",
       "5                          :[\"pc\",\"ps3\"],  2011-10-18T06:07:21+0000   \n",
       "\n",
       "             published_date         author_name  \\\n",
       "1  2011-07-19T19:47:00+0000       \"Arthur Gies\"   \n",
       "2  2011-07-20T00:14:00+0000  \"Anthony Gallegos\"   \n",
       "3  2011-07-20T00:43:00+0000      \"Audrey Drake\"   \n",
       "4  2011-07-20T21:44:00+0000      \"Justin Davis\"   \n",
       "5  2011-07-20T22:29:00+0000   \"Daemon Hatfield\"   \n",
       "\n",
       "                                            tag_list  \\\n",
       "1  [review, blogroll, event-essentials, hot, lega...   \n",
       "2  [review, blogroll, call-of-juarez-the-cartel, ...   \n",
       "3  [review, blogroll, legacy, wii, games, captain...   \n",
       "4  [review, blogroll, games, legacy, wireless, qu...   \n",
       "5  [review, games, legacy, limbo, platformer, pla...   \n",
       "\n",
       "                     categories_list  \\\n",
       "1  [ign, ps3, xbox-360, xbox-live, ]   \n",
       "2         [ign, pc, ps3, xbox-360, ]   \n",
       "3                       [ign, wii, ]   \n",
       "4                  [ign, wireless, ]   \n",
       "5                        [pc, ps3, ]   \n",
       "\n",
       "                                  review_title  \\\n",
       "1            \"Warhammer 40K: Kill Team Review\"   \n",
       "2          \"Call of Juarez: The Cartel Review\"   \n",
       "3  \"Captain America: Super Soldier Wii Review\"   \n",
       "4                        \"Quiz Climber Review\"   \n",
       "5                               \"Limbo Review\"   \n",
       "\n",
       "                                  review_body_corpus  \n",
       "1     warhammer 40k kill team might be unfortunat...  \n",
       "2   the call of juarez franchise always intereste...  \n",
       "3   the majority of movie games are just awful st...  \n",
       "4     quiz climber from buzz developer   relentle...  \n",
       "5   video games are an art form made up of visual...  "
      ]
     },
     "execution_count": 11,
     "metadata": {},
     "output_type": "execute_result"
    }
   ],
   "source": [
    "ign_df = pd.read_pickle('ign_data/ign_pass_one.pkl')\n",
    "ign_df.head()"
   ]
  },
  {
   "cell_type": "code",
   "execution_count": 4,
   "metadata": {
    "collapsed": true,
    "jupyter": {
     "outputs_hidden": true
    }
   },
   "outputs": [
    {
     "data": {
      "text/html": [
       "<div>\n",
       "<style scoped>\n",
       "    .dataframe tbody tr th:only-of-type {\n",
       "        vertical-align: middle;\n",
       "    }\n",
       "\n",
       "    .dataframe tbody tr th {\n",
       "        vertical-align: top;\n",
       "    }\n",
       "\n",
       "    .dataframe thead th {\n",
       "        text-align: right;\n",
       "    }\n",
       "</style>\n",
       "<table border=\"1\" class=\"dataframe\">\n",
       "  <thead>\n",
       "    <tr style=\"text-align: right;\">\n",
       "      <th></th>\n",
       "      <th>00</th>\n",
       "      <th>000</th>\n",
       "      <th>000000</th>\n",
       "      <th>00001</th>\n",
       "      <th>00005</th>\n",
       "      <th>00028</th>\n",
       "      <th>00039</th>\n",
       "      <th>00044</th>\n",
       "      <th>00050</th>\n",
       "      <th>000dpi</th>\n",
       "      <th>...</th>\n",
       "      <th>zx</th>\n",
       "      <th>zxs</th>\n",
       "      <th>zynga</th>\n",
       "      <th>zz</th>\n",
       "      <th>zzz</th>\n",
       "      <th>zzzz</th>\n",
       "      <th>état</th>\n",
       "      <th>été</th>\n",
       "      <th>ôkami</th>\n",
       "      <th>über</th>\n",
       "    </tr>\n",
       "  </thead>\n",
       "  <tbody>\n",
       "    <tr>\n",
       "      <th>1</th>\n",
       "      <td>1</td>\n",
       "      <td>0</td>\n",
       "      <td>0</td>\n",
       "      <td>0</td>\n",
       "      <td>0</td>\n",
       "      <td>0</td>\n",
       "      <td>0</td>\n",
       "      <td>0</td>\n",
       "      <td>0</td>\n",
       "      <td>0</td>\n",
       "      <td>...</td>\n",
       "      <td>0</td>\n",
       "      <td>0</td>\n",
       "      <td>0</td>\n",
       "      <td>0</td>\n",
       "      <td>0</td>\n",
       "      <td>0</td>\n",
       "      <td>0</td>\n",
       "      <td>0</td>\n",
       "      <td>0</td>\n",
       "      <td>0</td>\n",
       "    </tr>\n",
       "    <tr>\n",
       "      <th>2</th>\n",
       "      <td>0</td>\n",
       "      <td>0</td>\n",
       "      <td>0</td>\n",
       "      <td>0</td>\n",
       "      <td>0</td>\n",
       "      <td>0</td>\n",
       "      <td>0</td>\n",
       "      <td>0</td>\n",
       "      <td>0</td>\n",
       "      <td>0</td>\n",
       "      <td>...</td>\n",
       "      <td>0</td>\n",
       "      <td>0</td>\n",
       "      <td>0</td>\n",
       "      <td>0</td>\n",
       "      <td>0</td>\n",
       "      <td>0</td>\n",
       "      <td>0</td>\n",
       "      <td>0</td>\n",
       "      <td>0</td>\n",
       "      <td>0</td>\n",
       "    </tr>\n",
       "    <tr>\n",
       "      <th>3</th>\n",
       "      <td>0</td>\n",
       "      <td>0</td>\n",
       "      <td>0</td>\n",
       "      <td>0</td>\n",
       "      <td>0</td>\n",
       "      <td>0</td>\n",
       "      <td>0</td>\n",
       "      <td>0</td>\n",
       "      <td>0</td>\n",
       "      <td>0</td>\n",
       "      <td>...</td>\n",
       "      <td>0</td>\n",
       "      <td>0</td>\n",
       "      <td>0</td>\n",
       "      <td>0</td>\n",
       "      <td>0</td>\n",
       "      <td>0</td>\n",
       "      <td>0</td>\n",
       "      <td>0</td>\n",
       "      <td>0</td>\n",
       "      <td>0</td>\n",
       "    </tr>\n",
       "    <tr>\n",
       "      <th>4</th>\n",
       "      <td>0</td>\n",
       "      <td>0</td>\n",
       "      <td>0</td>\n",
       "      <td>0</td>\n",
       "      <td>0</td>\n",
       "      <td>0</td>\n",
       "      <td>0</td>\n",
       "      <td>0</td>\n",
       "      <td>0</td>\n",
       "      <td>0</td>\n",
       "      <td>...</td>\n",
       "      <td>0</td>\n",
       "      <td>0</td>\n",
       "      <td>0</td>\n",
       "      <td>0</td>\n",
       "      <td>0</td>\n",
       "      <td>0</td>\n",
       "      <td>0</td>\n",
       "      <td>0</td>\n",
       "      <td>0</td>\n",
       "      <td>0</td>\n",
       "    </tr>\n",
       "    <tr>\n",
       "      <th>5</th>\n",
       "      <td>0</td>\n",
       "      <td>0</td>\n",
       "      <td>0</td>\n",
       "      <td>0</td>\n",
       "      <td>0</td>\n",
       "      <td>0</td>\n",
       "      <td>0</td>\n",
       "      <td>0</td>\n",
       "      <td>0</td>\n",
       "      <td>0</td>\n",
       "      <td>...</td>\n",
       "      <td>0</td>\n",
       "      <td>0</td>\n",
       "      <td>0</td>\n",
       "      <td>0</td>\n",
       "      <td>0</td>\n",
       "      <td>0</td>\n",
       "      <td>0</td>\n",
       "      <td>0</td>\n",
       "      <td>0</td>\n",
       "      <td>0</td>\n",
       "    </tr>\n",
       "  </tbody>\n",
       "</table>\n",
       "<p>5 rows × 81811 columns</p>\n",
       "</div>"
      ],
      "text/plain": [
       "   00  000  000000  00001  00005  00028  00039  00044  00050  000dpi  ...  zx  \\\n",
       "1   1    0       0      0      0      0      0      0      0       0  ...   0   \n",
       "2   0    0       0      0      0      0      0      0      0       0  ...   0   \n",
       "3   0    0       0      0      0      0      0      0      0       0  ...   0   \n",
       "4   0    0       0      0      0      0      0      0      0       0  ...   0   \n",
       "5   0    0       0      0      0      0      0      0      0       0  ...   0   \n",
       "\n",
       "   zxs  zynga  zz  zzz  zzzz  état  été  ôkami  über  \n",
       "1    0      0   0    0     0     0    0      0     0  \n",
       "2    0      0   0    0     0     0    0      0     0  \n",
       "3    0      0   0    0     0     0    0      0     0  \n",
       "4    0      0   0    0     0     0    0      0     0  \n",
       "5    0      0   0    0     0     0    0      0     0  \n",
       "\n",
       "[5 rows x 81811 columns]"
      ]
     },
     "execution_count": 4,
     "metadata": {},
     "output_type": "execute_result"
    }
   ],
   "source": [
    "ign_dtm = pd.read_pickle('ign_data/ign_pass_one_dtm.pkl')\n",
    "ign_dtm.head()"
   ]
  },
  {
   "cell_type": "code",
   "execution_count": 5,
   "metadata": {},
   "outputs": [
    {
     "name": "stdout",
     "output_type": "stream",
     "text": [
      "(11675, 81811)\n"
     ]
    },
    {
     "data": {
      "text/plain": [
       "00         58\n",
       "000       514\n",
       "000000     10\n",
       "00001       1\n",
       "00005       2\n",
       "dtype: int64"
      ]
     },
     "execution_count": 5,
     "metadata": {},
     "output_type": "execute_result"
    }
   ],
   "source": [
    "print(ign_dtm.shape)\n",
    "sum_dtm = ign_dtm.sum()\n",
    "sum_dtm.head()"
   ]
  },
  {
   "cell_type": "code",
   "execution_count": 70,
   "metadata": {},
   "outputs": [
    {
     "name": "stdout",
     "output_type": "stream",
     "text": [
      "(81811,)\n",
      "game          92115\n",
      "like          44607\n",
      "just          32246\n",
      "time          30108\n",
      "ll            28755\n",
      "new           25442\n",
      "games         22458\n",
      "play          22362\n",
      "way           20278\n",
      "players       19124\n",
      "make          16816\n",
      "really        15704\n",
      "ve            15485\n",
      "mode          14862\n",
      "dir           14727\n",
      "ltr           14719\n",
      "little        14606\n",
      "world         14556\n",
      "good          14287\n",
      "player        14273\n",
      "level         13835\n",
      "story         13289\n",
      "fun           12761\n",
      "character     12483\n",
      "gameplay      12445\n",
      "right         12323\n",
      "different     12259\n",
      "screen        12256\n",
      "don           12132\n",
      "use           11811\n",
      "doesn         11499\n",
      "experience    11484\n",
      "enemies       11470\n",
      "com           11425\n",
      "bit           11420\n",
      "characters    11189\n",
      "playing       10738\n",
      "data          10716\n",
      "isn           10606\n",
      "things        10604\n",
      "feel          10142\n",
      "great         10116\n",
      "u0026          9992\n",
      "need           9903\n",
      "series         9527\n",
      "makes          9443\n",
      "ign            9440\n",
      "action         9292\n",
      "want           9260\n",
      "control        9066\n",
      "dtype: int64\n"
     ]
    }
   ],
   "source": [
    "print(sum_dtm.shape)\n",
    "print(sum_dtm.sort_values(ascending=False)[:50])\n"
   ]
  },
  {
   "cell_type": "markdown",
   "metadata": {},
   "source": [
    "# Maybe examine most used words by game score"
   ]
  },
  {
   "cell_type": "code",
   "execution_count": 7,
   "metadata": {
    "collapsed": true,
    "jupyter": {
     "outputs_hidden": true
    }
   },
   "outputs": [
    {
     "ename": "KeyboardInterrupt",
     "evalue": "",
     "output_type": "error",
     "traceback": [
      "\u001b[1;31m---------------------------------------------------------------------------\u001b[0m",
      "\u001b[1;31mKeyboardInterrupt\u001b[0m                         Traceback (most recent call last)",
      "\u001b[1;32m<ipython-input-7-09f91efe3ae4>\u001b[0m in \u001b[0;36m<module>\u001b[1;34m\u001b[0m\n\u001b[1;32m----> 1\u001b[1;33m \u001b[0mcorpus_dtm\u001b[0m \u001b[1;33m=\u001b[0m \u001b[0mpd\u001b[0m\u001b[1;33m.\u001b[0m\u001b[0mread_csv\u001b[0m\u001b[1;33m(\u001b[0m\u001b[1;34m'ign_data/ign_corpus_pass_one_dtm.csv'\u001b[0m\u001b[1;33m)\u001b[0m\u001b[1;33m\u001b[0m\u001b[1;33m\u001b[0m\u001b[0m\n\u001b[0m\u001b[0;32m      2\u001b[0m \u001b[0mprint\u001b[0m\u001b[1;33m(\u001b[0m\u001b[0mcorpus_dtm\u001b[0m\u001b[1;33m.\u001b[0m\u001b[0mshape\u001b[0m\u001b[1;33m)\u001b[0m\u001b[1;33m\u001b[0m\u001b[1;33m\u001b[0m\u001b[0m\n\u001b[0;32m      3\u001b[0m \u001b[0mcorpus_sum_dtm\u001b[0m \u001b[1;33m=\u001b[0m \u001b[0mcorpus_dtm\u001b[0m\u001b[1;33m.\u001b[0m\u001b[0msum\u001b[0m\u001b[1;33m(\u001b[0m\u001b[1;33m)\u001b[0m\u001b[1;33m\u001b[0m\u001b[1;33m\u001b[0m\u001b[0m\n",
      "\u001b[1;32m~\\Anaconda3\\lib\\site-packages\\pandas\\io\\parsers.py\u001b[0m in \u001b[0;36mparser_f\u001b[1;34m(filepath_or_buffer, sep, delimiter, header, names, index_col, usecols, squeeze, prefix, mangle_dupe_cols, dtype, engine, converters, true_values, false_values, skipinitialspace, skiprows, skipfooter, nrows, na_values, keep_default_na, na_filter, verbose, skip_blank_lines, parse_dates, infer_datetime_format, keep_date_col, date_parser, dayfirst, iterator, chunksize, compression, thousands, decimal, lineterminator, quotechar, quoting, doublequote, escapechar, comment, encoding, dialect, tupleize_cols, error_bad_lines, warn_bad_lines, delim_whitespace, low_memory, memory_map, float_precision)\u001b[0m\n\u001b[0;32m    700\u001b[0m                     skip_blank_lines=skip_blank_lines)\n\u001b[0;32m    701\u001b[0m \u001b[1;33m\u001b[0m\u001b[0m\n\u001b[1;32m--> 702\u001b[1;33m         \u001b[1;32mreturn\u001b[0m \u001b[0m_read\u001b[0m\u001b[1;33m(\u001b[0m\u001b[0mfilepath_or_buffer\u001b[0m\u001b[1;33m,\u001b[0m \u001b[0mkwds\u001b[0m\u001b[1;33m)\u001b[0m\u001b[1;33m\u001b[0m\u001b[1;33m\u001b[0m\u001b[0m\n\u001b[0m\u001b[0;32m    703\u001b[0m \u001b[1;33m\u001b[0m\u001b[0m\n\u001b[0;32m    704\u001b[0m     \u001b[0mparser_f\u001b[0m\u001b[1;33m.\u001b[0m\u001b[0m__name__\u001b[0m \u001b[1;33m=\u001b[0m \u001b[0mname\u001b[0m\u001b[1;33m\u001b[0m\u001b[1;33m\u001b[0m\u001b[0m\n",
      "\u001b[1;32m~\\Anaconda3\\lib\\site-packages\\pandas\\io\\parsers.py\u001b[0m in \u001b[0;36m_read\u001b[1;34m(filepath_or_buffer, kwds)\u001b[0m\n\u001b[0;32m    433\u001b[0m \u001b[1;33m\u001b[0m\u001b[0m\n\u001b[0;32m    434\u001b[0m     \u001b[1;32mtry\u001b[0m\u001b[1;33m:\u001b[0m\u001b[1;33m\u001b[0m\u001b[1;33m\u001b[0m\u001b[0m\n\u001b[1;32m--> 435\u001b[1;33m         \u001b[0mdata\u001b[0m \u001b[1;33m=\u001b[0m \u001b[0mparser\u001b[0m\u001b[1;33m.\u001b[0m\u001b[0mread\u001b[0m\u001b[1;33m(\u001b[0m\u001b[0mnrows\u001b[0m\u001b[1;33m)\u001b[0m\u001b[1;33m\u001b[0m\u001b[1;33m\u001b[0m\u001b[0m\n\u001b[0m\u001b[0;32m    436\u001b[0m     \u001b[1;32mfinally\u001b[0m\u001b[1;33m:\u001b[0m\u001b[1;33m\u001b[0m\u001b[1;33m\u001b[0m\u001b[0m\n\u001b[0;32m    437\u001b[0m         \u001b[0mparser\u001b[0m\u001b[1;33m.\u001b[0m\u001b[0mclose\u001b[0m\u001b[1;33m(\u001b[0m\u001b[1;33m)\u001b[0m\u001b[1;33m\u001b[0m\u001b[1;33m\u001b[0m\u001b[0m\n",
      "\u001b[1;32m~\\Anaconda3\\lib\\site-packages\\pandas\\io\\parsers.py\u001b[0m in \u001b[0;36mread\u001b[1;34m(self, nrows)\u001b[0m\n\u001b[0;32m   1137\u001b[0m     \u001b[1;32mdef\u001b[0m \u001b[0mread\u001b[0m\u001b[1;33m(\u001b[0m\u001b[0mself\u001b[0m\u001b[1;33m,\u001b[0m \u001b[0mnrows\u001b[0m\u001b[1;33m=\u001b[0m\u001b[1;32mNone\u001b[0m\u001b[1;33m)\u001b[0m\u001b[1;33m:\u001b[0m\u001b[1;33m\u001b[0m\u001b[1;33m\u001b[0m\u001b[0m\n\u001b[0;32m   1138\u001b[0m         \u001b[0mnrows\u001b[0m \u001b[1;33m=\u001b[0m \u001b[0m_validate_integer\u001b[0m\u001b[1;33m(\u001b[0m\u001b[1;34m'nrows'\u001b[0m\u001b[1;33m,\u001b[0m \u001b[0mnrows\u001b[0m\u001b[1;33m)\u001b[0m\u001b[1;33m\u001b[0m\u001b[1;33m\u001b[0m\u001b[0m\n\u001b[1;32m-> 1139\u001b[1;33m         \u001b[0mret\u001b[0m \u001b[1;33m=\u001b[0m \u001b[0mself\u001b[0m\u001b[1;33m.\u001b[0m\u001b[0m_engine\u001b[0m\u001b[1;33m.\u001b[0m\u001b[0mread\u001b[0m\u001b[1;33m(\u001b[0m\u001b[0mnrows\u001b[0m\u001b[1;33m)\u001b[0m\u001b[1;33m\u001b[0m\u001b[1;33m\u001b[0m\u001b[0m\n\u001b[0m\u001b[0;32m   1140\u001b[0m \u001b[1;33m\u001b[0m\u001b[0m\n\u001b[0;32m   1141\u001b[0m         \u001b[1;31m# May alter columns / col_dict\u001b[0m\u001b[1;33m\u001b[0m\u001b[1;33m\u001b[0m\u001b[1;33m\u001b[0m\u001b[0m\n",
      "\u001b[1;32m~\\Anaconda3\\lib\\site-packages\\pandas\\io\\parsers.py\u001b[0m in \u001b[0;36mread\u001b[1;34m(self, nrows)\u001b[0m\n\u001b[0;32m   1993\u001b[0m     \u001b[1;32mdef\u001b[0m \u001b[0mread\u001b[0m\u001b[1;33m(\u001b[0m\u001b[0mself\u001b[0m\u001b[1;33m,\u001b[0m \u001b[0mnrows\u001b[0m\u001b[1;33m=\u001b[0m\u001b[1;32mNone\u001b[0m\u001b[1;33m)\u001b[0m\u001b[1;33m:\u001b[0m\u001b[1;33m\u001b[0m\u001b[1;33m\u001b[0m\u001b[0m\n\u001b[0;32m   1994\u001b[0m         \u001b[1;32mtry\u001b[0m\u001b[1;33m:\u001b[0m\u001b[1;33m\u001b[0m\u001b[1;33m\u001b[0m\u001b[0m\n\u001b[1;32m-> 1995\u001b[1;33m             \u001b[0mdata\u001b[0m \u001b[1;33m=\u001b[0m \u001b[0mself\u001b[0m\u001b[1;33m.\u001b[0m\u001b[0m_reader\u001b[0m\u001b[1;33m.\u001b[0m\u001b[0mread\u001b[0m\u001b[1;33m(\u001b[0m\u001b[0mnrows\u001b[0m\u001b[1;33m)\u001b[0m\u001b[1;33m\u001b[0m\u001b[1;33m\u001b[0m\u001b[0m\n\u001b[0m\u001b[0;32m   1996\u001b[0m         \u001b[1;32mexcept\u001b[0m \u001b[0mStopIteration\u001b[0m\u001b[1;33m:\u001b[0m\u001b[1;33m\u001b[0m\u001b[1;33m\u001b[0m\u001b[0m\n\u001b[0;32m   1997\u001b[0m             \u001b[1;32mif\u001b[0m \u001b[0mself\u001b[0m\u001b[1;33m.\u001b[0m\u001b[0m_first_chunk\u001b[0m\u001b[1;33m:\u001b[0m\u001b[1;33m\u001b[0m\u001b[1;33m\u001b[0m\u001b[0m\n",
      "\u001b[1;32mpandas/_libs/parsers.pyx\u001b[0m in \u001b[0;36mpandas._libs.parsers.TextReader.read\u001b[1;34m()\u001b[0m\n",
      "\u001b[1;32mpandas/_libs/parsers.pyx\u001b[0m in \u001b[0;36mpandas._libs.parsers.TextReader._read_low_memory\u001b[1;34m()\u001b[0m\n",
      "\u001b[1;32mpandas/_libs/parsers.pyx\u001b[0m in \u001b[0;36mpandas._libs.parsers.TextReader._read_rows\u001b[1;34m()\u001b[0m\n",
      "\u001b[1;32mpandas/_libs/parsers.pyx\u001b[0m in \u001b[0;36mpandas._libs.parsers.TextReader._convert_column_data\u001b[1;34m()\u001b[0m\n",
      "\u001b[1;32mpandas/_libs/parsers.pyx\u001b[0m in \u001b[0;36mpandas._libs.parsers.TextReader._convert_tokens\u001b[1;34m()\u001b[0m\n",
      "\u001b[1;32mpandas/_libs/parsers.pyx\u001b[0m in \u001b[0;36mpandas._libs.parsers.TextReader._convert_with_dtype\u001b[1;34m()\u001b[0m\n",
      "\u001b[1;32m~\\Anaconda3\\lib\\site-packages\\pandas\\core\\dtypes\\common.py\u001b[0m in \u001b[0;36mis_categorical_dtype\u001b[1;34m(arr_or_dtype)\u001b[0m\n\u001b[0;32m    570\u001b[0m \u001b[1;33m\u001b[0m\u001b[0m\n\u001b[0;32m    571\u001b[0m \u001b[1;33m\u001b[0m\u001b[0m\n\u001b[1;32m--> 572\u001b[1;33m \u001b[1;32mdef\u001b[0m \u001b[0mis_categorical_dtype\u001b[0m\u001b[1;33m(\u001b[0m\u001b[0marr_or_dtype\u001b[0m\u001b[1;33m)\u001b[0m\u001b[1;33m:\u001b[0m\u001b[1;33m\u001b[0m\u001b[1;33m\u001b[0m\u001b[0m\n\u001b[0m\u001b[0;32m    573\u001b[0m     \"\"\"\n\u001b[0;32m    574\u001b[0m     \u001b[0mCheck\u001b[0m \u001b[0mwhether\u001b[0m \u001b[0man\u001b[0m \u001b[0marray\u001b[0m\u001b[1;33m-\u001b[0m\u001b[0mlike\u001b[0m \u001b[1;32mor\u001b[0m \u001b[0mdtype\u001b[0m \u001b[1;32mis\u001b[0m \u001b[0mof\u001b[0m \u001b[0mthe\u001b[0m \u001b[0mCategorical\u001b[0m \u001b[0mdtype\u001b[0m\u001b[1;33m.\u001b[0m\u001b[1;33m\u001b[0m\u001b[1;33m\u001b[0m\u001b[0m\n",
      "\u001b[1;31mKeyboardInterrupt\u001b[0m: "
     ]
    }
   ],
   "source": [
    "# hold off until further in the analysis when I can use this level of refinement\n",
    "\n",
    "corpus_dtm = pd.read_csv('ign_data/ign_corpus_pass_one_dtm.csv')\n",
    "print(corpus_dtm.shape)\n",
    "corpus_sum_dtm = corpus_dtm.sum()"
   ]
  },
  {
   "cell_type": "code",
   "execution_count": 29,
   "metadata": {},
   "outputs": [
    {
     "name": "stdout",
     "output_type": "stream",
     "text": [
      "(3, 14)\n"
     ]
    },
    {
     "data": {
      "text/html": [
       "<div>\n",
       "<style scoped>\n",
       "    .dataframe tbody tr th:only-of-type {\n",
       "        vertical-align: middle;\n",
       "    }\n",
       "\n",
       "    .dataframe tbody tr th {\n",
       "        vertical-align: top;\n",
       "    }\n",
       "\n",
       "    .dataframe thead th {\n",
       "        text-align: right;\n",
       "    }\n",
       "</style>\n",
       "<table border=\"1\" class=\"dataframe\">\n",
       "  <thead>\n",
       "    <tr style=\"text-align: right;\">\n",
       "      <th></th>\n",
       "      <th>links</th>\n",
       "      <th>rough_review_body</th>\n",
       "      <th>cleaned_review_body</th>\n",
       "      <th>review_summary_rough</th>\n",
       "      <th>review_score</th>\n",
       "      <th>tags</th>\n",
       "      <th>categories</th>\n",
       "      <th>modified_date</th>\n",
       "      <th>published_date</th>\n",
       "      <th>author_name</th>\n",
       "      <th>tag_list</th>\n",
       "      <th>categories_list</th>\n",
       "      <th>review_title</th>\n",
       "      <th>review_body_corpus</th>\n",
       "    </tr>\n",
       "  </thead>\n",
       "  <tbody>\n",
       "    <tr>\n",
       "      <th>1</th>\n",
       "      <td>https://www.ign.com/articles/2011/07/19/warham...</td>\n",
       "      <td>\\u003csection class=\\\"article-page\\\"\\u003e\\u00...</td>\n",
       "      <td>'Warhammer 40K: Kill Team might be unfortun...</td>\n",
       "      <td>\"And \\\"also-ran\\\" hangs all over Warhammer 40K...</td>\n",
       "      <td>6.5</td>\n",
       "      <td>:[\"review\",\"blogroll\",\"event-essentials\",\"hot\"...</td>\n",
       "      <td>:[\"ign\",\"ps3\",\"xbox-360\",\"xbox-live\"],</td>\n",
       "      <td>2011-10-18T05:59:32+0000</td>\n",
       "      <td>2011-07-19T19:47:00+0000</td>\n",
       "      <td>\"Arthur Gies\"</td>\n",
       "      <td>[review, blogroll, event-essentials, hot, lega...</td>\n",
       "      <td>[ign, ps3, xbox-360, xbox-live, ]</td>\n",
       "      <td>\"Warhammer 40K: Kill Team Review\"</td>\n",
       "      <td>warhammer 40k kill team might be unfortunat...</td>\n",
       "    </tr>\n",
       "    <tr>\n",
       "      <th>2</th>\n",
       "      <td>https://www.ign.com/articles/2011/07/20/call-o...</td>\n",
       "      <td>\\u003csection class=\\\"article-page\\\"\\u003eThe ...</td>\n",
       "      <td>The Call of Juarez franchise always intereste...</td>\n",
       "      <td>\"Call of Juarez: The Cartel is a poor change o...</td>\n",
       "      <td>4.5</td>\n",
       "      <td>:[\"review\",\"blogroll\",\"call-of-juarez-the-cart...</td>\n",
       "      <td>:[\"ign\",\"pc\",\"ps3\",\"xbox-360\"],</td>\n",
       "      <td>2011-10-18T06:02:02+0000</td>\n",
       "      <td>2011-07-20T00:14:00+0000</td>\n",
       "      <td>\"Anthony Gallegos\"</td>\n",
       "      <td>[review, blogroll, call-of-juarez-the-cartel, ...</td>\n",
       "      <td>[ign, pc, ps3, xbox-360, ]</td>\n",
       "      <td>\"Call of Juarez: The Cartel Review\"</td>\n",
       "      <td>the call of juarez franchise always intereste...</td>\n",
       "    </tr>\n",
       "    <tr>\n",
       "      <th>3</th>\n",
       "      <td>https://www.ign.com/articles/2011/07/20/captai...</td>\n",
       "      <td>\\u003csection class=\\\"article-page\\\"\\u003eThe ...</td>\n",
       "      <td>The majority of movie games are just awful. S...</td>\n",
       "      <td>\"Captain America: Super Soldier is a mediocre ...</td>\n",
       "      <td>5.5</td>\n",
       "      <td>:[\"review\",\"blogroll\",\"legacy\",\"wii\",\"games\",\"...</td>\n",
       "      <td>:[\"ign\",\"wii\"],</td>\n",
       "      <td>2011-10-18T06:02:20+0000</td>\n",
       "      <td>2011-07-20T00:43:00+0000</td>\n",
       "      <td>\"Audrey Drake\"</td>\n",
       "      <td>[review, blogroll, legacy, wii, games, captain...</td>\n",
       "      <td>[ign, wii, ]</td>\n",
       "      <td>\"Captain America: Super Soldier Wii Review\"</td>\n",
       "      <td>the majority of movie games are just awful st...</td>\n",
       "    </tr>\n",
       "    <tr>\n",
       "      <th>4</th>\n",
       "      <td>https://www.ign.com/articles/2011/07/20/quiz-c...</td>\n",
       "      <td>\\u003csection class=\\\"article-page\\\"\\u003e\\u00...</td>\n",
       "      <td>'Quiz Climber, from Buzz! developer   'Rele...</td>\n",
       "      <td>\"Ultimately, Quiz Climber is just a little too...</td>\n",
       "      <td>6.5</td>\n",
       "      <td>:[\"review\",\"blogroll\",\"games\",\"legacy\",\"wirele...</td>\n",
       "      <td>:[\"ign\",\"wireless\"],</td>\n",
       "      <td>2011-10-18T06:07:06+0000</td>\n",
       "      <td>2011-07-20T21:44:00+0000</td>\n",
       "      <td>\"Justin Davis\"</td>\n",
       "      <td>[review, blogroll, games, legacy, wireless, qu...</td>\n",
       "      <td>[ign, wireless, ]</td>\n",
       "      <td>\"Quiz Climber Review\"</td>\n",
       "      <td>quiz climber from buzz developer   relentle...</td>\n",
       "    </tr>\n",
       "    <tr>\n",
       "      <th>5</th>\n",
       "      <td>https://www.ign.com/articles/2011/07/20/limbo-...</td>\n",
       "      <td>\\u003csection class=\\\"article-page\\\"\\u003eVide...</td>\n",
       "      <td>Video games are an art form made up of visual...</td>\n",
       "      <td>\"Limbo is an incredible achievement. Very few ...</td>\n",
       "      <td>9</td>\n",
       "      <td>:[\"review\",\"games\",\"legacy\",\"limbo\",\"platforme...</td>\n",
       "      <td>:[\"pc\",\"ps3\"],</td>\n",
       "      <td>2011-10-18T06:07:21+0000</td>\n",
       "      <td>2011-07-20T22:29:00+0000</td>\n",
       "      <td>\"Daemon Hatfield\"</td>\n",
       "      <td>[review, games, legacy, limbo, platformer, pla...</td>\n",
       "      <td>[pc, ps3, ]</td>\n",
       "      <td>\"Limbo Review\"</td>\n",
       "      <td>video games are an art form made up of visual...</td>\n",
       "    </tr>\n",
       "  </tbody>\n",
       "</table>\n",
       "</div>"
      ],
      "text/plain": [
       "                                               links  \\\n",
       "1  https://www.ign.com/articles/2011/07/19/warham...   \n",
       "2  https://www.ign.com/articles/2011/07/20/call-o...   \n",
       "3  https://www.ign.com/articles/2011/07/20/captai...   \n",
       "4  https://www.ign.com/articles/2011/07/20/quiz-c...   \n",
       "5  https://www.ign.com/articles/2011/07/20/limbo-...   \n",
       "\n",
       "                                   rough_review_body  \\\n",
       "1  \\u003csection class=\\\"article-page\\\"\\u003e\\u00...   \n",
       "2  \\u003csection class=\\\"article-page\\\"\\u003eThe ...   \n",
       "3  \\u003csection class=\\\"article-page\\\"\\u003eThe ...   \n",
       "4  \\u003csection class=\\\"article-page\\\"\\u003e\\u00...   \n",
       "5  \\u003csection class=\\\"article-page\\\"\\u003eVide...   \n",
       "\n",
       "                                 cleaned_review_body  \\\n",
       "1     'Warhammer 40K: Kill Team might be unfortun...   \n",
       "2   The Call of Juarez franchise always intereste...   \n",
       "3   The majority of movie games are just awful. S...   \n",
       "4     'Quiz Climber, from Buzz! developer   'Rele...   \n",
       "5   Video games are an art form made up of visual...   \n",
       "\n",
       "                                review_summary_rough review_score  \\\n",
       "1  \"And \\\"also-ran\\\" hangs all over Warhammer 40K...          6.5   \n",
       "2  \"Call of Juarez: The Cartel is a poor change o...          4.5   \n",
       "3  \"Captain America: Super Soldier is a mediocre ...          5.5   \n",
       "4  \"Ultimately, Quiz Climber is just a little too...          6.5   \n",
       "5  \"Limbo is an incredible achievement. Very few ...            9   \n",
       "\n",
       "                                                tags  \\\n",
       "1  :[\"review\",\"blogroll\",\"event-essentials\",\"hot\"...   \n",
       "2  :[\"review\",\"blogroll\",\"call-of-juarez-the-cart...   \n",
       "3  :[\"review\",\"blogroll\",\"legacy\",\"wii\",\"games\",\"...   \n",
       "4  :[\"review\",\"blogroll\",\"games\",\"legacy\",\"wirele...   \n",
       "5  :[\"review\",\"games\",\"legacy\",\"limbo\",\"platforme...   \n",
       "\n",
       "                               categories             modified_date  \\\n",
       "1  :[\"ign\",\"ps3\",\"xbox-360\",\"xbox-live\"],  2011-10-18T05:59:32+0000   \n",
       "2         :[\"ign\",\"pc\",\"ps3\",\"xbox-360\"],  2011-10-18T06:02:02+0000   \n",
       "3                         :[\"ign\",\"wii\"],  2011-10-18T06:02:20+0000   \n",
       "4                    :[\"ign\",\"wireless\"],  2011-10-18T06:07:06+0000   \n",
       "5                          :[\"pc\",\"ps3\"],  2011-10-18T06:07:21+0000   \n",
       "\n",
       "             published_date         author_name  \\\n",
       "1  2011-07-19T19:47:00+0000       \"Arthur Gies\"   \n",
       "2  2011-07-20T00:14:00+0000  \"Anthony Gallegos\"   \n",
       "3  2011-07-20T00:43:00+0000      \"Audrey Drake\"   \n",
       "4  2011-07-20T21:44:00+0000      \"Justin Davis\"   \n",
       "5  2011-07-20T22:29:00+0000   \"Daemon Hatfield\"   \n",
       "\n",
       "                                            tag_list  \\\n",
       "1  [review, blogroll, event-essentials, hot, lega...   \n",
       "2  [review, blogroll, call-of-juarez-the-cartel, ...   \n",
       "3  [review, blogroll, legacy, wii, games, captain...   \n",
       "4  [review, blogroll, games, legacy, wireless, qu...   \n",
       "5  [review, games, legacy, limbo, platformer, pla...   \n",
       "\n",
       "                     categories_list  \\\n",
       "1  [ign, ps3, xbox-360, xbox-live, ]   \n",
       "2         [ign, pc, ps3, xbox-360, ]   \n",
       "3                       [ign, wii, ]   \n",
       "4                  [ign, wireless, ]   \n",
       "5                        [pc, ps3, ]   \n",
       "\n",
       "                                  review_title  \\\n",
       "1            \"Warhammer 40K: Kill Team Review\"   \n",
       "2          \"Call of Juarez: The Cartel Review\"   \n",
       "3  \"Captain America: Super Soldier Wii Review\"   \n",
       "4                        \"Quiz Climber Review\"   \n",
       "5                               \"Limbo Review\"   \n",
       "\n",
       "                                  review_body_corpus  \n",
       "1     warhammer 40k kill team might be unfortunat...  \n",
       "2   the call of juarez franchise always intereste...  \n",
       "3   the majority of movie games are just awful st...  \n",
       "4     quiz climber from buzz developer   relentle...  \n",
       "5   video games are an art form made up of visual...  "
      ]
     },
     "execution_count": 29,
     "metadata": {},
     "output_type": "execute_result"
    }
   ],
   "source": [
    "null_score_df = ign_df.loc[ign_df['review_score']=='null']\n",
    "print(null_score_df.shape)\n",
    "null_score_df.head()\n"
   ]
  },
  {
   "cell_type": "markdown",
   "metadata": {},
   "source": [
    "# Consider redoing the analysis with reviews from dlc and wireless removed"
   ]
  },
  {
   "cell_type": "code",
   "execution_count": 31,
   "metadata": {},
   "outputs": [
    {
     "name": "stderr",
     "output_type": "stream",
     "text": [
      "C:\\Users\\TerrenceJEdmonds\\Anaconda3\\lib\\site-packages\\ipykernel_launcher.py:27: SettingWithCopyWarning: \n",
      "A value is trying to be set on a copy of a slice from a DataFrame.\n",
      "Try using .loc[row_indexer,col_indexer] = value instead\n",
      "\n",
      "See the caveats in the documentation: http://pandas.pydata.org/pandas-docs/stable/indexing.html#indexing-view-versus-copy\n",
      "C:\\Users\\TerrenceJEdmonds\\Anaconda3\\lib\\site-packages\\ipykernel_launcher.py:28: SettingWithCopyWarning: \n",
      "A value is trying to be set on a copy of a slice from a DataFrame.\n",
      "Try using .loc[row_indexer,col_indexer] = value instead\n",
      "\n",
      "See the caveats in the documentation: http://pandas.pydata.org/pandas-docs/stable/indexing.html#indexing-view-versus-copy\n",
      "C:\\Users\\TerrenceJEdmonds\\Anaconda3\\lib\\site-packages\\ipykernel_launcher.py:29: SettingWithCopyWarning: \n",
      "A value is trying to be set on a copy of a slice from a DataFrame.\n",
      "Try using .loc[row_indexer,col_indexer] = value instead\n",
      "\n",
      "See the caveats in the documentation: http://pandas.pydata.org/pandas-docs/stable/indexing.html#indexing-view-versus-copy\n"
     ]
    },
    {
     "data": {
      "text/html": [
       "<div>\n",
       "<style scoped>\n",
       "    .dataframe tbody tr th:only-of-type {\n",
       "        vertical-align: middle;\n",
       "    }\n",
       "\n",
       "    .dataframe tbody tr th {\n",
       "        vertical-align: top;\n",
       "    }\n",
       "\n",
       "    .dataframe thead th {\n",
       "        text-align: right;\n",
       "    }\n",
       "</style>\n",
       "<table border=\"1\" class=\"dataframe\">\n",
       "  <thead>\n",
       "    <tr style=\"text-align: right;\">\n",
       "      <th></th>\n",
       "      <th>links</th>\n",
       "      <th>rough_review_body</th>\n",
       "      <th>cleaned_review_body</th>\n",
       "      <th>review_summary_rough</th>\n",
       "      <th>review_score</th>\n",
       "      <th>tags</th>\n",
       "      <th>categories</th>\n",
       "      <th>modified_date</th>\n",
       "      <th>published_date</th>\n",
       "      <th>author_name</th>\n",
       "      <th>tag_list</th>\n",
       "      <th>categories_list</th>\n",
       "      <th>review_title</th>\n",
       "      <th>review_body_corpus</th>\n",
       "      <th>review_score_float</th>\n",
       "      <th>number_character_review</th>\n",
       "      <th>number_words_review</th>\n",
       "    </tr>\n",
       "  </thead>\n",
       "  <tbody>\n",
       "    <tr>\n",
       "      <th>1</th>\n",
       "      <td>https://www.ign.com/articles/2011/07/19/warham...</td>\n",
       "      <td>\\u003csection class=\\\"article-page\\\"\\u003e\\u00...</td>\n",
       "      <td>'Warhammer 40K: Kill Team might be unfortun...</td>\n",
       "      <td>\"And \\\"also-ran\\\" hangs all over Warhammer 40K...</td>\n",
       "      <td>6.5</td>\n",
       "      <td>:[\"review\",\"blogroll\",\"event-essentials\",\"hot\"...</td>\n",
       "      <td>:[\"ign\",\"ps3\",\"xbox-360\",\"xbox-live\"],</td>\n",
       "      <td>2011-10-18T05:59:32+0000</td>\n",
       "      <td>2011-07-19T19:47:00+0000</td>\n",
       "      <td>\"Arthur Gies\"</td>\n",
       "      <td>[review, blogroll, event-essentials, hot, lega...</td>\n",
       "      <td>[ign, ps3, xbox-360, xbox-live, ]</td>\n",
       "      <td>\"Warhammer 40K: Kill Team Review\"</td>\n",
       "      <td>warhammer 40k kill team might be unfortunat...</td>\n",
       "      <td>6.5</td>\n",
       "      <td>3705</td>\n",
       "      <td>642</td>\n",
       "    </tr>\n",
       "    <tr>\n",
       "      <th>2</th>\n",
       "      <td>https://www.ign.com/articles/2011/07/20/call-o...</td>\n",
       "      <td>\\u003csection class=\\\"article-page\\\"\\u003eThe ...</td>\n",
       "      <td>The Call of Juarez franchise always intereste...</td>\n",
       "      <td>\"Call of Juarez: The Cartel is a poor change o...</td>\n",
       "      <td>4.5</td>\n",
       "      <td>:[\"review\",\"blogroll\",\"call-of-juarez-the-cart...</td>\n",
       "      <td>:[\"ign\",\"pc\",\"ps3\",\"xbox-360\"],</td>\n",
       "      <td>2011-10-18T06:02:02+0000</td>\n",
       "      <td>2011-07-20T00:14:00+0000</td>\n",
       "      <td>\"Anthony Gallegos\"</td>\n",
       "      <td>[review, blogroll, call-of-juarez-the-cartel, ...</td>\n",
       "      <td>[ign, pc, ps3, xbox-360, ]</td>\n",
       "      <td>\"Call of Juarez: The Cartel Review\"</td>\n",
       "      <td>the call of juarez franchise always intereste...</td>\n",
       "      <td>4.5</td>\n",
       "      <td>3770</td>\n",
       "      <td>648</td>\n",
       "    </tr>\n",
       "    <tr>\n",
       "      <th>3</th>\n",
       "      <td>https://www.ign.com/articles/2011/07/20/captai...</td>\n",
       "      <td>\\u003csection class=\\\"article-page\\\"\\u003eThe ...</td>\n",
       "      <td>The majority of movie games are just awful. S...</td>\n",
       "      <td>\"Captain America: Super Soldier is a mediocre ...</td>\n",
       "      <td>5.5</td>\n",
       "      <td>:[\"review\",\"blogroll\",\"legacy\",\"wii\",\"games\",\"...</td>\n",
       "      <td>:[\"ign\",\"wii\"],</td>\n",
       "      <td>2011-10-18T06:02:20+0000</td>\n",
       "      <td>2011-07-20T00:43:00+0000</td>\n",
       "      <td>\"Audrey Drake\"</td>\n",
       "      <td>[review, blogroll, legacy, wii, games, captain...</td>\n",
       "      <td>[ign, wii, ]</td>\n",
       "      <td>\"Captain America: Super Soldier Wii Review\"</td>\n",
       "      <td>the majority of movie games are just awful st...</td>\n",
       "      <td>5.5</td>\n",
       "      <td>2675</td>\n",
       "      <td>474</td>\n",
       "    </tr>\n",
       "    <tr>\n",
       "      <th>4</th>\n",
       "      <td>https://www.ign.com/articles/2011/07/20/quiz-c...</td>\n",
       "      <td>\\u003csection class=\\\"article-page\\\"\\u003e\\u00...</td>\n",
       "      <td>'Quiz Climber, from Buzz! developer   'Rele...</td>\n",
       "      <td>\"Ultimately, Quiz Climber is just a little too...</td>\n",
       "      <td>6.5</td>\n",
       "      <td>:[\"review\",\"blogroll\",\"games\",\"legacy\",\"wirele...</td>\n",
       "      <td>:[\"ign\",\"wireless\"],</td>\n",
       "      <td>2011-10-18T06:07:06+0000</td>\n",
       "      <td>2011-07-20T21:44:00+0000</td>\n",
       "      <td>\"Justin Davis\"</td>\n",
       "      <td>[review, blogroll, games, legacy, wireless, qu...</td>\n",
       "      <td>[ign, wireless, ]</td>\n",
       "      <td>\"Quiz Climber Review\"</td>\n",
       "      <td>quiz climber from buzz developer   relentle...</td>\n",
       "      <td>6.5</td>\n",
       "      <td>1854</td>\n",
       "      <td>349</td>\n",
       "    </tr>\n",
       "    <tr>\n",
       "      <th>5</th>\n",
       "      <td>https://www.ign.com/articles/2011/07/20/limbo-...</td>\n",
       "      <td>\\u003csection class=\\\"article-page\\\"\\u003eVide...</td>\n",
       "      <td>Video games are an art form made up of visual...</td>\n",
       "      <td>\"Limbo is an incredible achievement. Very few ...</td>\n",
       "      <td>9</td>\n",
       "      <td>:[\"review\",\"games\",\"legacy\",\"limbo\",\"platforme...</td>\n",
       "      <td>:[\"pc\",\"ps3\"],</td>\n",
       "      <td>2011-10-18T06:07:21+0000</td>\n",
       "      <td>2011-07-20T22:29:00+0000</td>\n",
       "      <td>\"Daemon Hatfield\"</td>\n",
       "      <td>[review, games, legacy, limbo, platformer, pla...</td>\n",
       "      <td>[pc, ps3, ]</td>\n",
       "      <td>\"Limbo Review\"</td>\n",
       "      <td>video games are an art form made up of visual...</td>\n",
       "      <td>9.0</td>\n",
       "      <td>2938</td>\n",
       "      <td>527</td>\n",
       "    </tr>\n",
       "  </tbody>\n",
       "</table>\n",
       "</div>"
      ],
      "text/plain": [
       "                                               links  \\\n",
       "1  https://www.ign.com/articles/2011/07/19/warham...   \n",
       "2  https://www.ign.com/articles/2011/07/20/call-o...   \n",
       "3  https://www.ign.com/articles/2011/07/20/captai...   \n",
       "4  https://www.ign.com/articles/2011/07/20/quiz-c...   \n",
       "5  https://www.ign.com/articles/2011/07/20/limbo-...   \n",
       "\n",
       "                                   rough_review_body  \\\n",
       "1  \\u003csection class=\\\"article-page\\\"\\u003e\\u00...   \n",
       "2  \\u003csection class=\\\"article-page\\\"\\u003eThe ...   \n",
       "3  \\u003csection class=\\\"article-page\\\"\\u003eThe ...   \n",
       "4  \\u003csection class=\\\"article-page\\\"\\u003e\\u00...   \n",
       "5  \\u003csection class=\\\"article-page\\\"\\u003eVide...   \n",
       "\n",
       "                                 cleaned_review_body  \\\n",
       "1     'Warhammer 40K: Kill Team might be unfortun...   \n",
       "2   The Call of Juarez franchise always intereste...   \n",
       "3   The majority of movie games are just awful. S...   \n",
       "4     'Quiz Climber, from Buzz! developer   'Rele...   \n",
       "5   Video games are an art form made up of visual...   \n",
       "\n",
       "                                review_summary_rough review_score  \\\n",
       "1  \"And \\\"also-ran\\\" hangs all over Warhammer 40K...          6.5   \n",
       "2  \"Call of Juarez: The Cartel is a poor change o...          4.5   \n",
       "3  \"Captain America: Super Soldier is a mediocre ...          5.5   \n",
       "4  \"Ultimately, Quiz Climber is just a little too...          6.5   \n",
       "5  \"Limbo is an incredible achievement. Very few ...            9   \n",
       "\n",
       "                                                tags  \\\n",
       "1  :[\"review\",\"blogroll\",\"event-essentials\",\"hot\"...   \n",
       "2  :[\"review\",\"blogroll\",\"call-of-juarez-the-cart...   \n",
       "3  :[\"review\",\"blogroll\",\"legacy\",\"wii\",\"games\",\"...   \n",
       "4  :[\"review\",\"blogroll\",\"games\",\"legacy\",\"wirele...   \n",
       "5  :[\"review\",\"games\",\"legacy\",\"limbo\",\"platforme...   \n",
       "\n",
       "                               categories             modified_date  \\\n",
       "1  :[\"ign\",\"ps3\",\"xbox-360\",\"xbox-live\"],  2011-10-18T05:59:32+0000   \n",
       "2         :[\"ign\",\"pc\",\"ps3\",\"xbox-360\"],  2011-10-18T06:02:02+0000   \n",
       "3                         :[\"ign\",\"wii\"],  2011-10-18T06:02:20+0000   \n",
       "4                    :[\"ign\",\"wireless\"],  2011-10-18T06:07:06+0000   \n",
       "5                          :[\"pc\",\"ps3\"],  2011-10-18T06:07:21+0000   \n",
       "\n",
       "             published_date         author_name  \\\n",
       "1  2011-07-19T19:47:00+0000       \"Arthur Gies\"   \n",
       "2  2011-07-20T00:14:00+0000  \"Anthony Gallegos\"   \n",
       "3  2011-07-20T00:43:00+0000      \"Audrey Drake\"   \n",
       "4  2011-07-20T21:44:00+0000      \"Justin Davis\"   \n",
       "5  2011-07-20T22:29:00+0000   \"Daemon Hatfield\"   \n",
       "\n",
       "                                            tag_list  \\\n",
       "1  [review, blogroll, event-essentials, hot, lega...   \n",
       "2  [review, blogroll, call-of-juarez-the-cartel, ...   \n",
       "3  [review, blogroll, legacy, wii, games, captain...   \n",
       "4  [review, blogroll, games, legacy, wireless, qu...   \n",
       "5  [review, games, legacy, limbo, platformer, pla...   \n",
       "\n",
       "                     categories_list  \\\n",
       "1  [ign, ps3, xbox-360, xbox-live, ]   \n",
       "2         [ign, pc, ps3, xbox-360, ]   \n",
       "3                       [ign, wii, ]   \n",
       "4                  [ign, wireless, ]   \n",
       "5                        [pc, ps3, ]   \n",
       "\n",
       "                                  review_title  \\\n",
       "1            \"Warhammer 40K: Kill Team Review\"   \n",
       "2          \"Call of Juarez: The Cartel Review\"   \n",
       "3  \"Captain America: Super Soldier Wii Review\"   \n",
       "4                        \"Quiz Climber Review\"   \n",
       "5                               \"Limbo Review\"   \n",
       "\n",
       "                                  review_body_corpus  review_score_float  \\\n",
       "1     warhammer 40k kill team might be unfortunat...                 6.5   \n",
       "2   the call of juarez franchise always intereste...                 4.5   \n",
       "3   the majority of movie games are just awful st...                 5.5   \n",
       "4     quiz climber from buzz developer   relentle...                 6.5   \n",
       "5   video games are an art form made up of visual...                 9.0   \n",
       "\n",
       "   number_character_review  number_words_review  \n",
       "1                     3705                  642  \n",
       "2                     3770                  648  \n",
       "3                     2675                  474  \n",
       "4                     1854                  349  \n",
       "5                     2938                  527  "
      ]
     },
     "execution_count": 31,
     "metadata": {},
     "output_type": "execute_result"
    }
   ],
   "source": [
    "# print(type(ign_df['review_score'].loc[1]))\n",
    "\n",
    "# let's add some more data pieces \n",
    "\n",
    "ign_filtered_df = ign_df.loc[ign_df['review_score']!='null']\n",
    "ign_filtered_df.reset_index(drop=True)\n",
    "# ign_filtered_df.head()\n",
    "\n",
    "def make_float(text):\n",
    "    \n",
    "    new_float = float(text)\n",
    "    \n",
    "    return new_float\n",
    "\n",
    "def num_characters(text):\n",
    "    \n",
    "    number = len(text)\n",
    "    \n",
    "    return number\n",
    "\n",
    "def num_words(text):\n",
    "    \n",
    "    number = len(text.split(' '))\n",
    "    \n",
    "    return number\n",
    "\n",
    "ign_filtered_df['review_score_float'] = pd.DataFrame(ign_filtered_df.review_score.apply(make_float))\n",
    "ign_filtered_df['number_character_review'] = pd.DataFrame(ign_filtered_df.cleaned_review_body.apply(num_characters))\n",
    "ign_filtered_df['number_words_review'] = pd.DataFrame(ign_filtered_df.cleaned_review_body.apply(num_words))\n",
    "ign_filtered_df.head()"
   ]
  },
  {
   "cell_type": "code",
   "execution_count": 210,
   "metadata": {},
   "outputs": [],
   "source": [
    "# save to file again\n",
    "ign_filtered_df.to_pickle('ign_data/ign_data_pass_two.pkl')"
   ]
  },
  {
   "cell_type": "code",
   "execution_count": 35,
   "metadata": {},
   "outputs": [
    {
     "data": {
      "image/png": "[encoded data removed]",
      "text/plain": [
       "<Figure size 432x288 with 1 Axes>"
      ]
     },
     "metadata": {},
     "output_type": "display_data"
    }
   ],
   "source": [
    "# make some basic plots of my numerical stuff\n",
    "sns.set(style='whitegrid')\n",
    "# sns.violinplot(ign_filtered_df['review_score_float'])\n",
    "sns.distplot(ign_filtered_df['review_score_float'])\n",
    "plt.show()"
   ]
  },
  {
   "cell_type": "code",
   "execution_count": 41,
   "metadata": {},
   "outputs": [
    {
     "data": {
      "image/png": "[encoded data removed]",
      "text/plain": [
       "<Figure size 432x288 with 1 Axes>"
      ]
     },
     "metadata": {},
     "output_type": "display_data"
    },
    {
     "data": {
      "image/png": "[encoded data removed]",
      "text/plain": [
       "<Figure size 432x288 with 1 Axes>"
      ]
     },
     "metadata": {},
     "output_type": "display_data"
    },
    {
     "data": {
      "image/png": "[encoded data removed]",
      "text/plain": [
       "<Figure size 432x288 with 1 Axes>"
      ]
     },
     "metadata": {},
     "output_type": "display_data"
    }
   ],
   "source": [
    "sns.violinplot(ign_filtered_df['review_score_float'])\n",
    "plt.show()\n",
    "sns.violinplot(ign_filtered_df['number_words_review'])\n",
    "plt.show()\n",
    "sns.violinplot(ign_filtered_df['number_character_review'])\n",
    "plt.show()"
   ]
  },
  {
   "cell_type": "code",
   "execution_count": 181,
   "metadata": {},
   "outputs": [
    {
     "data": {
      "image/png": "[encoded data removed]",
      "text/plain": [
       "<Figure size 576x576 with 3 Axes>"
      ]
     },
     "metadata": {},
     "output_type": "display_data"
    },
    {
     "data": {
      "image/png": "[encoded data removed]",
      "text/plain": [
       "<Figure size 576x576 with 3 Axes>"
      ]
     },
     "metadata": {},
     "output_type": "display_data"
    },
    {
     "data": {
      "image/png": "[encoded data removed]",
      "text/plain": [
       "<Figure size 576x576 with 3 Axes>"
      ]
     },
     "metadata": {},
     "output_type": "display_data"
    },
    {
     "name": "stdout",
     "output_type": "stream",
     "text": [
      "correlation =  0.3059467207292463\n"
     ]
    }
   ],
   "source": [
    "some_numbers_df = ign_filtered_df[['review_score_float','number_words_review','number_character_review']]\n",
    "some_numbers_df.head()\n",
    "height = 8\n",
    "sns.jointplot(y='number_words_review', x='review_score_float', data=some_numbers_df, height=height)\n",
    "plt.show()\n",
    "with sns.axes_style('white'):\n",
    "    sns.jointplot(y='number_words_review', x='review_score_float', data=some_numbers_df, \n",
    "                  kind='hex', color='k', height=height)\n",
    "plt.show()\n",
    "sns.jointplot(y='number_words_review', x='review_score_float', \n",
    "              data=some_numbers_df, kind='kde', height=height)\n",
    "plt.show()\n",
    "\n",
    "# calculate correlation\n",
    "col1 = ign_filtered_df['review_score_float']\n",
    "col2 = ign_filtered_df['number_words_review']\n",
    "score_word_corr = col1.corr(col2)\n",
    "print('correlation = ', score_word_corr)"
   ]
  },
  {
   "cell_type": "code",
   "execution_count": 167,
   "metadata": {
    "collapsed": true,
    "jupyter": {
     "outputs_hidden": true
    }
   },
   "outputs": [
    {
     "name": "stdout",
     "output_type": "stream",
     "text": [
      "(20, 17)\n",
      "https://www.ign.com/articles/2002/05/15/morrowind-review\n"
     ]
    },
    {
     "data": {
      "text/html": [
       "<div>\n",
       "<style scoped>\n",
       "    .dataframe tbody tr th:only-of-type {\n",
       "        vertical-align: middle;\n",
       "    }\n",
       "\n",
       "    .dataframe tbody tr th {\n",
       "        vertical-align: top;\n",
       "    }\n",
       "\n",
       "    .dataframe thead th {\n",
       "        text-align: right;\n",
       "    }\n",
       "</style>\n",
       "<table border=\"1\" class=\"dataframe\">\n",
       "  <thead>\n",
       "    <tr style=\"text-align: right;\">\n",
       "      <th></th>\n",
       "      <th>links</th>\n",
       "      <th>rough_review_body</th>\n",
       "      <th>cleaned_review_body</th>\n",
       "      <th>review_summary_rough</th>\n",
       "      <th>review_score</th>\n",
       "      <th>tags</th>\n",
       "      <th>categories</th>\n",
       "      <th>modified_date</th>\n",
       "      <th>published_date</th>\n",
       "      <th>author_name</th>\n",
       "      <th>tag_list</th>\n",
       "      <th>categories_list</th>\n",
       "      <th>review_title</th>\n",
       "      <th>review_body_corpus</th>\n",
       "      <th>review_score_float</th>\n",
       "      <th>number_character_review</th>\n",
       "      <th>number_words_review</th>\n",
       "    </tr>\n",
       "  </thead>\n",
       "  <tbody>\n",
       "    <tr>\n",
       "      <th>3273</th>\n",
       "      <td>https://www.ign.com/articles/2009/09/09/little...</td>\n",
       "      <td>\\u003csection class=\\\"article-page\\\"\\u003eIt's...</td>\n",
       "      <td>It's been a good while since we saw the first...</td>\n",
       "      <td>\"As you can see, I had a ton to say in this re...</td>\n",
       "      <td>9.5</td>\n",
       "      <td>:[\"review\",\"blogroll\",\"event-essentials\",\"hot\"...</td>\n",
       "      <td>:[\"ign\",\"ps3\"],</td>\n",
       "      <td>2012-05-10T09:51:23+0000</td>\n",
       "      <td>2009-09-09T23:55:00+0000</td>\n",
       "      <td>\"Chris Roper and Greg Miller\"</td>\n",
       "      <td>[review, blogroll, event-essentials, hot, lega...</td>\n",
       "      <td>[ign, ps3, ]</td>\n",
       "      <td>\"LittleBigPlanet: Game of the Year Edition Rev...</td>\n",
       "      <td>its been a good while since we saw the first ...</td>\n",
       "      <td>9.5</td>\n",
       "      <td>23764</td>\n",
       "      <td>4512</td>\n",
       "    </tr>\n",
       "    <tr>\n",
       "      <th>4224</th>\n",
       "      <td>https://www.ign.com/articles/2008/11/10/wwe-sm...</td>\n",
       "      <td>\\u003csection class=\\\"article-page\\\"\\u003eIt's...</td>\n",
       "      <td>It's been awhile since I came across a collec...</td>\n",
       "      <td>\"In the end, WWE SmackDown vs. Raw 2009 (Colle...</td>\n",
       "      <td>7.8</td>\n",
       "      <td>:[\"review\",\"blogroll\",\"event-essentials\",\"hot\"...</td>\n",
       "      <td>:[\"ign\",\"ps3\",\"xbox-360\"],</td>\n",
       "      <td>2012-05-11T13:19:07+0000</td>\n",
       "      <td>2008-11-10T21:04:00+0000</td>\n",
       "      <td>\"Greg Miller\"</td>\n",
       "      <td>[review, blogroll, event-essentials, hot, lega...</td>\n",
       "      <td>[ign, ps3, xbox-360, ]</td>\n",
       "      <td>\"WWE SmackDown vs. Raw 2009 (Collector's Editi...</td>\n",
       "      <td>its been awhile since i came across a collect...</td>\n",
       "      <td>7.8</td>\n",
       "      <td>24321</td>\n",
       "      <td>4529</td>\n",
       "    </tr>\n",
       "    <tr>\n",
       "      <th>4884</th>\n",
       "      <td>https://www.ign.com/articles/2008/04/25/grand-...</td>\n",
       "      <td>\\u003csection class=\\\"article-page\\\"\\u003eCrim...</td>\n",
       "      <td>Criminals are an ugly, cowardly lot more wort...</td>\n",
       "      <td>\"Grand Theft Auto III was a revolutionary titl...</td>\n",
       "      <td>10</td>\n",
       "      <td>:[\"review\",\"blogroll\",\"event-essentials\",\"hot\"...</td>\n",
       "      <td>:[\"ign\",\"ps3\",\"xbox-360\"],</td>\n",
       "      <td>2012-05-12T08:43:52+0000</td>\n",
       "      <td>2008-04-25T22:00:00+0000</td>\n",
       "      <td>\"Hilary Goldstein\"</td>\n",
       "      <td>[review, blogroll, event-essentials, hot, lega...</td>\n",
       "      <td>[ign, ps3, xbox-360, ]</td>\n",
       "      <td>\"Grand Theft Auto IV Review\"</td>\n",
       "      <td>criminals are an ugly cowardly lot more worth...</td>\n",
       "      <td>10.0</td>\n",
       "      <td>26357</td>\n",
       "      <td>4839</td>\n",
       "    </tr>\n",
       "    <tr>\n",
       "      <th>4891</th>\n",
       "      <td>https://www.ign.com/articles/2008/04/25/grand-...</td>\n",
       "      <td>\\u003csection class=\\\"article-page\\\"\\u003eCrim...</td>\n",
       "      <td>Criminals are an ugly, cowardly lot more wort...</td>\n",
       "      <td>\"Grand Theft Auto III was a revolutionary titl...</td>\n",
       "      <td>10</td>\n",
       "      <td>:[\"review\",\"blogroll\",\"event-essentials\",\"hot\"...</td>\n",
       "      <td>:[\"ign\",\"ps3\",\"xbox-360\"],</td>\n",
       "      <td>2012-05-12T08:46:34+0000</td>\n",
       "      <td>2008-04-25T20:43:00+0000</td>\n",
       "      <td>\"Hilary Goldstein\"</td>\n",
       "      <td>[review, blogroll, event-essentials, hot, lega...</td>\n",
       "      <td>[ign, ps3, xbox-360, ]</td>\n",
       "      <td>\"Grand Theft Auto IV Review\"</td>\n",
       "      <td>criminals are an ugly cowardly lot more worth...</td>\n",
       "      <td>10.0</td>\n",
       "      <td>27071</td>\n",
       "      <td>4961</td>\n",
       "    </tr>\n",
       "    <tr>\n",
       "      <th>5975</th>\n",
       "      <td>https://www.ign.com/articles/2008/06/13/metal-...</td>\n",
       "      <td>\\u003csection class=\\\"article-page\\\"\\u003eTwen...</td>\n",
       "      <td>Twenty-one years ago, the gaming world was in...</td>\n",
       "      <td>\"Is it possible to give a game an 11?  If so, ...</td>\n",
       "      <td>10</td>\n",
       "      <td>:[\"review\",\"blogroll\",\"event-essentials\",\"hot\"...</td>\n",
       "      <td>:[\"ign\",\"ps3\"],</td>\n",
       "      <td>2012-05-13T03:46:17+0000</td>\n",
       "      <td>2008-06-13T19:24:00+0000</td>\n",
       "      <td>\"Jeff Haynes\"</td>\n",
       "      <td>[review, blogroll, event-essentials, hot, lega...</td>\n",
       "      <td>[ign, ps3, ]</td>\n",
       "      <td>\"Metal Gear Solid 4: Guns of the Patriots Limi...</td>\n",
       "      <td>twentyone years ago the gaming world was intr...</td>\n",
       "      <td>10.0</td>\n",
       "      <td>25457</td>\n",
       "      <td>4538</td>\n",
       "    </tr>\n",
       "  </tbody>\n",
       "</table>\n",
       "</div>"
      ],
      "text/plain": [
       "                                                  links  \\\n",
       "3273  https://www.ign.com/articles/2009/09/09/little...   \n",
       "4224  https://www.ign.com/articles/2008/11/10/wwe-sm...   \n",
       "4884  https://www.ign.com/articles/2008/04/25/grand-...   \n",
       "4891  https://www.ign.com/articles/2008/04/25/grand-...   \n",
       "5975  https://www.ign.com/articles/2008/06/13/metal-...   \n",
       "\n",
       "                                      rough_review_body  \\\n",
       "3273  \\u003csection class=\\\"article-page\\\"\\u003eIt's...   \n",
       "4224  \\u003csection class=\\\"article-page\\\"\\u003eIt's...   \n",
       "4884  \\u003csection class=\\\"article-page\\\"\\u003eCrim...   \n",
       "4891  \\u003csection class=\\\"article-page\\\"\\u003eCrim...   \n",
       "5975  \\u003csection class=\\\"article-page\\\"\\u003eTwen...   \n",
       "\n",
       "                                    cleaned_review_body  \\\n",
       "3273   It's been a good while since we saw the first...   \n",
       "4224   It's been awhile since I came across a collec...   \n",
       "4884   Criminals are an ugly, cowardly lot more wort...   \n",
       "4891   Criminals are an ugly, cowardly lot more wort...   \n",
       "5975   Twenty-one years ago, the gaming world was in...   \n",
       "\n",
       "                                   review_summary_rough review_score  \\\n",
       "3273  \"As you can see, I had a ton to say in this re...          9.5   \n",
       "4224  \"In the end, WWE SmackDown vs. Raw 2009 (Colle...          7.8   \n",
       "4884  \"Grand Theft Auto III was a revolutionary titl...           10   \n",
       "4891  \"Grand Theft Auto III was a revolutionary titl...           10   \n",
       "5975  \"Is it possible to give a game an 11?  If so, ...           10   \n",
       "\n",
       "                                                   tags  \\\n",
       "3273  :[\"review\",\"blogroll\",\"event-essentials\",\"hot\"...   \n",
       "4224  :[\"review\",\"blogroll\",\"event-essentials\",\"hot\"...   \n",
       "4884  :[\"review\",\"blogroll\",\"event-essentials\",\"hot\"...   \n",
       "4891  :[\"review\",\"blogroll\",\"event-essentials\",\"hot\"...   \n",
       "5975  :[\"review\",\"blogroll\",\"event-essentials\",\"hot\"...   \n",
       "\n",
       "                      categories             modified_date  \\\n",
       "3273             :[\"ign\",\"ps3\"],  2012-05-10T09:51:23+0000   \n",
       "4224  :[\"ign\",\"ps3\",\"xbox-360\"],  2012-05-11T13:19:07+0000   \n",
       "4884  :[\"ign\",\"ps3\",\"xbox-360\"],  2012-05-12T08:43:52+0000   \n",
       "4891  :[\"ign\",\"ps3\",\"xbox-360\"],  2012-05-12T08:46:34+0000   \n",
       "5975             :[\"ign\",\"ps3\"],  2012-05-13T03:46:17+0000   \n",
       "\n",
       "                published_date                    author_name  \\\n",
       "3273  2009-09-09T23:55:00+0000  \"Chris Roper and Greg Miller\"   \n",
       "4224  2008-11-10T21:04:00+0000                  \"Greg Miller\"   \n",
       "4884  2008-04-25T22:00:00+0000             \"Hilary Goldstein\"   \n",
       "4891  2008-04-25T20:43:00+0000             \"Hilary Goldstein\"   \n",
       "5975  2008-06-13T19:24:00+0000                  \"Jeff Haynes\"   \n",
       "\n",
       "                                               tag_list  \\\n",
       "3273  [review, blogroll, event-essentials, hot, lega...   \n",
       "4224  [review, blogroll, event-essentials, hot, lega...   \n",
       "4884  [review, blogroll, event-essentials, hot, lega...   \n",
       "4891  [review, blogroll, event-essentials, hot, lega...   \n",
       "5975  [review, blogroll, event-essentials, hot, lega...   \n",
       "\n",
       "             categories_list  \\\n",
       "3273            [ign, ps3, ]   \n",
       "4224  [ign, ps3, xbox-360, ]   \n",
       "4884  [ign, ps3, xbox-360, ]   \n",
       "4891  [ign, ps3, xbox-360, ]   \n",
       "5975            [ign, ps3, ]   \n",
       "\n",
       "                                           review_title  \\\n",
       "3273  \"LittleBigPlanet: Game of the Year Edition Rev...   \n",
       "4224  \"WWE SmackDown vs. Raw 2009 (Collector's Editi...   \n",
       "4884                       \"Grand Theft Auto IV Review\"   \n",
       "4891                       \"Grand Theft Auto IV Review\"   \n",
       "5975  \"Metal Gear Solid 4: Guns of the Patriots Limi...   \n",
       "\n",
       "                                     review_body_corpus  review_score_float  \\\n",
       "3273   its been a good while since we saw the first ...                 9.5   \n",
       "4224   its been awhile since i came across a collect...                 7.8   \n",
       "4884   criminals are an ugly cowardly lot more worth...                10.0   \n",
       "4891   criminals are an ugly cowardly lot more worth...                10.0   \n",
       "5975   twentyone years ago the gaming world was intr...                10.0   \n",
       "\n",
       "      number_character_review  number_words_review  \n",
       "3273                    23764                 4512  \n",
       "4224                    24321                 4529  \n",
       "4884                    26357                 4839  \n",
       "4891                    27071                 4961  \n",
       "5975                    25457                 4538  "
      ]
     },
     "execution_count": 167,
     "metadata": {},
     "output_type": "execute_result"
    }
   ],
   "source": [
    "# high number of words doesn't seem to be a mistake\n",
    "high_num_words = ign_filtered_df.loc[ign_filtered_df['number_words_review']>4500]\n",
    "high_num_words.reset_index()\n",
    "place = 13430\n",
    "print(high_num_words.shape)\n",
    "print(high_num_words['links'].loc[place])\n",
    "# high_num_words['cleaned_review_body'].loc[place]\n",
    "high_num_words.head()"
   ]
  },
  {
   "cell_type": "code",
   "execution_count": 171,
   "metadata": {},
   "outputs": [
    {
     "name": "stdout",
     "output_type": "stream",
     "text": [
      "(47, 17)\n",
      "https://www.ign.com/articles/2007/11/14/crazy-penguin-catapult-review\n",
      " You know all about Kung Fu Panda, but don't expect   'Kung Fu Dragon to be a similar cartoon romp starring an animal-in-training \\u0026#x2013; your characters here are human. Three different humans, each of whom is attempting to climb up an endless waterfall by relentlessly jumping, double-jumping, and bouncing off the backs of the birds, branches and boulders they encounter along the way.     --  --  This is a very simple, single-idea game on sale for just two bucks, so waterfall climbing is all you get \\u0026#x2013; and it's not too bad of a one-note design either. It's addictive to try to get higher and higher than you did the time before, as the game saves both your high score and the maximum elevation you've reached in each try. The three different characters each play a bit differently too (once you unlock them all) and their slowfall and rapidfall abilities give your single action of jumping around a bit more depth (and greatly help your timing in making your leaps).\n"
     ]
    },
    {
     "data": {
      "text/html": [
       "<div>\n",
       "<style scoped>\n",
       "    .dataframe tbody tr th:only-of-type {\n",
       "        vertical-align: middle;\n",
       "    }\n",
       "\n",
       "    .dataframe tbody tr th {\n",
       "        vertical-align: top;\n",
       "    }\n",
       "\n",
       "    .dataframe thead th {\n",
       "        text-align: right;\n",
       "    }\n",
       "</style>\n",
       "<table border=\"1\" class=\"dataframe\">\n",
       "  <thead>\n",
       "    <tr style=\"text-align: right;\">\n",
       "      <th></th>\n",
       "      <th>links</th>\n",
       "      <th>rough_review_body</th>\n",
       "      <th>cleaned_review_body</th>\n",
       "      <th>review_summary_rough</th>\n",
       "      <th>review_score</th>\n",
       "      <th>tags</th>\n",
       "      <th>categories</th>\n",
       "      <th>modified_date</th>\n",
       "      <th>published_date</th>\n",
       "      <th>author_name</th>\n",
       "      <th>tag_list</th>\n",
       "      <th>categories_list</th>\n",
       "      <th>review_title</th>\n",
       "      <th>review_body_corpus</th>\n",
       "      <th>review_score_float</th>\n",
       "      <th>number_character_review</th>\n",
       "      <th>number_words_review</th>\n",
       "    </tr>\n",
       "  </thead>\n",
       "  <tbody>\n",
       "    <tr>\n",
       "      <th>10</th>\n",
       "      <td>https://www.ign.com/articles/2011/07/22/kung-f...</td>\n",
       "      <td>\\u003csection class=\\\"article-page\\\"\\u003eYou ...</td>\n",
       "      <td>You know all about Kung Fu Panda, but don't e...</td>\n",
       "      <td>\"The dead space between the upper and lower sc...</td>\n",
       "      <td>7</td>\n",
       "      <td>:[\"review\",\"legacy\",\"nintendo-ds\",\"games\",\"kun...</td>\n",
       "      <td>:[\"ds\"],</td>\n",
       "      <td>2011-10-18T06:16:14+0000</td>\n",
       "      <td>2011-07-22T06:57:00+0000</td>\n",
       "      <td>\"Lucas M. Thomas\"</td>\n",
       "      <td>[review, legacy, nintendo-ds, games, kung-fu-d...</td>\n",
       "      <td>[ds, ]</td>\n",
       "      <td>\"Kung Fu Dragon Review\"</td>\n",
       "      <td>you know all about kung fu panda but dont exp...</td>\n",
       "      <td>7.0</td>\n",
       "      <td>989</td>\n",
       "      <td>177</td>\n",
       "    </tr>\n",
       "    <tr>\n",
       "      <th>121</th>\n",
       "      <td>https://www.ign.com/articles/2011/12/16/just-s...</td>\n",
       "      <td>\\u003csection class=\\\"article-page\\\"\\u003eOh, ...</td>\n",
       "      <td>Oh, for Santa's sake -- they made another one...</td>\n",
       "      <td>\"As it is, it's easy to keep this one of your ...</td>\n",
       "      <td>3</td>\n",
       "      <td>:[\"review\",\"legacy\",\"nintendo-ds\",\"games\",\"jus...</td>\n",
       "      <td>:[\"ds\"],</td>\n",
       "      <td>2012-01-05T20:19:06+0000</td>\n",
       "      <td>2011-12-16T07:55:00+0000</td>\n",
       "      <td>\"Lucas M. Thomas\"</td>\n",
       "      <td>[review, legacy, nintendo-ds, games, just-sing...</td>\n",
       "      <td>[ds, ]</td>\n",
       "      <td>\"Just SING! Christmas Vol. 3 Review\"</td>\n",
       "      <td>oh for santas sake  they made another one of ...</td>\n",
       "      <td>3.0</td>\n",
       "      <td>913</td>\n",
       "      <td>181</td>\n",
       "    </tr>\n",
       "    <tr>\n",
       "      <th>137</th>\n",
       "      <td>https://www.ign.com/articles/2011/12/08/word-s...</td>\n",
       "      <td>\\u003csection class=\\\"article-page\\\"\\u003eDeve...</td>\n",
       "      <td>Developer   'Digital Leisure has been adaptin...</td>\n",
       "      <td>\"Really, Word Searcher 4's as basic as it gets...</td>\n",
       "      <td>5</td>\n",
       "      <td>:[\"review\",\"legacy\",\"nintendo-ds\",\"games\",\"wor...</td>\n",
       "      <td>:[\"ds\"],</td>\n",
       "      <td>2012-01-05T20:53:37+0000</td>\n",
       "      <td>2011-12-08T23:25:00+0000</td>\n",
       "      <td>\"Lucas M. Thomas\"</td>\n",
       "      <td>[review, legacy, nintendo-ds, games, word-sear...</td>\n",
       "      <td>[ds, ]</td>\n",
       "      <td>\"Word Searcher 4 Review\"</td>\n",
       "      <td>developer   digital leisure has been adapting...</td>\n",
       "      <td>5.0</td>\n",
       "      <td>870</td>\n",
       "      <td>159</td>\n",
       "    </tr>\n",
       "    <tr>\n",
       "      <th>316</th>\n",
       "      <td>https://www.ign.com/articles/2011/10/21/castle...</td>\n",
       "      <td>\\u003csection class=\\\"article-page\\\"\\u003eBill...</td>\n",
       "      <td>Billed by its developers as \\\"a beginner's RT...</td>\n",
       "      <td>\"But all the while nothing ever feels too hard...</td>\n",
       "      <td>7.5</td>\n",
       "      <td>:[\"review\",\"legacy\",\"nintendo-ds\",\"games\",\"cas...</td>\n",
       "      <td>:[\"ds\"],</td>\n",
       "      <td>2012-01-18T18:25:31+0000</td>\n",
       "      <td>2011-10-21T06:59:00+0000</td>\n",
       "      <td>\"Lucas M. Thomas\"</td>\n",
       "      <td>[review, legacy, nintendo-ds, games, castle-co...</td>\n",
       "      <td>[ds, ]</td>\n",
       "      <td>\"Castle Conqueror -- Revolution Review\"</td>\n",
       "      <td>billed by its developers as a beginners rts  ...</td>\n",
       "      <td>7.5</td>\n",
       "      <td>1061</td>\n",
       "      <td>189</td>\n",
       "    </tr>\n",
       "    <tr>\n",
       "      <th>367</th>\n",
       "      <td>https://www.ign.com/articles/2011/10/07/house-...</td>\n",
       "      <td>\\u003csection class=\\\"article-page\\\"\\u003eThe ...</td>\n",
       "      <td>The curmudgeonly Dr. Gregory House is back fo...</td>\n",
       "      <td>\"So House's third episode earns the same ratin...</td>\n",
       "      <td>4</td>\n",
       "      <td>:[\"review\",\"legacy\",\"nintendo-ds\",\"games\",\"hou...</td>\n",
       "      <td>:[\"ds\"],</td>\n",
       "      <td>2012-01-18T20:00:18+0000</td>\n",
       "      <td>2011-10-07T06:57:00+0000</td>\n",
       "      <td>\"Lucas M. Thomas\"</td>\n",
       "      <td>[review, legacy, nintendo-ds, games, house-md-...</td>\n",
       "      <td>[ds, ]</td>\n",
       "      <td>\"House M.D. - Episode 3: Skull and Bones Review\"</td>\n",
       "      <td>the curmudgeonly dr gregory house is back for...</td>\n",
       "      <td>4.0</td>\n",
       "      <td>858</td>\n",
       "      <td>147</td>\n",
       "    </tr>\n",
       "  </tbody>\n",
       "</table>\n",
       "</div>"
      ],
      "text/plain": [
       "                                                 links  \\\n",
       "10   https://www.ign.com/articles/2011/07/22/kung-f...   \n",
       "121  https://www.ign.com/articles/2011/12/16/just-s...   \n",
       "137  https://www.ign.com/articles/2011/12/08/word-s...   \n",
       "316  https://www.ign.com/articles/2011/10/21/castle...   \n",
       "367  https://www.ign.com/articles/2011/10/07/house-...   \n",
       "\n",
       "                                     rough_review_body  \\\n",
       "10   \\u003csection class=\\\"article-page\\\"\\u003eYou ...   \n",
       "121  \\u003csection class=\\\"article-page\\\"\\u003eOh, ...   \n",
       "137  \\u003csection class=\\\"article-page\\\"\\u003eDeve...   \n",
       "316  \\u003csection class=\\\"article-page\\\"\\u003eBill...   \n",
       "367  \\u003csection class=\\\"article-page\\\"\\u003eThe ...   \n",
       "\n",
       "                                   cleaned_review_body  \\\n",
       "10    You know all about Kung Fu Panda, but don't e...   \n",
       "121   Oh, for Santa's sake -- they made another one...   \n",
       "137   Developer   'Digital Leisure has been adaptin...   \n",
       "316   Billed by its developers as \\\"a beginner's RT...   \n",
       "367   The curmudgeonly Dr. Gregory House is back fo...   \n",
       "\n",
       "                                  review_summary_rough review_score  \\\n",
       "10   \"The dead space between the upper and lower sc...            7   \n",
       "121  \"As it is, it's easy to keep this one of your ...            3   \n",
       "137  \"Really, Word Searcher 4's as basic as it gets...            5   \n",
       "316  \"But all the while nothing ever feels too hard...          7.5   \n",
       "367  \"So House's third episode earns the same ratin...            4   \n",
       "\n",
       "                                                  tags categories  \\\n",
       "10   :[\"review\",\"legacy\",\"nintendo-ds\",\"games\",\"kun...   :[\"ds\"],   \n",
       "121  :[\"review\",\"legacy\",\"nintendo-ds\",\"games\",\"jus...   :[\"ds\"],   \n",
       "137  :[\"review\",\"legacy\",\"nintendo-ds\",\"games\",\"wor...   :[\"ds\"],   \n",
       "316  :[\"review\",\"legacy\",\"nintendo-ds\",\"games\",\"cas...   :[\"ds\"],   \n",
       "367  :[\"review\",\"legacy\",\"nintendo-ds\",\"games\",\"hou...   :[\"ds\"],   \n",
       "\n",
       "                modified_date            published_date        author_name  \\\n",
       "10   2011-10-18T06:16:14+0000  2011-07-22T06:57:00+0000  \"Lucas M. Thomas\"   \n",
       "121  2012-01-05T20:19:06+0000  2011-12-16T07:55:00+0000  \"Lucas M. Thomas\"   \n",
       "137  2012-01-05T20:53:37+0000  2011-12-08T23:25:00+0000  \"Lucas M. Thomas\"   \n",
       "316  2012-01-18T18:25:31+0000  2011-10-21T06:59:00+0000  \"Lucas M. Thomas\"   \n",
       "367  2012-01-18T20:00:18+0000  2011-10-07T06:57:00+0000  \"Lucas M. Thomas\"   \n",
       "\n",
       "                                              tag_list categories_list  \\\n",
       "10   [review, legacy, nintendo-ds, games, kung-fu-d...          [ds, ]   \n",
       "121  [review, legacy, nintendo-ds, games, just-sing...          [ds, ]   \n",
       "137  [review, legacy, nintendo-ds, games, word-sear...          [ds, ]   \n",
       "316  [review, legacy, nintendo-ds, games, castle-co...          [ds, ]   \n",
       "367  [review, legacy, nintendo-ds, games, house-md-...          [ds, ]   \n",
       "\n",
       "                                         review_title  \\\n",
       "10                            \"Kung Fu Dragon Review\"   \n",
       "121              \"Just SING! Christmas Vol. 3 Review\"   \n",
       "137                          \"Word Searcher 4 Review\"   \n",
       "316           \"Castle Conqueror -- Revolution Review\"   \n",
       "367  \"House M.D. - Episode 3: Skull and Bones Review\"   \n",
       "\n",
       "                                    review_body_corpus  review_score_float  \\\n",
       "10    you know all about kung fu panda but dont exp...                 7.0   \n",
       "121   oh for santas sake  they made another one of ...                 3.0   \n",
       "137   developer   digital leisure has been adapting...                 5.0   \n",
       "316   billed by its developers as a beginners rts  ...                 7.5   \n",
       "367   the curmudgeonly dr gregory house is back for...                 4.0   \n",
       "\n",
       "     number_character_review  number_words_review  \n",
       "10                       989                  177  \n",
       "121                      913                  181  \n",
       "137                      870                  159  \n",
       "316                     1061                  189  \n",
       "367                      858                  147  "
      ]
     },
     "execution_count": 171,
     "metadata": {},
     "output_type": "execute_result"
    }
   ],
   "source": [
    "low_num_words = ign_filtered_df.loc[ign_filtered_df['number_words_review']<200]\n",
    "print(low_num_words.shape)\n",
    "print(low_num_words['links'].loc[7033])\n",
    "print(low_num_words['cleaned_review_body'].loc[10])\n",
    "low_num_words.head()"
   ]
  },
  {
   "cell_type": "markdown",
   "metadata": {},
   "source": [
    "In an effort to understand these plots a little better, lets take some averages of the data in bins (either half a point to a point) and see average word length. Should also plot the standard deviation\n",
    "\n",
    "- Could try to redistribute scores based on my understanding of their score criteria (https://corp.ign.com/review-practices) and just renormalizing it. \n",
    "\n",
    "- Could ask the question, what's the probability that a low score review gets many words written about it (bayesian stats BaBy!)\n",
    "\n",
    "- Can also compare the Bayesian approach to asking the question above and compare it to moving some number of standard deviations away from the mean\n",
    "\n",
    "- Questions: Are there similar tags between all games with short word counts? Are they mobile games? Or do a lot of them have authors in common?\n",
    "\n",
    "Bayesian style question: \n",
    "- Given that a review had a score of X, what is the probability that it's length is N?\n",
    "    - Can code up a solution and should be able to plot it as a function of N\n",
    "    \n",
    "Looking at pdg (http://pdg.lbl.gov/2018/reviews/rpp2018-rev-statistics.pdf) for some guidance\n",
    "\n",
    "# (7/7/2020)\n",
    "- So what I think I could do to resolve my lack of having a p(X|N) problem is I can just have a roughly empirical distribution for different bins, and that can be my p(X|N), then I can derive a p(N|X), and compare that to an empirical distribution of it as well and see how they look\n",
    "    - I could also just try to fit one of several well known distributions to it, and use some of the available parameters there\n",
    "- Michael also suggested I could fit some parameters with something called the method of moments, and also recommended that I start with log-normal and gamma distributions\n",
    "- I also want to go ahead and calculate the correlation"
   ]
  },
  {
   "cell_type": "code",
   "execution_count": 83,
   "metadata": {},
   "outputs": [
    {
     "name": "stdout",
     "output_type": "stream",
     "text": [
      "mean = 7.034355723098059 \t std = 1.6702255157617851\n",
      "these results really just indicate that the distribution is non gaussian\n",
      "\n",
      "mean = 1053.612320082248 \t std = 620.5888781062706\n"
     ]
    }
   ],
   "source": [
    "all_score_mean = pd.DataFrame.mean(some_numbers_df['review_score_float'])\n",
    "all_score_std = pd.DataFrame.std(some_numbers_df['review_score_float'])\n",
    "\n",
    "print('mean = {} \\t std = {}'.format(all_score_mean, all_score_std))\n",
    "print('these results really just indicate that the distribution is non gaussian\\n')\n",
    "\n",
    "num_word_mean = pd.DataFrame.mean(some_numbers_df['number_words_review'])\n",
    "num_word_std = pd.DataFrame.std(some_numbers_df['number_words_review'])\n",
    "print('mean = {} \\t std = {}'.format(num_word_mean, num_word_std))"
   ]
  },
  {
   "cell_type": "code",
   "execution_count": 218,
   "metadata": {},
   "outputs": [
    {
     "name": "stdout",
     "output_type": "stream",
     "text": [
      "number of reviews in each bin/area =\t [1, 38, 196, 357, 751, 1190, 1753, 3077, 3086, 1223] 11672\n",
      "(11672, 3)\n",
      "\n",
      "score means =  [0.8, 1.3236842105263158, 2.2785714285714285, 3.2971988795518197, 4.352996005326238, 5.3411764705882305, 6.377410154021653, 7.374130646733815, 8.320382372002586, 9.20572363041701] \n",
      "\n",
      "score stds =  [nan, 0.3052993307650314, 0.2789173207150675, 0.2829281029862806, 0.31763870248657433, 0.3096191981934785, 0.3123279819700672, 0.3133675471341657, 0.29611637994267326, 0.2680473346988973]\n",
      "\n",
      "num_words_mean =  [972.0, 677.1578947368421, 785.7091836734694, 798.4957983193277, 852.6138482023968, 867.0563025210084, 933.8899030233885, 979.2502437439064, 1172.0252754374594, 1547.6328699918233] \n",
      "\n",
      "num_words_std =  [nan, 272.3048298165018, 350.9142376302761, 344.9071493833949, 404.9970666823463, 415.55045746315733, 465.54730259548126, 570.2549310461225, 631.3604569415718, 899.7804388295785] \n",
      "\n",
      "[1, 272.3048298165018, 350.9142376302761, 344.9071493833949, 404.9970666823463, 415.55045746315733, 465.54730259548126, 570.2549310461225, 631.3604569415718, 899.7804388295785]\n"
     ]
    }
   ],
   "source": [
    "review_score_midpoints = [(0.5+x) for x in range(0,9)]\n",
    "\n",
    "sub_num_dfs = [some_numbers_df.loc[(some_numbers_df['review_score_float']>=x-0.5) & \n",
    "                                      (some_numbers_df['review_score_float']<x+0.5) ] \n",
    "                  for x in review_score_midpoints ]\n",
    "# picking up the edge case\n",
    "review_score_midpoints.append(9.5)\n",
    "sub_num_dfs.append(some_numbers_df.loc[(some_numbers_df['review_score_float']>=9.0) & \n",
    "                                      (some_numbers_df['review_score_float']<=10)] )\n",
    "\n",
    "sub_num_reviews = [x.shape[0] for x in sub_num_dfs]\n",
    "\n",
    "review_score_means = [pd.DataFrame.mean(x['review_score_float']) for x in sub_num_dfs]\n",
    "review_score_stds = [pd.DataFrame.std(x['review_score_float']) for x in sub_num_dfs]\n",
    "\n",
    "num_words_mean = [pd.DataFrame.mean(x['number_words_review']) for x in sub_num_dfs ]\n",
    "num_words_stds = [pd.DataFrame.std(x['number_words_review']) for x in sub_num_dfs ]\n",
    "\n",
    "\n",
    "print('number of reviews in each bin/area =\\t', sub_num_reviews, sum(sub_num_reviews) )\n",
    "print(some_numbers_df.shape)\n",
    "print()\n",
    "print('score means = ', review_score_means, '\\n')\n",
    "print('score stds = ', review_score_stds)\n",
    "print('\\nnum_words_mean = ', num_words_mean, '\\n')\n",
    "print('num_words_std = ', num_words_stds, '\\n')\n",
    "num_words_stds[0] = 1\n",
    "print(num_words_stds)"
   ]
  },
  {
   "cell_type": "code",
   "execution_count": 166,
   "metadata": {},
   "outputs": [
    {
     "data": {
      "application/vnd.plotly.v1+json": {
       "config": {
        "plotlyServerURL": "https://plot.ly"
       },
       "data": [
        {
         "type": "scatter",
         "x": [
          0.5,
          1.5,
          2.5,
          3.5,
          4.5,
          5.5,
          6.5,
          7.5,
          8.5,
          9.5
         ],
         "y": [
          1,
          38,
          196,
          357,
          751,
          1190,
          1753,
          3077,
          3086,
          1223
         ]
        }
       ],
       "layout": {
        "autosize": true,
        "template": {
         "data": {
          "bar": [
           {
            "error_x": {
             "color": "#2a3f5f"
            },
            "error_y": {
             "color": "#2a3f5f"
            },
            "marker": {
             "line": {
              "color": "#E5ECF6",
              "width": 0.5
             }
            },
            "type": "bar"
           }
          ],
          "barpolar": [
           {
            "marker": {
             "line": {
              "color": "#E5ECF6",
              "width": 0.5
             }
            },
            "type": "barpolar"
           }
          ],
          "carpet": [
           {
            "aaxis": {
             "endlinecolor": "#2a3f5f",
             "gridcolor": "white",
             "linecolor": "white",
             "minorgridcolor": "white",
             "startlinecolor": "#2a3f5f"
            },
            "baxis": {
             "endlinecolor": "#2a3f5f",
             "gridcolor": "white",
             "linecolor": "white",
             "minorgridcolor": "white",
             "startlinecolor": "#2a3f5f"
            },
            "type": "carpet"
           }
          ],
          "choropleth": [
           {
            "colorbar": {
             "outlinewidth": 0,
             "ticks": ""
            },
            "type": "choropleth"
           }
          ],
          "contour": [
           {
            "colorbar": {
             "outlinewidth": 0,
             "ticks": ""
            },
            "colorscale": [
             [
              0,
              "#0d0887"
             ],
             [
              0.1111111111111111,
              "#46039f"
             ],
             [
              0.2222222222222222,
              "#7201a8"
             ],
             [
              0.3333333333333333,
              "#9c179e"
             ],
             [
              0.4444444444444444,
              "#bd3786"
             ],
             [
              0.5555555555555556,
              "#d8576b"
             ],
             [
              0.6666666666666666,
              "#ed7953"
             ],
             [
              0.7777777777777778,
              "#fb9f3a"
             ],
             [
              0.8888888888888888,
              "#fdca26"
             ],
             [
              1,
              "#f0f921"
             ]
            ],
            "type": "contour"
           }
          ],
          "contourcarpet": [
           {
            "colorbar": {
             "outlinewidth": 0,
             "ticks": ""
            },
            "type": "contourcarpet"
           }
          ],
          "heatmap": [
           {
            "colorbar": {
             "outlinewidth": 0,
             "ticks": ""
            },
            "colorscale": [
             [
              0,
              "#0d0887"
             ],
             [
              0.1111111111111111,
              "#46039f"
             ],
             [
              0.2222222222222222,
              "#7201a8"
             ],
             [
              0.3333333333333333,
              "#9c179e"
             ],
             [
              0.4444444444444444,
              "#bd3786"
             ],
             [
              0.5555555555555556,
              "#d8576b"
             ],
             [
              0.6666666666666666,
              "#ed7953"
             ],
             [
              0.7777777777777778,
              "#fb9f3a"
             ],
             [
              0.8888888888888888,
              "#fdca26"
             ],
             [
              1,
              "#f0f921"
             ]
            ],
            "type": "heatmap"
           }
          ],
          "heatmapgl": [
           {
            "colorbar": {
             "outlinewidth": 0,
             "ticks": ""
            },
            "colorscale": [
             [
              0,
              "#0d0887"
             ],
             [
              0.1111111111111111,
              "#46039f"
             ],
             [
              0.2222222222222222,
              "#7201a8"
             ],
             [
              0.3333333333333333,
              "#9c179e"
             ],
             [
              0.4444444444444444,
              "#bd3786"
             ],
             [
              0.5555555555555556,
              "#d8576b"
             ],
             [
              0.6666666666666666,
              "#ed7953"
             ],
             [
              0.7777777777777778,
              "#fb9f3a"
             ],
             [
              0.8888888888888888,
              "#fdca26"
             ],
             [
              1,
              "#f0f921"
             ]
            ],
            "type": "heatmapgl"
           }
          ],
          "histogram": [
           {
            "marker": {
             "colorbar": {
              "outlinewidth": 0,
              "ticks": ""
             }
            },
            "type": "histogram"
           }
          ],
          "histogram2d": [
           {
            "colorbar": {
             "outlinewidth": 0,
             "ticks": ""
            },
            "colorscale": [
             [
              0,
              "#0d0887"
             ],
             [
              0.1111111111111111,
              "#46039f"
             ],
             [
              0.2222222222222222,
              "#7201a8"
             ],
             [
              0.3333333333333333,
              "#9c179e"
             ],
             [
              0.4444444444444444,
              "#bd3786"
             ],
             [
              0.5555555555555556,
              "#d8576b"
             ],
             [
              0.6666666666666666,
              "#ed7953"
             ],
             [
              0.7777777777777778,
              "#fb9f3a"
             ],
             [
              0.8888888888888888,
              "#fdca26"
             ],
             [
              1,
              "#f0f921"
             ]
            ],
            "type": "histogram2d"
           }
          ],
          "histogram2dcontour": [
           {
            "colorbar": {
             "outlinewidth": 0,
             "ticks": ""
            },
            "colorscale": [
             [
              0,
              "#0d0887"
             ],
             [
              0.1111111111111111,
              "#46039f"
             ],
             [
              0.2222222222222222,
              "#7201a8"
             ],
             [
              0.3333333333333333,
              "#9c179e"
             ],
             [
              0.4444444444444444,
              "#bd3786"
             ],
             [
              0.5555555555555556,
              "#d8576b"
             ],
             [
              0.6666666666666666,
              "#ed7953"
             ],
             [
              0.7777777777777778,
              "#fb9f3a"
             ],
             [
              0.8888888888888888,
              "#fdca26"
             ],
             [
              1,
              "#f0f921"
             ]
            ],
            "type": "histogram2dcontour"
           }
          ],
          "mesh3d": [
           {
            "colorbar": {
             "outlinewidth": 0,
             "ticks": ""
            },
            "type": "mesh3d"
           }
          ],
          "parcoords": [
           {
            "line": {
             "colorbar": {
              "outlinewidth": 0,
              "ticks": ""
             }
            },
            "type": "parcoords"
           }
          ],
          "pie": [
           {
            "automargin": true,
            "type": "pie"
           }
          ],
          "scatter": [
           {
            "marker": {
             "colorbar": {
              "outlinewidth": 0,
              "ticks": ""
             }
            },
            "type": "scatter"
           }
          ],
          "scatter3d": [
           {
            "line": {
             "colorbar": {
              "outlinewidth": 0,
              "ticks": ""
             }
            },
            "marker": {
             "colorbar": {
              "outlinewidth": 0,
              "ticks": ""
             }
            },
            "type": "scatter3d"
           }
          ],
          "scattercarpet": [
           {
            "marker": {
             "colorbar": {
              "outlinewidth": 0,
              "ticks": ""
             }
            },
            "type": "scattercarpet"
           }
          ],
          "scattergeo": [
           {
            "marker": {
             "colorbar": {
              "outlinewidth": 0,
              "ticks": ""
             }
            },
            "type": "scattergeo"
           }
          ],
          "scattergl": [
           {
            "marker": {
             "colorbar": {
              "outlinewidth": 0,
              "ticks": ""
             }
            },
            "type": "scattergl"
           }
          ],
          "scattermapbox": [
           {
            "marker": {
             "colorbar": {
              "outlinewidth": 0,
              "ticks": ""
             }
            },
            "type": "scattermapbox"
           }
          ],
          "scatterpolar": [
           {
            "marker": {
             "colorbar": {
              "outlinewidth": 0,
              "ticks": ""
             }
            },
            "type": "scatterpolar"
           }
          ],
          "scatterpolargl": [
           {
            "marker": {
             "colorbar": {
              "outlinewidth": 0,
              "ticks": ""
             }
            },
            "type": "scatterpolargl"
           }
          ],
          "scatterternary": [
           {
            "marker": {
             "colorbar": {
              "outlinewidth": 0,
              "ticks": ""
             }
            },
            "type": "scatterternary"
           }
          ],
          "surface": [
           {
            "colorbar": {
             "outlinewidth": 0,
             "ticks": ""
            },
            "colorscale": [
             [
              0,
              "#0d0887"
             ],
             [
              0.1111111111111111,
              "#46039f"
             ],
             [
              0.2222222222222222,
              "#7201a8"
             ],
             [
              0.3333333333333333,
              "#9c179e"
             ],
             [
              0.4444444444444444,
              "#bd3786"
             ],
             [
              0.5555555555555556,
              "#d8576b"
             ],
             [
              0.6666666666666666,
              "#ed7953"
             ],
             [
              0.7777777777777778,
              "#fb9f3a"
             ],
             [
              0.8888888888888888,
              "#fdca26"
             ],
             [
              1,
              "#f0f921"
             ]
            ],
            "type": "surface"
           }
          ],
          "table": [
           {
            "cells": {
             "fill": {
              "color": "#EBF0F8"
             },
             "line": {
              "color": "white"
             }
            },
            "header": {
             "fill": {
              "color": "#C8D4E3"
             },
             "line": {
              "color": "white"
             }
            },
            "type": "table"
           }
          ]
         },
         "layout": {
          "annotationdefaults": {
           "arrowcolor": "#2a3f5f",
           "arrowhead": 0,
           "arrowwidth": 1
          },
          "coloraxis": {
           "colorbar": {
            "outlinewidth": 0,
            "ticks": ""
           }
          },
          "colorscale": {
           "diverging": [
            [
             0,
             "#8e0152"
            ],
            [
             0.1,
             "#c51b7d"
            ],
            [
             0.2,
             "#de77ae"
            ],
            [
             0.3,
             "#f1b6da"
            ],
            [
             0.4,
             "#fde0ef"
            ],
            [
             0.5,
             "#f7f7f7"
            ],
            [
             0.6,
             "#e6f5d0"
            ],
            [
             0.7,
             "#b8e186"
            ],
            [
             0.8,
             "#7fbc41"
            ],
            [
             0.9,
             "#4d9221"
            ],
            [
             1,
             "#276419"
            ]
           ],
           "sequential": [
            [
             0,
             "#0d0887"
            ],
            [
             0.1111111111111111,
             "#46039f"
            ],
            [
             0.2222222222222222,
             "#7201a8"
            ],
            [
             0.3333333333333333,
             "#9c179e"
            ],
            [
             0.4444444444444444,
             "#bd3786"
            ],
            [
             0.5555555555555556,
             "#d8576b"
            ],
            [
             0.6666666666666666,
             "#ed7953"
            ],
            [
             0.7777777777777778,
             "#fb9f3a"
            ],
            [
             0.8888888888888888,
             "#fdca26"
            ],
            [
             1,
             "#f0f921"
            ]
           ],
           "sequentialminus": [
            [
             0,
             "#0d0887"
            ],
            [
             0.1111111111111111,
             "#46039f"
            ],
            [
             0.2222222222222222,
             "#7201a8"
            ],
            [
             0.3333333333333333,
             "#9c179e"
            ],
            [
             0.4444444444444444,
             "#bd3786"
            ],
            [
             0.5555555555555556,
             "#d8576b"
            ],
            [
             0.6666666666666666,
             "#ed7953"
            ],
            [
             0.7777777777777778,
             "#fb9f3a"
            ],
            [
             0.8888888888888888,
             "#fdca26"
            ],
            [
             1,
             "#f0f921"
            ]
           ]
          },
          "colorway": [
           "#636efa",
           "#EF553B",
           "#00cc96",
           "#ab63fa",
           "#FFA15A",
           "#19d3f3",
           "#FF6692",
           "#B6E880",
           "#FF97FF",
           "#FECB52"
          ],
          "font": {
           "color": "#2a3f5f"
          },
          "geo": {
           "bgcolor": "white",
           "lakecolor": "white",
           "landcolor": "#E5ECF6",
           "showlakes": true,
           "showland": true,
           "subunitcolor": "white"
          },
          "hoverlabel": {
           "align": "left"
          },
          "hovermode": "closest",
          "mapbox": {
           "style": "light"
          },
          "paper_bgcolor": "white",
          "plot_bgcolor": "#E5ECF6",
          "polar": {
           "angularaxis": {
            "gridcolor": "white",
            "linecolor": "white",
            "ticks": ""
           },
           "bgcolor": "#E5ECF6",
           "radialaxis": {
            "gridcolor": "white",
            "linecolor": "white",
            "ticks": ""
           }
          },
          "scene": {
           "xaxis": {
            "backgroundcolor": "#E5ECF6",
            "gridcolor": "white",
            "gridwidth": 2,
            "linecolor": "white",
            "showbackground": true,
            "ticks": "",
            "zerolinecolor": "white"
           },
           "yaxis": {
            "backgroundcolor": "#E5ECF6",
            "gridcolor": "white",
            "gridwidth": 2,
            "linecolor": "white",
            "showbackground": true,
            "ticks": "",
            "zerolinecolor": "white"
           },
           "zaxis": {
            "backgroundcolor": "#E5ECF6",
            "gridcolor": "white",
            "gridwidth": 2,
            "linecolor": "white",
            "showbackground": true,
            "ticks": "",
            "zerolinecolor": "white"
           }
          },
          "shapedefaults": {
           "line": {
            "color": "#2a3f5f"
           }
          },
          "ternary": {
           "aaxis": {
            "gridcolor": "white",
            "linecolor": "white",
            "ticks": ""
           },
           "baxis": {
            "gridcolor": "white",
            "linecolor": "white",
            "ticks": ""
           },
           "bgcolor": "#E5ECF6",
           "caxis": {
            "gridcolor": "white",
            "linecolor": "white",
            "ticks": ""
           }
          },
          "title": {
           "x": 0.05
          },
          "xaxis": {
           "automargin": true,
           "gridcolor": "white",
           "linecolor": "white",
           "ticks": "",
           "title": {
            "standoff": 15
           },
           "zerolinecolor": "white",
           "zerolinewidth": 2
          },
          "yaxis": {
           "automargin": true,
           "gridcolor": "white",
           "linecolor": "white",
           "ticks": "",
           "title": {
            "standoff": 15
           },
           "zerolinecolor": "white",
           "zerolinewidth": 2
          }
         }
        },
        "title": {
         "text": "number of reviews at score midpoints"
        },
        "xaxis": {
         "autorange": true,
         "dtick": 1,
         "range": [
          -0.06463288521199573,
          10.064632885211996
         ],
         "title": {
          "text": "review score bin points"
         },
         "type": "linear"
        },
        "yaxis": {
         "autorange": true,
         "range": [
          -0.25559269490357955,
          3.744988616630709
         ],
         "title": {
          "text": "number of reviews"
         },
         "type": "log"
        }
       }
      },
      "image/png": "[encoded data removed]",
      "text/html": [
       "<div>\n",
       "        \n",
       "        \n",
       "            <div id=\"d91c3896-e93a-468b-adf4-5929f3c8233f\" class=\"plotly-graph-div\" style=\"height:525px; width:100%;\"></div>\n",
       "            <script type=\"text/javascript\">\n",
       "                require([\"plotly\"], function(Plotly) {\n",
       "                    window.PLOTLYENV=window.PLOTLYENV || {};\n",
       "                    \n",
       "                if (document.getElementById(\"d91c3896-e93a-468b-adf4-5929f3c8233f\")) {\n",
       "                    Plotly.newPlot(\n",
       "                        'd91c3896-e93a-468b-adf4-5929f3c8233f',\n",
       "                        [{\"type\": \"scatter\", \"x\": [0.5, 1.5, 2.5, 3.5, 4.5, 5.5, 6.5, 7.5, 8.5, 9.5], \"y\": [1, 38, 196, 357, 751, 1190, 1753, 3077, 3086, 1223]}],\n",
       "                        {\"template\": {\"data\": {\"bar\": [{\"error_x\": {\"color\": \"#2a3f5f\"}, \"error_y\": {\"color\": \"#2a3f5f\"}, \"marker\": {\"line\": {\"color\": \"#E5ECF6\", \"width\": 0.5}}, \"type\": \"bar\"}], \"barpolar\": [{\"marker\": {\"line\": {\"color\": \"#E5ECF6\", \"width\": 0.5}}, \"type\": \"barpolar\"}], \"carpet\": [{\"aaxis\": {\"endlinecolor\": \"#2a3f5f\", \"gridcolor\": \"white\", \"linecolor\": \"white\", \"minorgridcolor\": \"white\", \"startlinecolor\": \"#2a3f5f\"}, \"baxis\": {\"endlinecolor\": \"#2a3f5f\", \"gridcolor\": \"white\", \"linecolor\": \"white\", \"minorgridcolor\": \"white\", \"startlinecolor\": \"#2a3f5f\"}, \"type\": \"carpet\"}], \"choropleth\": [{\"colorbar\": {\"outlinewidth\": 0, \"ticks\": \"\"}, \"type\": \"choropleth\"}], \"contour\": [{\"colorbar\": {\"outlinewidth\": 0, \"ticks\": \"\"}, \"colorscale\": [[0.0, \"#0d0887\"], [0.1111111111111111, \"#46039f\"], [0.2222222222222222, \"#7201a8\"], [0.3333333333333333, \"#9c179e\"], [0.4444444444444444, \"#bd3786\"], [0.5555555555555556, \"#d8576b\"], [0.6666666666666666, \"#ed7953\"], [0.7777777777777778, \"#fb9f3a\"], [0.8888888888888888, \"#fdca26\"], [1.0, \"#f0f921\"]], \"type\": \"contour\"}], \"contourcarpet\": [{\"colorbar\": {\"outlinewidth\": 0, \"ticks\": \"\"}, \"type\": \"contourcarpet\"}], \"heatmap\": [{\"colorbar\": {\"outlinewidth\": 0, \"ticks\": \"\"}, \"colorscale\": [[0.0, \"#0d0887\"], [0.1111111111111111, \"#46039f\"], [0.2222222222222222, \"#7201a8\"], [0.3333333333333333, \"#9c179e\"], [0.4444444444444444, \"#bd3786\"], [0.5555555555555556, \"#d8576b\"], [0.6666666666666666, \"#ed7953\"], [0.7777777777777778, \"#fb9f3a\"], [0.8888888888888888, \"#fdca26\"], [1.0, \"#f0f921\"]], \"type\": \"heatmap\"}], \"heatmapgl\": [{\"colorbar\": {\"outlinewidth\": 0, \"ticks\": \"\"}, \"colorscale\": [[0.0, \"#0d0887\"], [0.1111111111111111, \"#46039f\"], [0.2222222222222222, \"#7201a8\"], [0.3333333333333333, \"#9c179e\"], [0.4444444444444444, \"#bd3786\"], [0.5555555555555556, \"#d8576b\"], [0.6666666666666666, \"#ed7953\"], [0.7777777777777778, \"#fb9f3a\"], [0.8888888888888888, \"#fdca26\"], [1.0, \"#f0f921\"]], \"type\": \"heatmapgl\"}], \"histogram\": [{\"marker\": {\"colorbar\": {\"outlinewidth\": 0, \"ticks\": \"\"}}, \"type\": \"histogram\"}], \"histogram2d\": [{\"colorbar\": {\"outlinewidth\": 0, \"ticks\": \"\"}, \"colorscale\": [[0.0, \"#0d0887\"], [0.1111111111111111, \"#46039f\"], [0.2222222222222222, \"#7201a8\"], [0.3333333333333333, \"#9c179e\"], [0.4444444444444444, \"#bd3786\"], [0.5555555555555556, \"#d8576b\"], [0.6666666666666666, \"#ed7953\"], [0.7777777777777778, \"#fb9f3a\"], [0.8888888888888888, \"#fdca26\"], [1.0, \"#f0f921\"]], \"type\": \"histogram2d\"}], \"histogram2dcontour\": [{\"colorbar\": {\"outlinewidth\": 0, \"ticks\": \"\"}, \"colorscale\": [[0.0, \"#0d0887\"], [0.1111111111111111, \"#46039f\"], [0.2222222222222222, \"#7201a8\"], [0.3333333333333333, \"#9c179e\"], [0.4444444444444444, \"#bd3786\"], [0.5555555555555556, \"#d8576b\"], [0.6666666666666666, \"#ed7953\"], [0.7777777777777778, \"#fb9f3a\"], [0.8888888888888888, \"#fdca26\"], [1.0, \"#f0f921\"]], \"type\": \"histogram2dcontour\"}], \"mesh3d\": [{\"colorbar\": {\"outlinewidth\": 0, \"ticks\": \"\"}, \"type\": \"mesh3d\"}], \"parcoords\": [{\"line\": {\"colorbar\": {\"outlinewidth\": 0, \"ticks\": \"\"}}, \"type\": \"parcoords\"}], \"pie\": [{\"automargin\": true, \"type\": \"pie\"}], \"scatter\": [{\"marker\": {\"colorbar\": {\"outlinewidth\": 0, \"ticks\": \"\"}}, \"type\": \"scatter\"}], \"scatter3d\": [{\"line\": {\"colorbar\": {\"outlinewidth\": 0, \"ticks\": \"\"}}, \"marker\": {\"colorbar\": {\"outlinewidth\": 0, \"ticks\": \"\"}}, \"type\": \"scatter3d\"}], \"scattercarpet\": [{\"marker\": {\"colorbar\": {\"outlinewidth\": 0, \"ticks\": \"\"}}, \"type\": \"scattercarpet\"}], \"scattergeo\": [{\"marker\": {\"colorbar\": {\"outlinewidth\": 0, \"ticks\": \"\"}}, \"type\": \"scattergeo\"}], \"scattergl\": [{\"marker\": {\"colorbar\": {\"outlinewidth\": 0, \"ticks\": \"\"}}, \"type\": \"scattergl\"}], \"scattermapbox\": [{\"marker\": {\"colorbar\": {\"outlinewidth\": 0, \"ticks\": \"\"}}, \"type\": \"scattermapbox\"}], \"scatterpolar\": [{\"marker\": {\"colorbar\": {\"outlinewidth\": 0, \"ticks\": \"\"}}, \"type\": \"scatterpolar\"}], \"scatterpolargl\": [{\"marker\": {\"colorbar\": {\"outlinewidth\": 0, \"ticks\": \"\"}}, \"type\": \"scatterpolargl\"}], \"scatterternary\": [{\"marker\": {\"colorbar\": {\"outlinewidth\": 0, \"ticks\": \"\"}}, \"type\": \"scatterternary\"}], \"surface\": [{\"colorbar\": {\"outlinewidth\": 0, \"ticks\": \"\"}, \"colorscale\": [[0.0, \"#0d0887\"], [0.1111111111111111, \"#46039f\"], [0.2222222222222222, \"#7201a8\"], [0.3333333333333333, \"#9c179e\"], [0.4444444444444444, \"#bd3786\"], [0.5555555555555556, \"#d8576b\"], [0.6666666666666666, \"#ed7953\"], [0.7777777777777778, \"#fb9f3a\"], [0.8888888888888888, \"#fdca26\"], [1.0, \"#f0f921\"]], \"type\": \"surface\"}], \"table\": [{\"cells\": {\"fill\": {\"color\": \"#EBF0F8\"}, \"line\": {\"color\": \"white\"}}, \"header\": {\"fill\": {\"color\": \"#C8D4E3\"}, \"line\": {\"color\": \"white\"}}, \"type\": \"table\"}]}, \"layout\": {\"annotationdefaults\": {\"arrowcolor\": \"#2a3f5f\", \"arrowhead\": 0, \"arrowwidth\": 1}, \"coloraxis\": {\"colorbar\": {\"outlinewidth\": 0, \"ticks\": \"\"}}, \"colorscale\": {\"diverging\": [[0, \"#8e0152\"], [0.1, \"#c51b7d\"], [0.2, \"#de77ae\"], [0.3, \"#f1b6da\"], [0.4, \"#fde0ef\"], [0.5, \"#f7f7f7\"], [0.6, \"#e6f5d0\"], [0.7, \"#b8e186\"], [0.8, \"#7fbc41\"], [0.9, \"#4d9221\"], [1, \"#276419\"]], \"sequential\": [[0.0, \"#0d0887\"], [0.1111111111111111, \"#46039f\"], [0.2222222222222222, \"#7201a8\"], [0.3333333333333333, \"#9c179e\"], [0.4444444444444444, \"#bd3786\"], [0.5555555555555556, \"#d8576b\"], [0.6666666666666666, \"#ed7953\"], [0.7777777777777778, \"#fb9f3a\"], [0.8888888888888888, \"#fdca26\"], [1.0, \"#f0f921\"]], \"sequentialminus\": [[0.0, \"#0d0887\"], [0.1111111111111111, \"#46039f\"], [0.2222222222222222, \"#7201a8\"], [0.3333333333333333, \"#9c179e\"], [0.4444444444444444, \"#bd3786\"], [0.5555555555555556, \"#d8576b\"], [0.6666666666666666, \"#ed7953\"], [0.7777777777777778, \"#fb9f3a\"], [0.8888888888888888, \"#fdca26\"], [1.0, \"#f0f921\"]]}, \"colorway\": [\"#636efa\", \"#EF553B\", \"#00cc96\", \"#ab63fa\", \"#FFA15A\", \"#19d3f3\", \"#FF6692\", \"#B6E880\", \"#FF97FF\", \"#FECB52\"], \"font\": {\"color\": \"#2a3f5f\"}, \"geo\": {\"bgcolor\": \"white\", \"lakecolor\": \"white\", \"landcolor\": \"#E5ECF6\", \"showlakes\": true, \"showland\": true, \"subunitcolor\": \"white\"}, \"hoverlabel\": {\"align\": \"left\"}, \"hovermode\": \"closest\", \"mapbox\": {\"style\": \"light\"}, \"paper_bgcolor\": \"white\", \"plot_bgcolor\": \"#E5ECF6\", \"polar\": {\"angularaxis\": {\"gridcolor\": \"white\", \"linecolor\": \"white\", \"ticks\": \"\"}, \"bgcolor\": \"#E5ECF6\", \"radialaxis\": {\"gridcolor\": \"white\", \"linecolor\": \"white\", \"ticks\": \"\"}}, \"scene\": {\"xaxis\": {\"backgroundcolor\": \"#E5ECF6\", \"gridcolor\": \"white\", \"gridwidth\": 2, \"linecolor\": \"white\", \"showbackground\": true, \"ticks\": \"\", \"zerolinecolor\": \"white\"}, \"yaxis\": {\"backgroundcolor\": \"#E5ECF6\", \"gridcolor\": \"white\", \"gridwidth\": 2, \"linecolor\": \"white\", \"showbackground\": true, \"ticks\": \"\", \"zerolinecolor\": \"white\"}, \"zaxis\": {\"backgroundcolor\": \"#E5ECF6\", \"gridcolor\": \"white\", \"gridwidth\": 2, \"linecolor\": \"white\", \"showbackground\": true, \"ticks\": \"\", \"zerolinecolor\": \"white\"}}, \"shapedefaults\": {\"line\": {\"color\": \"#2a3f5f\"}}, \"ternary\": {\"aaxis\": {\"gridcolor\": \"white\", \"linecolor\": \"white\", \"ticks\": \"\"}, \"baxis\": {\"gridcolor\": \"white\", \"linecolor\": \"white\", \"ticks\": \"\"}, \"bgcolor\": \"#E5ECF6\", \"caxis\": {\"gridcolor\": \"white\", \"linecolor\": \"white\", \"ticks\": \"\"}}, \"title\": {\"x\": 0.05}, \"xaxis\": {\"automargin\": true, \"gridcolor\": \"white\", \"linecolor\": \"white\", \"ticks\": \"\", \"title\": {\"standoff\": 15}, \"zerolinecolor\": \"white\", \"zerolinewidth\": 2}, \"yaxis\": {\"automargin\": true, \"gridcolor\": \"white\", \"linecolor\": \"white\", \"ticks\": \"\", \"title\": {\"standoff\": 15}, \"zerolinecolor\": \"white\", \"zerolinewidth\": 2}}}, \"title\": {\"text\": \"number of reviews at score midpoints\"}, \"xaxis\": {\"dtick\": 1.0, \"title\": {\"text\": \"review score bin points\"}}, \"yaxis\": {\"title\": {\"text\": \"number of reviews\"}, \"type\": \"log\"}},\n",
       "                        {\"responsive\": true}\n",
       "                    ).then(function(){\n",
       "                            \n",
       "var gd = document.getElementById('d91c3896-e93a-468b-adf4-5929f3c8233f');\n",
       "var x = new MutationObserver(function (mutations, observer) {{\n",
       "        var display = window.getComputedStyle(gd).display;\n",
       "        if (!display || display === 'none') {{\n",
       "            console.log([gd, 'removed!']);\n",
       "            Plotly.purge(gd);\n",
       "            observer.disconnect();\n",
       "        }}\n",
       "}});\n",
       "\n",
       "// Listen for the removal of the full notebook cells\n",
       "var notebookContainer = gd.closest('#notebook-container');\n",
       "if (notebookContainer) {{\n",
       "    x.observe(notebookContainer, {childList: true});\n",
       "}}\n",
       "\n",
       "// Listen for the clearing of the current output cell\n",
       "var outputEl = gd.closest('.output');\n",
       "if (outputEl) {{\n",
       "    x.observe(outputEl, {childList: true});\n",
       "}}\n",
       "\n",
       "                        })\n",
       "                };\n",
       "                });\n",
       "            </script>\n",
       "        </div>"
      ]
     },
     "metadata": {},
     "output_type": "display_data"
    },
    {
     "name": "stdout",
     "output_type": "stream",
     "text": [
      "\n"
     ]
    },
    {
     "data": {
      "application/vnd.plotly.v1+json": {
       "config": {
        "plotlyServerURL": "https://plot.ly"
       },
       "data": [
        {
         "type": "scatter",
         "x": [
          0.5,
          1.5,
          2.5,
          3.5,
          4.5,
          5.5,
          6.5,
          7.5,
          8.5,
          9.5
         ],
         "y": [
          1,
          38,
          196,
          357,
          751,
          1190,
          1753,
          3077,
          3086,
          1223
         ]
        }
       ],
       "layout": {
        "autosize": true,
        "template": {
         "data": {
          "bar": [
           {
            "error_x": {
             "color": "#2a3f5f"
            },
            "error_y": {
             "color": "#2a3f5f"
            },
            "marker": {
             "line": {
              "color": "#E5ECF6",
              "width": 0.5
             }
            },
            "type": "bar"
           }
          ],
          "barpolar": [
           {
            "marker": {
             "line": {
              "color": "#E5ECF6",
              "width": 0.5
             }
            },
            "type": "barpolar"
           }
          ],
          "carpet": [
           {
            "aaxis": {
             "endlinecolor": "#2a3f5f",
             "gridcolor": "white",
             "linecolor": "white",
             "minorgridcolor": "white",
             "startlinecolor": "#2a3f5f"
            },
            "baxis": {
             "endlinecolor": "#2a3f5f",
             "gridcolor": "white",
             "linecolor": "white",
             "minorgridcolor": "white",
             "startlinecolor": "#2a3f5f"
            },
            "type": "carpet"
           }
          ],
          "choropleth": [
           {
            "colorbar": {
             "outlinewidth": 0,
             "ticks": ""
            },
            "type": "choropleth"
           }
          ],
          "contour": [
           {
            "colorbar": {
             "outlinewidth": 0,
             "ticks": ""
            },
            "colorscale": [
             [
              0,
              "#0d0887"
             ],
             [
              0.1111111111111111,
              "#46039f"
             ],
             [
              0.2222222222222222,
              "#7201a8"
             ],
             [
              0.3333333333333333,
              "#9c179e"
             ],
             [
              0.4444444444444444,
              "#bd3786"
             ],
             [
              0.5555555555555556,
              "#d8576b"
             ],
             [
              0.6666666666666666,
              "#ed7953"
             ],
             [
              0.7777777777777778,
              "#fb9f3a"
             ],
             [
              0.8888888888888888,
              "#fdca26"
             ],
             [
              1,
              "#f0f921"
             ]
            ],
            "type": "contour"
           }
          ],
          "contourcarpet": [
           {
            "colorbar": {
             "outlinewidth": 0,
             "ticks": ""
            },
            "type": "contourcarpet"
           }
          ],
          "heatmap": [
           {
            "colorbar": {
             "outlinewidth": 0,
             "ticks": ""
            },
            "colorscale": [
             [
              0,
              "#0d0887"
             ],
             [
              0.1111111111111111,
              "#46039f"
             ],
             [
              0.2222222222222222,
              "#7201a8"
             ],
             [
              0.3333333333333333,
              "#9c179e"
             ],
             [
              0.4444444444444444,
              "#bd3786"
             ],
             [
              0.5555555555555556,
              "#d8576b"
             ],
             [
              0.6666666666666666,
              "#ed7953"
             ],
             [
              0.7777777777777778,
              "#fb9f3a"
             ],
             [
              0.8888888888888888,
              "#fdca26"
             ],
             [
              1,
              "#f0f921"
             ]
            ],
            "type": "heatmap"
           }
          ],
          "heatmapgl": [
           {
            "colorbar": {
             "outlinewidth": 0,
             "ticks": ""
            },
            "colorscale": [
             [
              0,
              "#0d0887"
             ],
             [
              0.1111111111111111,
              "#46039f"
             ],
             [
              0.2222222222222222,
              "#7201a8"
             ],
             [
              0.3333333333333333,
              "#9c179e"
             ],
             [
              0.4444444444444444,
              "#bd3786"
             ],
             [
              0.5555555555555556,
              "#d8576b"
             ],
             [
              0.6666666666666666,
              "#ed7953"
             ],
             [
              0.7777777777777778,
              "#fb9f3a"
             ],
             [
              0.8888888888888888,
              "#fdca26"
             ],
             [
              1,
              "#f0f921"
             ]
            ],
            "type": "heatmapgl"
           }
          ],
          "histogram": [
           {
            "marker": {
             "colorbar": {
              "outlinewidth": 0,
              "ticks": ""
             }
            },
            "type": "histogram"
           }
          ],
          "histogram2d": [
           {
            "colorbar": {
             "outlinewidth": 0,
             "ticks": ""
            },
            "colorscale": [
             [
              0,
              "#0d0887"
             ],
             [
              0.1111111111111111,
              "#46039f"
             ],
             [
              0.2222222222222222,
              "#7201a8"
             ],
             [
              0.3333333333333333,
              "#9c179e"
             ],
             [
              0.4444444444444444,
              "#bd3786"
             ],
             [
              0.5555555555555556,
              "#d8576b"
             ],
             [
              0.6666666666666666,
              "#ed7953"
             ],
             [
              0.7777777777777778,
              "#fb9f3a"
             ],
             [
              0.8888888888888888,
              "#fdca26"
             ],
             [
              1,
              "#f0f921"
             ]
            ],
            "type": "histogram2d"
           }
          ],
          "histogram2dcontour": [
           {
            "colorbar": {
             "outlinewidth": 0,
             "ticks": ""
            },
            "colorscale": [
             [
              0,
              "#0d0887"
             ],
             [
              0.1111111111111111,
              "#46039f"
             ],
             [
              0.2222222222222222,
              "#7201a8"
             ],
             [
              0.3333333333333333,
              "#9c179e"
             ],
             [
              0.4444444444444444,
              "#bd3786"
             ],
             [
              0.5555555555555556,
              "#d8576b"
             ],
             [
              0.6666666666666666,
              "#ed7953"
             ],
             [
              0.7777777777777778,
              "#fb9f3a"
             ],
             [
              0.8888888888888888,
              "#fdca26"
             ],
             [
              1,
              "#f0f921"
             ]
            ],
            "type": "histogram2dcontour"
           }
          ],
          "mesh3d": [
           {
            "colorbar": {
             "outlinewidth": 0,
             "ticks": ""
            },
            "type": "mesh3d"
           }
          ],
          "parcoords": [
           {
            "line": {
             "colorbar": {
              "outlinewidth": 0,
              "ticks": ""
             }
            },
            "type": "parcoords"
           }
          ],
          "pie": [
           {
            "automargin": true,
            "type": "pie"
           }
          ],
          "scatter": [
           {
            "marker": {
             "colorbar": {
              "outlinewidth": 0,
              "ticks": ""
             }
            },
            "type": "scatter"
           }
          ],
          "scatter3d": [
           {
            "line": {
             "colorbar": {
              "outlinewidth": 0,
              "ticks": ""
             }
            },
            "marker": {
             "colorbar": {
              "outlinewidth": 0,
              "ticks": ""
             }
            },
            "type": "scatter3d"
           }
          ],
          "scattercarpet": [
           {
            "marker": {
             "colorbar": {
              "outlinewidth": 0,
              "ticks": ""
             }
            },
            "type": "scattercarpet"
           }
          ],
          "scattergeo": [
           {
            "marker": {
             "colorbar": {
              "outlinewidth": 0,
              "ticks": ""
             }
            },
            "type": "scattergeo"
           }
          ],
          "scattergl": [
           {
            "marker": {
             "colorbar": {
              "outlinewidth": 0,
              "ticks": ""
             }
            },
            "type": "scattergl"
           }
          ],
          "scattermapbox": [
           {
            "marker": {
             "colorbar": {
              "outlinewidth": 0,
              "ticks": ""
             }
            },
            "type": "scattermapbox"
           }
          ],
          "scatterpolar": [
           {
            "marker": {
             "colorbar": {
              "outlinewidth": 0,
              "ticks": ""
             }
            },
            "type": "scatterpolar"
           }
          ],
          "scatterpolargl": [
           {
            "marker": {
             "colorbar": {
              "outlinewidth": 0,
              "ticks": ""
             }
            },
            "type": "scatterpolargl"
           }
          ],
          "scatterternary": [
           {
            "marker": {
             "colorbar": {
              "outlinewidth": 0,
              "ticks": ""
             }
            },
            "type": "scatterternary"
           }
          ],
          "surface": [
           {
            "colorbar": {
             "outlinewidth": 0,
             "ticks": ""
            },
            "colorscale": [
             [
              0,
              "#0d0887"
             ],
             [
              0.1111111111111111,
              "#46039f"
             ],
             [
              0.2222222222222222,
              "#7201a8"
             ],
             [
              0.3333333333333333,
              "#9c179e"
             ],
             [
              0.4444444444444444,
              "#bd3786"
             ],
             [
              0.5555555555555556,
              "#d8576b"
             ],
             [
              0.6666666666666666,
              "#ed7953"
             ],
             [
              0.7777777777777778,
              "#fb9f3a"
             ],
             [
              0.8888888888888888,
              "#fdca26"
             ],
             [
              1,
              "#f0f921"
             ]
            ],
            "type": "surface"
           }
          ],
          "table": [
           {
            "cells": {
             "fill": {
              "color": "#EBF0F8"
             },
             "line": {
              "color": "white"
             }
            },
            "header": {
             "fill": {
              "color": "#C8D4E3"
             },
             "line": {
              "color": "white"
             }
            },
            "type": "table"
           }
          ]
         },
         "layout": {
          "annotationdefaults": {
           "arrowcolor": "#2a3f5f",
           "arrowhead": 0,
           "arrowwidth": 1
          },
          "coloraxis": {
           "colorbar": {
            "outlinewidth": 0,
            "ticks": ""
           }
          },
          "colorscale": {
           "diverging": [
            [
             0,
             "#8e0152"
            ],
            [
             0.1,
             "#c51b7d"
            ],
            [
             0.2,
             "#de77ae"
            ],
            [
             0.3,
             "#f1b6da"
            ],
            [
             0.4,
             "#fde0ef"
            ],
            [
             0.5,
             "#f7f7f7"
            ],
            [
             0.6,
             "#e6f5d0"
            ],
            [
             0.7,
             "#b8e186"
            ],
            [
             0.8,
             "#7fbc41"
            ],
            [
             0.9,
             "#4d9221"
            ],
            [
             1,
             "#276419"
            ]
           ],
           "sequential": [
            [
             0,
             "#0d0887"
            ],
            [
             0.1111111111111111,
             "#46039f"
            ],
            [
             0.2222222222222222,
             "#7201a8"
            ],
            [
             0.3333333333333333,
             "#9c179e"
            ],
            [
             0.4444444444444444,
             "#bd3786"
            ],
            [
             0.5555555555555556,
             "#d8576b"
            ],
            [
             0.6666666666666666,
             "#ed7953"
            ],
            [
             0.7777777777777778,
             "#fb9f3a"
            ],
            [
             0.8888888888888888,
             "#fdca26"
            ],
            [
             1,
             "#f0f921"
            ]
           ],
           "sequentialminus": [
            [
             0,
             "#0d0887"
            ],
            [
             0.1111111111111111,
             "#46039f"
            ],
            [
             0.2222222222222222,
             "#7201a8"
            ],
            [
             0.3333333333333333,
             "#9c179e"
            ],
            [
             0.4444444444444444,
             "#bd3786"
            ],
            [
             0.5555555555555556,
             "#d8576b"
            ],
            [
             0.6666666666666666,
             "#ed7953"
            ],
            [
             0.7777777777777778,
             "#fb9f3a"
            ],
            [
             0.8888888888888888,
             "#fdca26"
            ],
            [
             1,
             "#f0f921"
            ]
           ]
          },
          "colorway": [
           "#636efa",
           "#EF553B",
           "#00cc96",
           "#ab63fa",
           "#FFA15A",
           "#19d3f3",
           "#FF6692",
           "#B6E880",
           "#FF97FF",
           "#FECB52"
          ],
          "font": {
           "color": "#2a3f5f"
          },
          "geo": {
           "bgcolor": "white",
           "lakecolor": "white",
           "landcolor": "#E5ECF6",
           "showlakes": true,
           "showland": true,
           "subunitcolor": "white"
          },
          "hoverlabel": {
           "align": "left"
          },
          "hovermode": "closest",
          "mapbox": {
           "style": "light"
          },
          "paper_bgcolor": "white",
          "plot_bgcolor": "#E5ECF6",
          "polar": {
           "angularaxis": {
            "gridcolor": "white",
            "linecolor": "white",
            "ticks": ""
           },
           "bgcolor": "#E5ECF6",
           "radialaxis": {
            "gridcolor": "white",
            "linecolor": "white",
            "ticks": ""
           }
          },
          "scene": {
           "xaxis": {
            "backgroundcolor": "#E5ECF6",
            "gridcolor": "white",
            "gridwidth": 2,
            "linecolor": "white",
            "showbackground": true,
            "ticks": "",
            "zerolinecolor": "white"
           },
           "yaxis": {
            "backgroundcolor": "#E5ECF6",
            "gridcolor": "white",
            "gridwidth": 2,
            "linecolor": "white",
            "showbackground": true,
            "ticks": "",
            "zerolinecolor": "white"
           },
           "zaxis": {
            "backgroundcolor": "#E5ECF6",
            "gridcolor": "white",
            "gridwidth": 2,
            "linecolor": "white",
            "showbackground": true,
            "ticks": "",
            "zerolinecolor": "white"
           }
          },
          "shapedefaults": {
           "line": {
            "color": "#2a3f5f"
           }
          },
          "ternary": {
           "aaxis": {
            "gridcolor": "white",
            "linecolor": "white",
            "ticks": ""
           },
           "baxis": {
            "gridcolor": "white",
            "linecolor": "white",
            "ticks": ""
           },
           "bgcolor": "#E5ECF6",
           "caxis": {
            "gridcolor": "white",
            "linecolor": "white",
            "ticks": ""
           }
          },
          "title": {
           "x": 0.05
          },
          "xaxis": {
           "automargin": true,
           "gridcolor": "white",
           "linecolor": "white",
           "ticks": "",
           "title": {
            "standoff": 15
           },
           "zerolinecolor": "white",
           "zerolinewidth": 2
          },
          "yaxis": {
           "automargin": true,
           "gridcolor": "white",
           "linecolor": "white",
           "ticks": "",
           "title": {
            "standoff": 15
           },
           "zerolinecolor": "white",
           "zerolinewidth": 2
          }
         }
        },
        "title": {
         "text": "number of reviews at score midpoints"
        },
        "xaxis": {
         "autorange": true,
         "dtick": 1,
         "range": [
          -0.06463288521199573,
          10.064632885211996
         ],
         "title": {
          "text": "review score bin points"
         },
         "type": "linear"
        },
        "yaxis": {
         "autorange": true,
         "range": [
          -224.97133757961782,
          3311.9713375796177
         ],
         "title": {
          "text": "number of reviews"
         },
         "type": "linear"
        }
       }
      },
      "image/png": "[encoded data removed]",
      "text/html": [
       "<div>\n",
       "        \n",
       "        \n",
       "            <div id=\"00e77f0d-e18d-467a-b46f-7b55a661d0d0\" class=\"plotly-graph-div\" style=\"height:525px; width:100%;\"></div>\n",
       "            <script type=\"text/javascript\">\n",
       "                require([\"plotly\"], function(Plotly) {\n",
       "                    window.PLOTLYENV=window.PLOTLYENV || {};\n",
       "                    \n",
       "                if (document.getElementById(\"00e77f0d-e18d-467a-b46f-7b55a661d0d0\")) {\n",
       "                    Plotly.newPlot(\n",
       "                        '00e77f0d-e18d-467a-b46f-7b55a661d0d0',\n",
       "                        [{\"type\": \"scatter\", \"x\": [0.5, 1.5, 2.5, 3.5, 4.5, 5.5, 6.5, 7.5, 8.5, 9.5], \"y\": [1, 38, 196, 357, 751, 1190, 1753, 3077, 3086, 1223]}],\n",
       "                        {\"template\": {\"data\": {\"bar\": [{\"error_x\": {\"color\": \"#2a3f5f\"}, \"error_y\": {\"color\": \"#2a3f5f\"}, \"marker\": {\"line\": {\"color\": \"#E5ECF6\", \"width\": 0.5}}, \"type\": \"bar\"}], \"barpolar\": [{\"marker\": {\"line\": {\"color\": \"#E5ECF6\", \"width\": 0.5}}, \"type\": \"barpolar\"}], \"carpet\": [{\"aaxis\": {\"endlinecolor\": \"#2a3f5f\", \"gridcolor\": \"white\", \"linecolor\": \"white\", \"minorgridcolor\": \"white\", \"startlinecolor\": \"#2a3f5f\"}, \"baxis\": {\"endlinecolor\": \"#2a3f5f\", \"gridcolor\": \"white\", \"linecolor\": \"white\", \"minorgridcolor\": \"white\", \"startlinecolor\": \"#2a3f5f\"}, \"type\": \"carpet\"}], \"choropleth\": [{\"colorbar\": {\"outlinewidth\": 0, \"ticks\": \"\"}, \"type\": \"choropleth\"}], \"contour\": [{\"colorbar\": {\"outlinewidth\": 0, \"ticks\": \"\"}, \"colorscale\": [[0.0, \"#0d0887\"], [0.1111111111111111, \"#46039f\"], [0.2222222222222222, \"#7201a8\"], [0.3333333333333333, \"#9c179e\"], [0.4444444444444444, \"#bd3786\"], [0.5555555555555556, \"#d8576b\"], [0.6666666666666666, \"#ed7953\"], [0.7777777777777778, \"#fb9f3a\"], [0.8888888888888888, \"#fdca26\"], [1.0, \"#f0f921\"]], \"type\": \"contour\"}], \"contourcarpet\": [{\"colorbar\": {\"outlinewidth\": 0, \"ticks\": \"\"}, \"type\": \"contourcarpet\"}], \"heatmap\": [{\"colorbar\": {\"outlinewidth\": 0, \"ticks\": \"\"}, \"colorscale\": [[0.0, \"#0d0887\"], [0.1111111111111111, \"#46039f\"], [0.2222222222222222, \"#7201a8\"], [0.3333333333333333, \"#9c179e\"], [0.4444444444444444, \"#bd3786\"], [0.5555555555555556, \"#d8576b\"], [0.6666666666666666, \"#ed7953\"], [0.7777777777777778, \"#fb9f3a\"], [0.8888888888888888, \"#fdca26\"], [1.0, \"#f0f921\"]], \"type\": \"heatmap\"}], \"heatmapgl\": [{\"colorbar\": {\"outlinewidth\": 0, \"ticks\": \"\"}, \"colorscale\": [[0.0, \"#0d0887\"], [0.1111111111111111, \"#46039f\"], [0.2222222222222222, \"#7201a8\"], [0.3333333333333333, \"#9c179e\"], [0.4444444444444444, \"#bd3786\"], [0.5555555555555556, \"#d8576b\"], [0.6666666666666666, \"#ed7953\"], [0.7777777777777778, \"#fb9f3a\"], [0.8888888888888888, \"#fdca26\"], [1.0, \"#f0f921\"]], \"type\": \"heatmapgl\"}], \"histogram\": [{\"marker\": {\"colorbar\": {\"outlinewidth\": 0, \"ticks\": \"\"}}, \"type\": \"histogram\"}], \"histogram2d\": [{\"colorbar\": {\"outlinewidth\": 0, \"ticks\": \"\"}, \"colorscale\": [[0.0, \"#0d0887\"], [0.1111111111111111, \"#46039f\"], [0.2222222222222222, \"#7201a8\"], [0.3333333333333333, \"#9c179e\"], [0.4444444444444444, \"#bd3786\"], [0.5555555555555556, \"#d8576b\"], [0.6666666666666666, \"#ed7953\"], [0.7777777777777778, \"#fb9f3a\"], [0.8888888888888888, \"#fdca26\"], [1.0, \"#f0f921\"]], \"type\": \"histogram2d\"}], \"histogram2dcontour\": [{\"colorbar\": {\"outlinewidth\": 0, \"ticks\": \"\"}, \"colorscale\": [[0.0, \"#0d0887\"], [0.1111111111111111, \"#46039f\"], [0.2222222222222222, \"#7201a8\"], [0.3333333333333333, \"#9c179e\"], [0.4444444444444444, \"#bd3786\"], [0.5555555555555556, \"#d8576b\"], [0.6666666666666666, \"#ed7953\"], [0.7777777777777778, \"#fb9f3a\"], [0.8888888888888888, \"#fdca26\"], [1.0, \"#f0f921\"]], \"type\": \"histogram2dcontour\"}], \"mesh3d\": [{\"colorbar\": {\"outlinewidth\": 0, \"ticks\": \"\"}, \"type\": \"mesh3d\"}], \"parcoords\": [{\"line\": {\"colorbar\": {\"outlinewidth\": 0, \"ticks\": \"\"}}, \"type\": \"parcoords\"}], \"pie\": [{\"automargin\": true, \"type\": \"pie\"}], \"scatter\": [{\"marker\": {\"colorbar\": {\"outlinewidth\": 0, \"ticks\": \"\"}}, \"type\": \"scatter\"}], \"scatter3d\": [{\"line\": {\"colorbar\": {\"outlinewidth\": 0, \"ticks\": \"\"}}, \"marker\": {\"colorbar\": {\"outlinewidth\": 0, \"ticks\": \"\"}}, \"type\": \"scatter3d\"}], \"scattercarpet\": [{\"marker\": {\"colorbar\": {\"outlinewidth\": 0, \"ticks\": \"\"}}, \"type\": \"scattercarpet\"}], \"scattergeo\": [{\"marker\": {\"colorbar\": {\"outlinewidth\": 0, \"ticks\": \"\"}}, \"type\": \"scattergeo\"}], \"scattergl\": [{\"marker\": {\"colorbar\": {\"outlinewidth\": 0, \"ticks\": \"\"}}, \"type\": \"scattergl\"}], \"scattermapbox\": [{\"marker\": {\"colorbar\": {\"outlinewidth\": 0, \"ticks\": \"\"}}, \"type\": \"scattermapbox\"}], \"scatterpolar\": [{\"marker\": {\"colorbar\": {\"outlinewidth\": 0, \"ticks\": \"\"}}, \"type\": \"scatterpolar\"}], \"scatterpolargl\": [{\"marker\": {\"colorbar\": {\"outlinewidth\": 0, \"ticks\": \"\"}}, \"type\": \"scatterpolargl\"}], \"scatterternary\": [{\"marker\": {\"colorbar\": {\"outlinewidth\": 0, \"ticks\": \"\"}}, \"type\": \"scatterternary\"}], \"surface\": [{\"colorbar\": {\"outlinewidth\": 0, \"ticks\": \"\"}, \"colorscale\": [[0.0, \"#0d0887\"], [0.1111111111111111, \"#46039f\"], [0.2222222222222222, \"#7201a8\"], [0.3333333333333333, \"#9c179e\"], [0.4444444444444444, \"#bd3786\"], [0.5555555555555556, \"#d8576b\"], [0.6666666666666666, \"#ed7953\"], [0.7777777777777778, \"#fb9f3a\"], [0.8888888888888888, \"#fdca26\"], [1.0, \"#f0f921\"]], \"type\": \"surface\"}], \"table\": [{\"cells\": {\"fill\": {\"color\": \"#EBF0F8\"}, \"line\": {\"color\": \"white\"}}, \"header\": {\"fill\": {\"color\": \"#C8D4E3\"}, \"line\": {\"color\": \"white\"}}, \"type\": \"table\"}]}, \"layout\": {\"annotationdefaults\": {\"arrowcolor\": \"#2a3f5f\", \"arrowhead\": 0, \"arrowwidth\": 1}, \"coloraxis\": {\"colorbar\": {\"outlinewidth\": 0, \"ticks\": \"\"}}, \"colorscale\": {\"diverging\": [[0, \"#8e0152\"], [0.1, \"#c51b7d\"], [0.2, \"#de77ae\"], [0.3, \"#f1b6da\"], [0.4, \"#fde0ef\"], [0.5, \"#f7f7f7\"], [0.6, \"#e6f5d0\"], [0.7, \"#b8e186\"], [0.8, \"#7fbc41\"], [0.9, \"#4d9221\"], [1, \"#276419\"]], \"sequential\": [[0.0, \"#0d0887\"], [0.1111111111111111, \"#46039f\"], [0.2222222222222222, \"#7201a8\"], [0.3333333333333333, \"#9c179e\"], [0.4444444444444444, \"#bd3786\"], [0.5555555555555556, \"#d8576b\"], [0.6666666666666666, \"#ed7953\"], [0.7777777777777778, \"#fb9f3a\"], [0.8888888888888888, \"#fdca26\"], [1.0, \"#f0f921\"]], \"sequentialminus\": [[0.0, \"#0d0887\"], [0.1111111111111111, \"#46039f\"], [0.2222222222222222, \"#7201a8\"], [0.3333333333333333, \"#9c179e\"], [0.4444444444444444, \"#bd3786\"], [0.5555555555555556, \"#d8576b\"], [0.6666666666666666, \"#ed7953\"], [0.7777777777777778, \"#fb9f3a\"], [0.8888888888888888, \"#fdca26\"], [1.0, \"#f0f921\"]]}, \"colorway\": [\"#636efa\", \"#EF553B\", \"#00cc96\", \"#ab63fa\", \"#FFA15A\", \"#19d3f3\", \"#FF6692\", \"#B6E880\", \"#FF97FF\", \"#FECB52\"], \"font\": {\"color\": \"#2a3f5f\"}, \"geo\": {\"bgcolor\": \"white\", \"lakecolor\": \"white\", \"landcolor\": \"#E5ECF6\", \"showlakes\": true, \"showland\": true, \"subunitcolor\": \"white\"}, \"hoverlabel\": {\"align\": \"left\"}, \"hovermode\": \"closest\", \"mapbox\": {\"style\": \"light\"}, \"paper_bgcolor\": \"white\", \"plot_bgcolor\": \"#E5ECF6\", \"polar\": {\"angularaxis\": {\"gridcolor\": \"white\", \"linecolor\": \"white\", \"ticks\": \"\"}, \"bgcolor\": \"#E5ECF6\", \"radialaxis\": {\"gridcolor\": \"white\", \"linecolor\": \"white\", \"ticks\": \"\"}}, \"scene\": {\"xaxis\": {\"backgroundcolor\": \"#E5ECF6\", \"gridcolor\": \"white\", \"gridwidth\": 2, \"linecolor\": \"white\", \"showbackground\": true, \"ticks\": \"\", \"zerolinecolor\": \"white\"}, \"yaxis\": {\"backgroundcolor\": \"#E5ECF6\", \"gridcolor\": \"white\", \"gridwidth\": 2, \"linecolor\": \"white\", \"showbackground\": true, \"ticks\": \"\", \"zerolinecolor\": \"white\"}, \"zaxis\": {\"backgroundcolor\": \"#E5ECF6\", \"gridcolor\": \"white\", \"gridwidth\": 2, \"linecolor\": \"white\", \"showbackground\": true, \"ticks\": \"\", \"zerolinecolor\": \"white\"}}, \"shapedefaults\": {\"line\": {\"color\": \"#2a3f5f\"}}, \"ternary\": {\"aaxis\": {\"gridcolor\": \"white\", \"linecolor\": \"white\", \"ticks\": \"\"}, \"baxis\": {\"gridcolor\": \"white\", \"linecolor\": \"white\", \"ticks\": \"\"}, \"bgcolor\": \"#E5ECF6\", \"caxis\": {\"gridcolor\": \"white\", \"linecolor\": \"white\", \"ticks\": \"\"}}, \"title\": {\"x\": 0.05}, \"xaxis\": {\"automargin\": true, \"gridcolor\": \"white\", \"linecolor\": \"white\", \"ticks\": \"\", \"title\": {\"standoff\": 15}, \"zerolinecolor\": \"white\", \"zerolinewidth\": 2}, \"yaxis\": {\"automargin\": true, \"gridcolor\": \"white\", \"linecolor\": \"white\", \"ticks\": \"\", \"title\": {\"standoff\": 15}, \"zerolinecolor\": \"white\", \"zerolinewidth\": 2}}}, \"title\": {\"text\": \"number of reviews at score midpoints\"}, \"xaxis\": {\"dtick\": 1.0, \"title\": {\"text\": \"review score bin points\"}}, \"yaxis\": {\"title\": {\"text\": \"number of reviews\"}}},\n",
       "                        {\"responsive\": true}\n",
       "                    ).then(function(){\n",
       "                            \n",
       "var gd = document.getElementById('00e77f0d-e18d-467a-b46f-7b55a661d0d0');\n",
       "var x = new MutationObserver(function (mutations, observer) {{\n",
       "        var display = window.getComputedStyle(gd).display;\n",
       "        if (!display || display === 'none') {{\n",
       "            console.log([gd, 'removed!']);\n",
       "            Plotly.purge(gd);\n",
       "            observer.disconnect();\n",
       "        }}\n",
       "}});\n",
       "\n",
       "// Listen for the removal of the full notebook cells\n",
       "var notebookContainer = gd.closest('#notebook-container');\n",
       "if (notebookContainer) {{\n",
       "    x.observe(notebookContainer, {childList: true});\n",
       "}}\n",
       "\n",
       "// Listen for the clearing of the current output cell\n",
       "var outputEl = gd.closest('.output');\n",
       "if (outputEl) {{\n",
       "    x.observe(outputEl, {childList: true});\n",
       "}}\n",
       "\n",
       "                        })\n",
       "                };\n",
       "                });\n",
       "            </script>\n",
       "        </div>"
      ]
     },
     "metadata": {},
     "output_type": "display_data"
    },
    {
     "name": "stdout",
     "output_type": "stream",
     "text": [
      "\n"
     ]
    },
    {
     "data": {
      "application/vnd.plotly.v1+json": {
       "config": {
        "plotlyServerURL": "https://plot.ly"
       },
       "data": [
        {
         "error_y": {
          "array": [
           1,
           272.3048298165018,
           350.9142376302761,
           344.9071493833949,
           404.9970666823463,
           415.55045746315733,
           465.54730259548126,
           570.2549310461225,
           631.3604569415718,
           899.7804388295785
          ],
          "type": "data"
         },
         "type": "scatter",
         "x": [
          0.5,
          1.5,
          2.5,
          3.5,
          4.5,
          5.5,
          6.5,
          7.5,
          8.5,
          9.5
         ],
         "y": [
          972,
          677.1578947368421,
          785.7091836734694,
          798.4957983193277,
          852.6138482023968,
          867.0563025210084,
          933.8899030233885,
          979.2502437439064,
          1172.0252754374594,
          1547.6328699918233
         ]
        }
       ],
       "layout": {
        "autosize": true,
        "template": {
         "data": {
          "bar": [
           {
            "error_x": {
             "color": "#2a3f5f"
            },
            "error_y": {
             "color": "#2a3f5f"
            },
            "marker": {
             "line": {
              "color": "#E5ECF6",
              "width": 0.5
             }
            },
            "type": "bar"
           }
          ],
          "barpolar": [
           {
            "marker": {
             "line": {
              "color": "#E5ECF6",
              "width": 0.5
             }
            },
            "type": "barpolar"
           }
          ],
          "carpet": [
           {
            "aaxis": {
             "endlinecolor": "#2a3f5f",
             "gridcolor": "white",
             "linecolor": "white",
             "minorgridcolor": "white",
             "startlinecolor": "#2a3f5f"
            },
            "baxis": {
             "endlinecolor": "#2a3f5f",
             "gridcolor": "white",
             "linecolor": "white",
             "minorgridcolor": "white",
             "startlinecolor": "#2a3f5f"
            },
            "type": "carpet"
           }
          ],
          "choropleth": [
           {
            "colorbar": {
             "outlinewidth": 0,
             "ticks": ""
            },
            "type": "choropleth"
           }
          ],
          "contour": [
           {
            "colorbar": {
             "outlinewidth": 0,
             "ticks": ""
            },
            "colorscale": [
             [
              0,
              "#0d0887"
             ],
             [
              0.1111111111111111,
              "#46039f"
             ],
             [
              0.2222222222222222,
              "#7201a8"
             ],
             [
              0.3333333333333333,
              "#9c179e"
             ],
             [
              0.4444444444444444,
              "#bd3786"
             ],
             [
              0.5555555555555556,
              "#d8576b"
             ],
             [
              0.6666666666666666,
              "#ed7953"
             ],
             [
              0.7777777777777778,
              "#fb9f3a"
             ],
             [
              0.8888888888888888,
              "#fdca26"
             ],
             [
              1,
              "#f0f921"
             ]
            ],
            "type": "contour"
           }
          ],
          "contourcarpet": [
           {
            "colorbar": {
             "outlinewidth": 0,
             "ticks": ""
            },
            "type": "contourcarpet"
           }
          ],
          "heatmap": [
           {
            "colorbar": {
             "outlinewidth": 0,
             "ticks": ""
            },
            "colorscale": [
             [
              0,
              "#0d0887"
             ],
             [
              0.1111111111111111,
              "#46039f"
             ],
             [
              0.2222222222222222,
              "#7201a8"
             ],
             [
              0.3333333333333333,
              "#9c179e"
             ],
             [
              0.4444444444444444,
              "#bd3786"
             ],
             [
              0.5555555555555556,
              "#d8576b"
             ],
             [
              0.6666666666666666,
              "#ed7953"
             ],
             [
              0.7777777777777778,
              "#fb9f3a"
             ],
             [
              0.8888888888888888,
              "#fdca26"
             ],
             [
              1,
              "#f0f921"
             ]
            ],
            "type": "heatmap"
           }
          ],
          "heatmapgl": [
           {
            "colorbar": {
             "outlinewidth": 0,
             "ticks": ""
            },
            "colorscale": [
             [
              0,
              "#0d0887"
             ],
             [
              0.1111111111111111,
              "#46039f"
             ],
             [
              0.2222222222222222,
              "#7201a8"
             ],
             [
              0.3333333333333333,
              "#9c179e"
             ],
             [
              0.4444444444444444,
              "#bd3786"
             ],
             [
              0.5555555555555556,
              "#d8576b"
             ],
             [
              0.6666666666666666,
              "#ed7953"
             ],
             [
              0.7777777777777778,
              "#fb9f3a"
             ],
             [
              0.8888888888888888,
              "#fdca26"
             ],
             [
              1,
              "#f0f921"
             ]
            ],
            "type": "heatmapgl"
           }
          ],
          "histogram": [
           {
            "marker": {
             "colorbar": {
              "outlinewidth": 0,
              "ticks": ""
             }
            },
            "type": "histogram"
           }
          ],
          "histogram2d": [
           {
            "colorbar": {
             "outlinewidth": 0,
             "ticks": ""
            },
            "colorscale": [
             [
              0,
              "#0d0887"
             ],
             [
              0.1111111111111111,
              "#46039f"
             ],
             [
              0.2222222222222222,
              "#7201a8"
             ],
             [
              0.3333333333333333,
              "#9c179e"
             ],
             [
              0.4444444444444444,
              "#bd3786"
             ],
             [
              0.5555555555555556,
              "#d8576b"
             ],
             [
              0.6666666666666666,
              "#ed7953"
             ],
             [
              0.7777777777777778,
              "#fb9f3a"
             ],
             [
              0.8888888888888888,
              "#fdca26"
             ],
             [
              1,
              "#f0f921"
             ]
            ],
            "type": "histogram2d"
           }
          ],
          "histogram2dcontour": [
           {
            "colorbar": {
             "outlinewidth": 0,
             "ticks": ""
            },
            "colorscale": [
             [
              0,
              "#0d0887"
             ],
             [
              0.1111111111111111,
              "#46039f"
             ],
             [
              0.2222222222222222,
              "#7201a8"
             ],
             [
              0.3333333333333333,
              "#9c179e"
             ],
             [
              0.4444444444444444,
              "#bd3786"
             ],
             [
              0.5555555555555556,
              "#d8576b"
             ],
             [
              0.6666666666666666,
              "#ed7953"
             ],
             [
              0.7777777777777778,
              "#fb9f3a"
             ],
             [
              0.8888888888888888,
              "#fdca26"
             ],
             [
              1,
              "#f0f921"
             ]
            ],
            "type": "histogram2dcontour"
           }
          ],
          "mesh3d": [
           {
            "colorbar": {
             "outlinewidth": 0,
             "ticks": ""
            },
            "type": "mesh3d"
           }
          ],
          "parcoords": [
           {
            "line": {
             "colorbar": {
              "outlinewidth": 0,
              "ticks": ""
             }
            },
            "type": "parcoords"
           }
          ],
          "pie": [
           {
            "automargin": true,
            "type": "pie"
           }
          ],
          "scatter": [
           {
            "marker": {
             "colorbar": {
              "outlinewidth": 0,
              "ticks": ""
             }
            },
            "type": "scatter"
           }
          ],
          "scatter3d": [
           {
            "line": {
             "colorbar": {
              "outlinewidth": 0,
              "ticks": ""
             }
            },
            "marker": {
             "colorbar": {
              "outlinewidth": 0,
              "ticks": ""
             }
            },
            "type": "scatter3d"
           }
          ],
          "scattercarpet": [
           {
            "marker": {
             "colorbar": {
              "outlinewidth": 0,
              "ticks": ""
             }
            },
            "type": "scattercarpet"
           }
          ],
          "scattergeo": [
           {
            "marker": {
             "colorbar": {
              "outlinewidth": 0,
              "ticks": ""
             }
            },
            "type": "scattergeo"
           }
          ],
          "scattergl": [
           {
            "marker": {
             "colorbar": {
              "outlinewidth": 0,
              "ticks": ""
             }
            },
            "type": "scattergl"
           }
          ],
          "scattermapbox": [
           {
            "marker": {
             "colorbar": {
              "outlinewidth": 0,
              "ticks": ""
             }
            },
            "type": "scattermapbox"
           }
          ],
          "scatterpolar": [
           {
            "marker": {
             "colorbar": {
              "outlinewidth": 0,
              "ticks": ""
             }
            },
            "type": "scatterpolar"
           }
          ],
          "scatterpolargl": [
           {
            "marker": {
             "colorbar": {
              "outlinewidth": 0,
              "ticks": ""
             }
            },
            "type": "scatterpolargl"
           }
          ],
          "scatterternary": [
           {
            "marker": {
             "colorbar": {
              "outlinewidth": 0,
              "ticks": ""
             }
            },
            "type": "scatterternary"
           }
          ],
          "surface": [
           {
            "colorbar": {
             "outlinewidth": 0,
             "ticks": ""
            },
            "colorscale": [
             [
              0,
              "#0d0887"
             ],
             [
              0.1111111111111111,
              "#46039f"
             ],
             [
              0.2222222222222222,
              "#7201a8"
             ],
             [
              0.3333333333333333,
              "#9c179e"
             ],
             [
              0.4444444444444444,
              "#bd3786"
             ],
             [
              0.5555555555555556,
              "#d8576b"
             ],
             [
              0.6666666666666666,
              "#ed7953"
             ],
             [
              0.7777777777777778,
              "#fb9f3a"
             ],
             [
              0.8888888888888888,
              "#fdca26"
             ],
             [
              1,
              "#f0f921"
             ]
            ],
            "type": "surface"
           }
          ],
          "table": [
           {
            "cells": {
             "fill": {
              "color": "#EBF0F8"
             },
             "line": {
              "color": "white"
             }
            },
            "header": {
             "fill": {
              "color": "#C8D4E3"
             },
             "line": {
              "color": "white"
             }
            },
            "type": "table"
           }
          ]
         },
         "layout": {
          "annotationdefaults": {
           "arrowcolor": "#2a3f5f",
           "arrowhead": 0,
           "arrowwidth": 1
          },
          "coloraxis": {
           "colorbar": {
            "outlinewidth": 0,
            "ticks": ""
           }
          },
          "colorscale": {
           "diverging": [
            [
             0,
             "#8e0152"
            ],
            [
             0.1,
             "#c51b7d"
            ],
            [
             0.2,
             "#de77ae"
            ],
            [
             0.3,
             "#f1b6da"
            ],
            [
             0.4,
             "#fde0ef"
            ],
            [
             0.5,
             "#f7f7f7"
            ],
            [
             0.6,
             "#e6f5d0"
            ],
            [
             0.7,
             "#b8e186"
            ],
            [
             0.8,
             "#7fbc41"
            ],
            [
             0.9,
             "#4d9221"
            ],
            [
             1,
             "#276419"
            ]
           ],
           "sequential": [
            [
             0,
             "#0d0887"
            ],
            [
             0.1111111111111111,
             "#46039f"
            ],
            [
             0.2222222222222222,
             "#7201a8"
            ],
            [
             0.3333333333333333,
             "#9c179e"
            ],
            [
             0.4444444444444444,
             "#bd3786"
            ],
            [
             0.5555555555555556,
             "#d8576b"
            ],
            [
             0.6666666666666666,
             "#ed7953"
            ],
            [
             0.7777777777777778,
             "#fb9f3a"
            ],
            [
             0.8888888888888888,
             "#fdca26"
            ],
            [
             1,
             "#f0f921"
            ]
           ],
           "sequentialminus": [
            [
             0,
             "#0d0887"
            ],
            [
             0.1111111111111111,
             "#46039f"
            ],
            [
             0.2222222222222222,
             "#7201a8"
            ],
            [
             0.3333333333333333,
             "#9c179e"
            ],
            [
             0.4444444444444444,
             "#bd3786"
            ],
            [
             0.5555555555555556,
             "#d8576b"
            ],
            [
             0.6666666666666666,
             "#ed7953"
            ],
            [
             0.7777777777777778,
             "#fb9f3a"
            ],
            [
             0.8888888888888888,
             "#fdca26"
            ],
            [
             1,
             "#f0f921"
            ]
           ]
          },
          "colorway": [
           "#636efa",
           "#EF553B",
           "#00cc96",
           "#ab63fa",
           "#FFA15A",
           "#19d3f3",
           "#FF6692",
           "#B6E880",
           "#FF97FF",
           "#FECB52"
          ],
          "font": {
           "color": "#2a3f5f"
          },
          "geo": {
           "bgcolor": "white",
           "lakecolor": "white",
           "landcolor": "#E5ECF6",
           "showlakes": true,
           "showland": true,
           "subunitcolor": "white"
          },
          "hoverlabel": {
           "align": "left"
          },
          "hovermode": "closest",
          "mapbox": {
           "style": "light"
          },
          "paper_bgcolor": "white",
          "plot_bgcolor": "#E5ECF6",
          "polar": {
           "angularaxis": {
            "gridcolor": "white",
            "linecolor": "white",
            "ticks": ""
           },
           "bgcolor": "#E5ECF6",
           "radialaxis": {
            "gridcolor": "white",
            "linecolor": "white",
            "ticks": ""
           }
          },
          "scene": {
           "xaxis": {
            "backgroundcolor": "#E5ECF6",
            "gridcolor": "white",
            "gridwidth": 2,
            "linecolor": "white",
            "showbackground": true,
            "ticks": "",
            "zerolinecolor": "white"
           },
           "yaxis": {
            "backgroundcolor": "#E5ECF6",
            "gridcolor": "white",
            "gridwidth": 2,
            "linecolor": "white",
            "showbackground": true,
            "ticks": "",
            "zerolinecolor": "white"
           },
           "zaxis": {
            "backgroundcolor": "#E5ECF6",
            "gridcolor": "white",
            "gridwidth": 2,
            "linecolor": "white",
            "showbackground": true,
            "ticks": "",
            "zerolinecolor": "white"
           }
          },
          "shapedefaults": {
           "line": {
            "color": "#2a3f5f"
           }
          },
          "ternary": {
           "aaxis": {
            "gridcolor": "white",
            "linecolor": "white",
            "ticks": ""
           },
           "baxis": {
            "gridcolor": "white",
            "linecolor": "white",
            "ticks": ""
           },
           "bgcolor": "#E5ECF6",
           "caxis": {
            "gridcolor": "white",
            "linecolor": "white",
            "ticks": ""
           }
          },
          "title": {
           "x": 0.05
          },
          "xaxis": {
           "automargin": true,
           "gridcolor": "white",
           "linecolor": "white",
           "ticks": "",
           "title": {
            "standoff": 15
           },
           "zerolinecolor": "white",
           "zerolinewidth": 2
          },
          "yaxis": {
           "automargin": true,
           "gridcolor": "white",
           "linecolor": "white",
           "ticks": "",
           "title": {
            "standoff": 15
           },
           "zerolinecolor": "white",
           "zerolinewidth": 2
          }
         }
        },
        "title": {
         "text": "Average number of words written in a Review"
        },
        "xaxis": {
         "autorange": true,
         "dtick": 1,
         "range": [
          -0.06463288521199573,
          10.064632885211996
         ],
         "title": {
          "text": "review score midpoints"
         },
         "type": "linear"
        },
        "yaxis": {
         "autorange": true,
         "range": [
          291.37749581472576,
          2560.8888779270164
         ],
         "title": {
          "text": "Average Number of Words"
         },
         "type": "linear"
        }
       }
      },
      "image/png": "[encoded data removed]",
      "text/html": [
       "<div>\n",
       "        \n",
       "        \n",
       "            <div id=\"fc6b5446-dfac-495c-b6e0-ca5af7055824\" class=\"plotly-graph-div\" style=\"height:525px; width:100%;\"></div>\n",
       "            <script type=\"text/javascript\">\n",
       "                require([\"plotly\"], function(Plotly) {\n",
       "                    window.PLOTLYENV=window.PLOTLYENV || {};\n",
       "                    \n",
       "                if (document.getElementById(\"fc6b5446-dfac-495c-b6e0-ca5af7055824\")) {\n",
       "                    Plotly.newPlot(\n",
       "                        'fc6b5446-dfac-495c-b6e0-ca5af7055824',\n",
       "                        [{\"error_y\": {\"array\": [1, 272.3048298165018, 350.9142376302761, 344.9071493833949, 404.9970666823463, 415.55045746315733, 465.54730259548126, 570.2549310461225, 631.3604569415718, 899.7804388295785], \"type\": \"data\"}, \"type\": \"scatter\", \"x\": [0.5, 1.5, 2.5, 3.5, 4.5, 5.5, 6.5, 7.5, 8.5, 9.5], \"y\": [972.0, 677.1578947368421, 785.7091836734694, 798.4957983193277, 852.6138482023968, 867.0563025210084, 933.8899030233885, 979.2502437439064, 1172.0252754374594, 1547.6328699918233]}],\n",
       "                        {\"template\": {\"data\": {\"bar\": [{\"error_x\": {\"color\": \"#2a3f5f\"}, \"error_y\": {\"color\": \"#2a3f5f\"}, \"marker\": {\"line\": {\"color\": \"#E5ECF6\", \"width\": 0.5}}, \"type\": \"bar\"}], \"barpolar\": [{\"marker\": {\"line\": {\"color\": \"#E5ECF6\", \"width\": 0.5}}, \"type\": \"barpolar\"}], \"carpet\": [{\"aaxis\": {\"endlinecolor\": \"#2a3f5f\", \"gridcolor\": \"white\", \"linecolor\": \"white\", \"minorgridcolor\": \"white\", \"startlinecolor\": \"#2a3f5f\"}, \"baxis\": {\"endlinecolor\": \"#2a3f5f\", \"gridcolor\": \"white\", \"linecolor\": \"white\", \"minorgridcolor\": \"white\", \"startlinecolor\": \"#2a3f5f\"}, \"type\": \"carpet\"}], \"choropleth\": [{\"colorbar\": {\"outlinewidth\": 0, \"ticks\": \"\"}, \"type\": \"choropleth\"}], \"contour\": [{\"colorbar\": {\"outlinewidth\": 0, \"ticks\": \"\"}, \"colorscale\": [[0.0, \"#0d0887\"], [0.1111111111111111, \"#46039f\"], [0.2222222222222222, \"#7201a8\"], [0.3333333333333333, \"#9c179e\"], [0.4444444444444444, \"#bd3786\"], [0.5555555555555556, \"#d8576b\"], [0.6666666666666666, \"#ed7953\"], [0.7777777777777778, \"#fb9f3a\"], [0.8888888888888888, \"#fdca26\"], [1.0, \"#f0f921\"]], \"type\": \"contour\"}], \"contourcarpet\": [{\"colorbar\": {\"outlinewidth\": 0, \"ticks\": \"\"}, \"type\": \"contourcarpet\"}], \"heatmap\": [{\"colorbar\": {\"outlinewidth\": 0, \"ticks\": \"\"}, \"colorscale\": [[0.0, \"#0d0887\"], [0.1111111111111111, \"#46039f\"], [0.2222222222222222, \"#7201a8\"], [0.3333333333333333, \"#9c179e\"], [0.4444444444444444, \"#bd3786\"], [0.5555555555555556, \"#d8576b\"], [0.6666666666666666, \"#ed7953\"], [0.7777777777777778, \"#fb9f3a\"], [0.8888888888888888, \"#fdca26\"], [1.0, \"#f0f921\"]], \"type\": \"heatmap\"}], \"heatmapgl\": [{\"colorbar\": {\"outlinewidth\": 0, \"ticks\": \"\"}, \"colorscale\": [[0.0, \"#0d0887\"], [0.1111111111111111, \"#46039f\"], [0.2222222222222222, \"#7201a8\"], [0.3333333333333333, \"#9c179e\"], [0.4444444444444444, \"#bd3786\"], [0.5555555555555556, \"#d8576b\"], [0.6666666666666666, \"#ed7953\"], [0.7777777777777778, \"#fb9f3a\"], [0.8888888888888888, \"#fdca26\"], [1.0, \"#f0f921\"]], \"type\": \"heatmapgl\"}], \"histogram\": [{\"marker\": {\"colorbar\": {\"outlinewidth\": 0, \"ticks\": \"\"}}, \"type\": \"histogram\"}], \"histogram2d\": [{\"colorbar\": {\"outlinewidth\": 0, \"ticks\": \"\"}, \"colorscale\": [[0.0, \"#0d0887\"], [0.1111111111111111, \"#46039f\"], [0.2222222222222222, \"#7201a8\"], [0.3333333333333333, \"#9c179e\"], [0.4444444444444444, \"#bd3786\"], [0.5555555555555556, \"#d8576b\"], [0.6666666666666666, \"#ed7953\"], [0.7777777777777778, \"#fb9f3a\"], [0.8888888888888888, \"#fdca26\"], [1.0, \"#f0f921\"]], \"type\": \"histogram2d\"}], \"histogram2dcontour\": [{\"colorbar\": {\"outlinewidth\": 0, \"ticks\": \"\"}, \"colorscale\": [[0.0, \"#0d0887\"], [0.1111111111111111, \"#46039f\"], [0.2222222222222222, \"#7201a8\"], [0.3333333333333333, \"#9c179e\"], [0.4444444444444444, \"#bd3786\"], [0.5555555555555556, \"#d8576b\"], [0.6666666666666666, \"#ed7953\"], [0.7777777777777778, \"#fb9f3a\"], [0.8888888888888888, \"#fdca26\"], [1.0, \"#f0f921\"]], \"type\": \"histogram2dcontour\"}], \"mesh3d\": [{\"colorbar\": {\"outlinewidth\": 0, \"ticks\": \"\"}, \"type\": \"mesh3d\"}], \"parcoords\": [{\"line\": {\"colorbar\": {\"outlinewidth\": 0, \"ticks\": \"\"}}, \"type\": \"parcoords\"}], \"pie\": [{\"automargin\": true, \"type\": \"pie\"}], \"scatter\": [{\"marker\": {\"colorbar\": {\"outlinewidth\": 0, \"ticks\": \"\"}}, \"type\": \"scatter\"}], \"scatter3d\": [{\"line\": {\"colorbar\": {\"outlinewidth\": 0, \"ticks\": \"\"}}, \"marker\": {\"colorbar\": {\"outlinewidth\": 0, \"ticks\": \"\"}}, \"type\": \"scatter3d\"}], \"scattercarpet\": [{\"marker\": {\"colorbar\": {\"outlinewidth\": 0, \"ticks\": \"\"}}, \"type\": \"scattercarpet\"}], \"scattergeo\": [{\"marker\": {\"colorbar\": {\"outlinewidth\": 0, \"ticks\": \"\"}}, \"type\": \"scattergeo\"}], \"scattergl\": [{\"marker\": {\"colorbar\": {\"outlinewidth\": 0, \"ticks\": \"\"}}, \"type\": \"scattergl\"}], \"scattermapbox\": [{\"marker\": {\"colorbar\": {\"outlinewidth\": 0, \"ticks\": \"\"}}, \"type\": \"scattermapbox\"}], \"scatterpolar\": [{\"marker\": {\"colorbar\": {\"outlinewidth\": 0, \"ticks\": \"\"}}, \"type\": \"scatterpolar\"}], \"scatterpolargl\": [{\"marker\": {\"colorbar\": {\"outlinewidth\": 0, \"ticks\": \"\"}}, \"type\": \"scatterpolargl\"}], \"scatterternary\": [{\"marker\": {\"colorbar\": {\"outlinewidth\": 0, \"ticks\": \"\"}}, \"type\": \"scatterternary\"}], \"surface\": [{\"colorbar\": {\"outlinewidth\": 0, \"ticks\": \"\"}, \"colorscale\": [[0.0, \"#0d0887\"], [0.1111111111111111, \"#46039f\"], [0.2222222222222222, \"#7201a8\"], [0.3333333333333333, \"#9c179e\"], [0.4444444444444444, \"#bd3786\"], [0.5555555555555556, \"#d8576b\"], [0.6666666666666666, \"#ed7953\"], [0.7777777777777778, \"#fb9f3a\"], [0.8888888888888888, \"#fdca26\"], [1.0, \"#f0f921\"]], \"type\": \"surface\"}], \"table\": [{\"cells\": {\"fill\": {\"color\": \"#EBF0F8\"}, \"line\": {\"color\": \"white\"}}, \"header\": {\"fill\": {\"color\": \"#C8D4E3\"}, \"line\": {\"color\": \"white\"}}, \"type\": \"table\"}]}, \"layout\": {\"annotationdefaults\": {\"arrowcolor\": \"#2a3f5f\", \"arrowhead\": 0, \"arrowwidth\": 1}, \"coloraxis\": {\"colorbar\": {\"outlinewidth\": 0, \"ticks\": \"\"}}, \"colorscale\": {\"diverging\": [[0, \"#8e0152\"], [0.1, \"#c51b7d\"], [0.2, \"#de77ae\"], [0.3, \"#f1b6da\"], [0.4, \"#fde0ef\"], [0.5, \"#f7f7f7\"], [0.6, \"#e6f5d0\"], [0.7, \"#b8e186\"], [0.8, \"#7fbc41\"], [0.9, \"#4d9221\"], [1, \"#276419\"]], \"sequential\": [[0.0, \"#0d0887\"], [0.1111111111111111, \"#46039f\"], [0.2222222222222222, \"#7201a8\"], [0.3333333333333333, \"#9c179e\"], [0.4444444444444444, \"#bd3786\"], [0.5555555555555556, \"#d8576b\"], [0.6666666666666666, \"#ed7953\"], [0.7777777777777778, \"#fb9f3a\"], [0.8888888888888888, \"#fdca26\"], [1.0, \"#f0f921\"]], \"sequentialminus\": [[0.0, \"#0d0887\"], [0.1111111111111111, \"#46039f\"], [0.2222222222222222, \"#7201a8\"], [0.3333333333333333, \"#9c179e\"], [0.4444444444444444, \"#bd3786\"], [0.5555555555555556, \"#d8576b\"], [0.6666666666666666, \"#ed7953\"], [0.7777777777777778, \"#fb9f3a\"], [0.8888888888888888, \"#fdca26\"], [1.0, \"#f0f921\"]]}, \"colorway\": [\"#636efa\", \"#EF553B\", \"#00cc96\", \"#ab63fa\", \"#FFA15A\", \"#19d3f3\", \"#FF6692\", \"#B6E880\", \"#FF97FF\", \"#FECB52\"], \"font\": {\"color\": \"#2a3f5f\"}, \"geo\": {\"bgcolor\": \"white\", \"lakecolor\": \"white\", \"landcolor\": \"#E5ECF6\", \"showlakes\": true, \"showland\": true, \"subunitcolor\": \"white\"}, \"hoverlabel\": {\"align\": \"left\"}, \"hovermode\": \"closest\", \"mapbox\": {\"style\": \"light\"}, \"paper_bgcolor\": \"white\", \"plot_bgcolor\": \"#E5ECF6\", \"polar\": {\"angularaxis\": {\"gridcolor\": \"white\", \"linecolor\": \"white\", \"ticks\": \"\"}, \"bgcolor\": \"#E5ECF6\", \"radialaxis\": {\"gridcolor\": \"white\", \"linecolor\": \"white\", \"ticks\": \"\"}}, \"scene\": {\"xaxis\": {\"backgroundcolor\": \"#E5ECF6\", \"gridcolor\": \"white\", \"gridwidth\": 2, \"linecolor\": \"white\", \"showbackground\": true, \"ticks\": \"\", \"zerolinecolor\": \"white\"}, \"yaxis\": {\"backgroundcolor\": \"#E5ECF6\", \"gridcolor\": \"white\", \"gridwidth\": 2, \"linecolor\": \"white\", \"showbackground\": true, \"ticks\": \"\", \"zerolinecolor\": \"white\"}, \"zaxis\": {\"backgroundcolor\": \"#E5ECF6\", \"gridcolor\": \"white\", \"gridwidth\": 2, \"linecolor\": \"white\", \"showbackground\": true, \"ticks\": \"\", \"zerolinecolor\": \"white\"}}, \"shapedefaults\": {\"line\": {\"color\": \"#2a3f5f\"}}, \"ternary\": {\"aaxis\": {\"gridcolor\": \"white\", \"linecolor\": \"white\", \"ticks\": \"\"}, \"baxis\": {\"gridcolor\": \"white\", \"linecolor\": \"white\", \"ticks\": \"\"}, \"bgcolor\": \"#E5ECF6\", \"caxis\": {\"gridcolor\": \"white\", \"linecolor\": \"white\", \"ticks\": \"\"}}, \"title\": {\"x\": 0.05}, \"xaxis\": {\"automargin\": true, \"gridcolor\": \"white\", \"linecolor\": \"white\", \"ticks\": \"\", \"title\": {\"standoff\": 15}, \"zerolinecolor\": \"white\", \"zerolinewidth\": 2}, \"yaxis\": {\"automargin\": true, \"gridcolor\": \"white\", \"linecolor\": \"white\", \"ticks\": \"\", \"title\": {\"standoff\": 15}, \"zerolinecolor\": \"white\", \"zerolinewidth\": 2}}}, \"title\": {\"text\": \"Average number of words written in a Review\"}, \"xaxis\": {\"dtick\": 1.0, \"title\": {\"text\": \"review score midpoints\"}}, \"yaxis\": {\"title\": {\"text\": \"Average Number of Words\"}}},\n",
       "                        {\"responsive\": true}\n",
       "                    ).then(function(){\n",
       "                            \n",
       "var gd = document.getElementById('fc6b5446-dfac-495c-b6e0-ca5af7055824');\n",
       "var x = new MutationObserver(function (mutations, observer) {{\n",
       "        var display = window.getComputedStyle(gd).display;\n",
       "        if (!display || display === 'none') {{\n",
       "            console.log([gd, 'removed!']);\n",
       "            Plotly.purge(gd);\n",
       "            observer.disconnect();\n",
       "        }}\n",
       "}});\n",
       "\n",
       "// Listen for the removal of the full notebook cells\n",
       "var notebookContainer = gd.closest('#notebook-container');\n",
       "if (notebookContainer) {{\n",
       "    x.observe(notebookContainer, {childList: true});\n",
       "}}\n",
       "\n",
       "// Listen for the clearing of the current output cell\n",
       "var outputEl = gd.closest('.output');\n",
       "if (outputEl) {{\n",
       "    x.observe(outputEl, {childList: true});\n",
       "}}\n",
       "\n",
       "                        })\n",
       "                };\n",
       "                });\n",
       "            </script>\n",
       "        </div>"
      ]
     },
     "metadata": {},
     "output_type": "display_data"
    }
   ],
   "source": [
    "# plots for some of the statistics calculated above\n",
    "# sns.lineplot(x=review_score_midpoints, y=sub_num_reviews, yscale='log')\n",
    "import plotly.graph_objects as go\n",
    "import plotly.express as px\n",
    "\n",
    "fig = go.Figure()\n",
    "fig.add_trace(go.Scatter(x=review_score_midpoints, y=sub_num_reviews))\n",
    "fig.update_layout(yaxis_type='log', title='number of reviews at score midpoints', \n",
    "                 xaxis_title='review score bin points', yaxis_title='number of reviews')\n",
    "fig.update_xaxes(dtick=1.0)\n",
    "fig.show()\n",
    "\n",
    "print()\n",
    "fig = go.Figure(data=go.Scatter(x=review_score_midpoints, y=sub_num_reviews))\n",
    "fig.update_layout(title='number of reviews at score midpoints', \n",
    "                 xaxis_title='review score bin points', yaxis_title='number of reviews')\n",
    "fig.update_xaxes(dtick=1.0)\n",
    "fig.show()\n",
    "\n",
    "print()\n",
    "fig = go.Figure(data=go.Scatter(x=review_score_midpoints, \n",
    "                                y=num_words_mean, \n",
    "                                error_y=dict(type='data', \n",
    "                                             array=num_words_stds)))\n",
    "fig.update_layout(title='Average number of words written in a Review', \n",
    "                  xaxis_title='review score midpoints', yaxis_title='Average Number of Words')\n",
    "fig.update_xaxes(dtick=1.0)\n",
    "fig.show()"
   ]
  },
  {
   "cell_type": "markdown",
   "metadata": {},
   "source": [
    "Here I've split up the score into bins (not of equal sizes) to see average word count for each bin. Some follow up questions:\n",
    "- How does the data look if I split the bins equally, i.e. if I have 10k reviews, each bin gets 1000 reviews going from lowest score to highest. What if I do 5 bins? This might give me a quick way to renormalize all of my data for a new scoring metric. How would this compare to mapping the scoring system to a normalized gaussian?\n",
    "\n",
    "- What if I create word bins? What is the average score for a given length of an article?\n",
    "\n",
    "- ~Maybe I should create histograms of each binned set of data~\n",
    "\n",
    "- Should try to examine word length based on author, maybe some people just write more. And maybe some authors will specifically have a stronger polarity indicator"
   ]
  },
  {
   "cell_type": "markdown",
   "metadata": {},
   "source": [
    "# Will start trying to do the Bayesian type analysis here\n",
    "\n",
    "Might be even more worthwhile to ask how few words I can write and get away with because text generators have a difficult time writing many many words"
   ]
  },
  {
   "cell_type": "code",
   "execution_count": 200,
   "metadata": {},
   "outputs": [
    {
     "data": {
      "image/png": "[encoded data removed]",
      "text/plain": [
       "<Figure size 432x288 with 1 Axes>"
      ]
     },
     "metadata": {},
     "output_type": "display_data"
    },
    {
     "data": {
      "image/png": "[encoded data removed]",
      "text/plain": [
       "<Figure size 432x288 with 1 Axes>"
      ]
     },
     "metadata": {},
     "output_type": "display_data"
    }
   ],
   "source": [
    "# first, set up some statistical distributions\n",
    "s = 1.5 # changes peak shape, probably to \n",
    "x = np.linspace(start=0, stop=1, num=100)\n",
    "y = scipy.stats.lognorm.pdf(x, s)\n",
    "plt.plot(x,y)\n",
    "plt.title('log normal distribution')\n",
    "plt.show()\n",
    "\n",
    "a = 2\n",
    "x_gamma = np.linspace(start=0, stop=10, num=1000)\n",
    "y_gamma = scipy.stats.gamma.pdf(x_gamma, a)\n",
    "plt.plot(x_gamma,y_gamma)\n",
    "plt.title('gamma distribution')\n",
    "plt.show()\n",
    "\n",
    "# from these two plots above, gamma distribution looks like it could be a great for fitting, but I should fit both\n",
    "# can use both of these functions for likelihoods in each bin"
   ]
  },
  {
   "cell_type": "code",
   "execution_count": 209,
   "metadata": {},
   "outputs": [
    {
     "data": {
      "image/png": "[encoded data removed]",
      "text/plain": [
       "<Figure size 432x288 with 1 Axes>"
      ]
     },
     "metadata": {},
     "output_type": "display_data"
    },
    {
     "data": {
      "image/png": "[encoded data removed]",
      "text/plain": [
       "<Figure size 432x288 with 1 Axes>"
      ]
     },
     "metadata": {},
     "output_type": "display_data"
    },
    {
     "data": {
      "image/png": "[encoded data removed]",
      "text/plain": [
       "<Figure size 432x288 with 1 Axes>"
      ]
     },
     "metadata": {},
     "output_type": "display_data"
    },
    {
     "data": {
      "image/png": "[encoded data removed]",
      "text/plain": [
       "<Figure size 432x288 with 1 Axes>"
      ]
     },
     "metadata": {},
     "output_type": "display_data"
    }
   ],
   "source": [
    "# let's examine the distributions of a couple of bins\n",
    "sns.distplot(sub_num_dfs[9]['review_score_float'])\n",
    "plt.show()\n",
    "sns.distplot(sub_num_dfs[9]['number_words_review'])\n",
    "plt.show()\n",
    "\n",
    "pos = 5\n",
    "sns.distplot(sub_num_dfs[pos]['review_score_float'])\n",
    "plt.show()\n",
    "sns.distplot(sub_num_dfs[pos]['number_words_review'])\n",
    "plt.show()\n",
    "\n",
    "# need to fit a distribution to each of these pieces now, and then I can answer some Bayesian questions"
   ]
  },
  {
   "cell_type": "markdown",
   "metadata": {},
   "source": [
    "Want to also examine to see if specific phrases are present, and how often they appear\n",
    "Phrases and variants to search for:\n",
    "- made me feel like ...\n",
    "    - makes me feel like\n",
    "    - feel like\n",
    "- it has a little something for everyone"
   ]
  },
  {
   "cell_type": "code",
   "execution_count": 224,
   "metadata": {},
   "outputs": [
    {
     "name": "stdout",
     "output_type": "stream",
     "text": [
      "2012 94 27 6 9 1163 76\n"
     ]
    }
   ],
   "source": [
    "i = 0\n",
    "j = 0\n",
    "k = 0\n",
    "l = 0\n",
    "m = 0\n",
    "n = 0\n",
    "p = 0\n",
    "for row in ign_filtered_df.itertuples():\n",
    "    if re.search('feel like', row.cleaned_review_body):\n",
    "        i += 1\n",
    "    if re.search('made me feel like', row.cleaned_review_body):\n",
    "        j += 1\n",
    "    if re.search('something for everyone', row.cleaned_review_body):\n",
    "        k += 1\n",
    "#         print(row.review_title)\n",
    "    if re.search('something for everybody', row.cleaned_review_body):\n",
    "        l += 1\n",
    "#         print(row.review_title)\n",
    "    if re.search('something for everyone', row.review_summary_rough):\n",
    "        m += 1\n",
    "#         print(row.review_title)\n",
    "    if re.search('wireless', row.tags.lower()):\n",
    "        n += 1\n",
    "        \n",
    "    if re.search('dlc', row.tags.lower()):\n",
    "#         print(row.review_title)\n",
    "        p += 1\n",
    "# these phrases might be better found in the review summary\n",
    "        \n",
    "print(i, j, k, l, m, n, p)\n"
   ]
  },
  {
   "cell_type": "markdown",
   "metadata": {},
   "source": [
    "Let's examine "
   ]
  }
 ],
 "metadata": {
  "kernelspec": {
   "display_name": "Python 3",
   "language": "python",
   "name": "python3"
  },
  "language_info": {
   "codemirror_mode": {
    "name": "ipython",
    "version": 3
   },
   "file_extension": ".py",
   "mimetype": "text/x-python",
   "name": "python",
   "nbconvert_exporter": "python",
   "pygments_lexer": "ipython3",
   "version": "3.7.3"
  }
 },
 "nbformat": 4,
 "nbformat_minor": 4
}
