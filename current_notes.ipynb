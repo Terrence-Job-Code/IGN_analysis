{
 "cells": [
  {
   "cell_type": "markdown",
   "metadata": {},
   "source": [
    "Just want to take notes on some ideas\n",
    "- look at ign top 100 (or some other number), see if I can come up with my own and compare to their list\n",
    "    - can try a few different models to see how they vary \n",
    "    - will clearly have a problem for games that don't have reviews\n",
    "- think of a way to visualize the semantic meaning (polarity and other thing) of words with the score\n",
    "    - plot it based on various authors, certain authors might just be more negative\n",
    "- compare various semantic meanings of authors\n",
    "- examine lengths of reviews based on score and author\n",
    "- maybe compare to other review website\n",
    "- try to create a feature to rank all games\n",
    "- could expand this to reviewers, and what I can find elsewhere\n",
    "- look at release dates of games (what day and time of year)\n",
    "    - might be a correlation between high ranked games and time of year/day\n",
    "- try to create a feature where you write a review, and then it assigns a score based on the review\n",
    "- try to find features that most impact scores\n",
    "\n",
    "\n",
    "- use various advanced deep learning NN to try to predict scores based on words\n",
    "- try gpt-2-simple (or something like it) to predict what a review would say\n",
    "- try other review generation methods to come up with reviews\n",
    "    - create your own review generation method\n",
    "- make a GAN to trick some of my classifiers about how real the review is\n",
    "    - if I can trick it, compare that review with real reviews, see if it's meaningful\n",
    "    \n",
    "- try to generate an IGN review based on information from other places (tags about game, comments from other websites, etc)\n",
    "\n",
    "- could try to use some aspects of the model (comparing score to review) to see if it works for movie reviews as well\n",
    "- Aside from the link, you could also try some unsupervised techniques to see what words or phrases show up the most, along with trying that with ngrams.\n",
    "- When I try to remove sections in the text (start div ... end div) I can create a second function to count how many remain at the end to get an idea of how clean the text is\n",
    "\n",
    "- can examine individual sentences and see which ones have the most positive sentiment\n",
    "- can try to get text from Game Grumps to see how they feel about given games\n",
    "- maybe try to find some examples of very polar language\n",
    "\n",
    "- Could also try training my own model to perform sentiment analysis, and see if that yields better results over textblob, and at the very least just compare with it"
   ]
  },
  {
   "cell_type": "markdown",
   "metadata": {},
   "source": [
    "# Some questions and ideas raised in my first eda pass\n",
    "\n",
    "In an effort to understand these plots a little better, lets take some averages of the data in bins (either half a point to a point) and see average word length. Should also plot the standard deviation\n",
    "\n",
    "- Could try to redistribute scores based on my understanding of their score criteria (https://corp.ign.com/review-practices) and just renormalizing it. \n",
    "\n",
    "- Could ask the question, what's the probability that a low score review gets many words written about it (bayesian stats BaBy!)\n",
    "\n",
    "- Can also compare the Bayesian approach to asking the question above and compare it to moving some number of standard deviations away from the mean\n",
    "\n",
    "- Questions: Are there similar tags between all games with short word counts? Are they mobile games? Or do a lot of them have authors in common?\n",
    "\n",
    "# Additional questions from the same file\n",
    "\n",
    "Here I've split up the score into bins (not of equal sizes) to see average word count for each bin. Some follow up questions:\n",
    "- How does the data look if I split the bins equally, i.e. if I have 10k reviews, each bin gets 1000 reviews going from lowest score to highest. What if I do 5 bins? This might give me a quick way to renormalize all of my data for a new scoring metric. How would this compare to mapping the scoring system to a normalized gaussian?\n",
    "\n",
    "- What if I create word bins? What is the average score for a given length of an article?\n",
    "\n",
    "- Should try to examine word length based on author, maybe some people just write more. And maybe some authors will specifically have a stronger polarity indicator\n",
    "\n",
    "- The initial results from the scoring \n",
    "\n",
    "## Instead of looking at the polarity of the whole article, consider looking at the number of positive and negative words in an article (7/12/2020)\n",
    "- can even make cuts on word polarity"
   ]
  },
  {
   "cell_type": "markdown",
   "metadata": {},
   "source": [
    "# Cleaning Ideas\n",
    "- eliminate/partition reviews based on platform\n",
    "- eliminate reviews based on whether they are dlc or full games"
   ]
  },
  {
   "cell_type": "markdown",
   "metadata": {},
   "source": [
    "# Premise for deep learning stuff\n",
    "\n",
    "Say you want to write reviews for a website or a blog, but you don't want to spend time writing reviews or playing the game. \n",
    "\n",
    "Can try and compare gpt2 based text generator model with a markov chain, and maybe some other text generator models.\n",
    "\n",
    "### Primary goals for text generator and deep learning tools:\n",
    "1. Create a deep learning model that scores reviews\n",
    "    - Have various ways on trying to structure this. Currently, I have a thought that I could produce a score based on each sentence and average them, along with providing sentiment score and maybe some other info.\n",
    "    - If I come up with a different way, I can obviously try that as well\n",
    "    - Should compare results based on different data inputs\n",
    "2. ~Train GPT2 345M and generate texts, check to see how similar their results are to the base~\n",
    "3. Create a GAN network to see if GPT2 can fool a network\n",
    "    - This seems difficult, because I'm not exactly providing feedback to gpt2. I could try to produce an intermediary model that selects the text most likely to pass and train it. \n",
    "    - I could also train my own simple text generator and have it train against an identifier.\n",
    "        - This could be interesting, because it might be able to identify exactly what my DL network that's identifying real articles is looking for\n",
    " \n",
    "Could examine many of these things with LDA and try to find some kind of topics (games), and use to examine output of gpt2"
   ]
  },
  {
   "cell_type": "markdown",
   "metadata": {},
   "source": [
    "# Playing with GPT2\n",
    "- Could try to do a comparison of 355M model with training vs the untrained 774M model."
   ]
  },
  {
   "cell_type": "markdown",
   "metadata": {},
   "source": [
    "# July 20, 2020 plans\n",
    "1. With a model that scores reviews, can use this to create a score for fake reviews\n",
    "2. With the fake review basically cemented, can create a network to try and tell real reviews from fake reviews\n",
    "3. Would also be neat to apply my previous analysis to the faked reviews as well\n",
    "\n",
    "Given that I have these things, but that basically involves training my models, I think it's time to start looking at fixing up some previous parts of my analysis\n",
    "\n",
    "Could also try to get a score from two models, along with a probability for that score, and then average scores that way\n",
    "\n",
    "# July 22, 2020\n",
    "\n",
    "### Some presentation notes:\n",
    "- Should make a table comparing results from different models. Have good ways of presenting my results \n",
    "- Start on the presentation by doing the analysis and results stuff first, then go back to the data cleaning and other less important parts of the presentation. My analysis sections are the meat of my presentation\n"
   ]
  },
  {
   "cell_type": "code",
   "execution_count": 1,
   "metadata": {},
   "outputs": [
    {
     "name": "stdout",
     "output_type": "stream",
     "text": [
      "0.175\n",
      "0.3\n",
      "Sentiment(polarity=0.175, subjectivity=0.3)\n"
     ]
    }
   ],
   "source": [
    "from textblob import TextBlob\n",
    "\n",
    "my_statement = TextBlob('most games are not worth your time')\n",
    "print(my_statement.polarity)\n",
    "print(my_statement.subjectivity)\n",
    "print(my_statement.sentiment)"
   ]
  },
  {
   "cell_type": "code",
   "execution_count": 2,
   "metadata": {},
   "outputs": [
    {
     "name": "stdout",
     "output_type": "stream",
     "text": [
      "0.175\n",
      "0.3\n",
      "Sentiment(classification='pos', p_pos=0.6085411554070193, p_neg=0.39145884459298064)\n"
     ]
    }
   ],
   "source": [
    "import nltk\n",
    "# nltk.download('movie_reviews') # don't need to download a second time\n",
    "\n",
    "from textblob.sentiments import NaiveBayesAnalyzer\n",
    "my_statement_2 = TextBlob('most games are not worth your time', analyzer=NaiveBayesAnalyzer())\n",
    "print(my_statement_2.polarity)\n",
    "print(my_statement_2.subjectivity)\n",
    "print(my_statement_2.sentiment)"
   ]
  },
  {
   "cell_type": "markdown",
   "metadata": {},
   "source": [
    "Even though this page is for notes, should make sure I understand what these results mean. Initially, I'm thinking these are probabilities, but on what distribution, and how should I use it going forward?"
   ]
  },
  {
   "cell_type": "code",
   "execution_count": 3,
   "metadata": {},
   "outputs": [
    {
     "name": "stdout",
     "output_type": "stream",
     "text": [
      "Sentiment(polarity=0.0, subjectivity=0.0)\n"
     ]
    }
   ],
   "source": [
    "word = 'help'\n",
    "word_test = TextBlob(word)\n",
    "print(word_test.sentiment)"
   ]
  },
  {
   "cell_type": "code",
   "execution_count": 28,
   "metadata": {},
   "outputs": [
    {
     "name": "stdout",
     "output_type": "stream",
     "text": [
      "This game really makes you feel like Batman \t\t\t\t Sentiment(polarity=-0.1, subjectivity=0.30000000000000004)\n",
      "I hated the flow of the game! It was awful. \t\t\t\t Sentiment(polarity=-0.7999999999999999, subjectivity=0.7000000000000001)\n",
      "The controls for this game were broken. Bugs existed at every turn. \t Sentiment(polarity=-0.4, subjectivity=0.4)\n",
      "I loved the story of The Last of Us. \t\t\t\t\t Sentiment(polarity=0.35, subjectivity=0.43333333333333335)\n",
      "Today is Sunday \t\t\t\t\t\t\t Sentiment(polarity=0.0, subjectivity=0.0)\n",
      "The two people loved each other \t\t\t\t\t Sentiment(polarity=0.2875, subjectivity=0.5875)\n"
     ]
    }
   ],
   "source": [
    "phrase01 = TextBlob('This game really makes you feel like Batman')\n",
    "phrase02 = TextBlob('I hated the flow of the game! It was awful.')\n",
    "phrase03 = TextBlob('The controls for this game were broken. Bugs existed at every turn.')\n",
    "phrase04 = TextBlob('I loved the story of The Last of Us.')\n",
    "phrase05 = TextBlob('Today is Sunday')\n",
    "phrase06 = TextBlob('The two people loved each other')\n",
    "\n",
    "print(phrase01, '\\t\\t\\t\\t', phrase01.sentiment)\n",
    "print(phrase02, '\\t\\t\\t\\t', phrase02.sentiment)\n",
    "print(phrase03, '\\t', phrase03.sentiment)\n",
    "print(phrase04, '\\t\\t\\t\\t\\t', phrase04.sentiment)\n",
    "print(phrase05, '\\t\\t\\t\\t\\t\\t\\t', phrase05.sentiment)\n",
    "print(phrase06, '\\t\\t\\t\\t\\t', phrase06.sentiment)"
   ]
  },
  {
   "cell_type": "code",
   "execution_count": 29,
   "metadata": {},
   "outputs": [],
   "source": [
    "import seaborn as sns\n",
    "import matplotlib.pyplot as plt\n",
    "import pandas as pd\n",
    "import numpy as np\n",
    "import plotly.graph_objects as go\n",
    "import plotly.express as px"
   ]
  },
  {
   "cell_type": "code",
   "execution_count": 39,
   "metadata": {},
   "outputs": [
    {
     "data": {
      "application/vnd.plotly.v1+json": {
       "config": {
        "plotlyServerURL": "https://plot.ly"
       },
       "data": [
        {
         "type": "scatter",
         "x": [
          -1,
          -0.9899497487437185,
          -0.9798994974874372,
          -0.9698492462311558,
          -0.9597989949748744,
          -0.949748743718593,
          -0.9396984924623115,
          -0.9296482412060302,
          -0.9195979899497487,
          -0.9095477386934674,
          -0.8994974874371859,
          -0.8894472361809045,
          -0.8793969849246231,
          -0.8693467336683417,
          -0.8592964824120604,
          -0.8492462311557789,
          -0.8391959798994975,
          -0.8291457286432161,
          -0.8190954773869347,
          -0.8090452261306533,
          -0.7989949748743719,
          -0.7889447236180904,
          -0.778894472361809,
          -0.7688442211055276,
          -0.7587939698492463,
          -0.7487437185929648,
          -0.7386934673366834,
          -0.728643216080402,
          -0.7185929648241206,
          -0.7085427135678393,
          -0.6984924623115578,
          -0.6884422110552764,
          -0.6783919597989949,
          -0.6683417085427136,
          -0.6582914572864322,
          -0.6482412060301508,
          -0.6381909547738693,
          -0.6281407035175879,
          -0.6180904522613065,
          -0.6080402010050251,
          -0.5979899497487438,
          -0.5879396984924623,
          -0.5778894472361809,
          -0.5678391959798995,
          -0.5577889447236181,
          -0.5477386934673367,
          -0.5376884422110553,
          -0.5276381909547738,
          -0.5175879396984925,
          -0.507537688442211,
          -0.4974874371859297,
          -0.48743718592964824,
          -0.4773869346733668,
          -0.46733668341708545,
          -0.457286432160804,
          -0.44723618090452255,
          -0.4371859296482412,
          -0.42713567839195976,
          -0.4170854271356784,
          -0.40703517587939697,
          -0.3969849246231155,
          -0.3869346733668342,
          -0.37688442211055273,
          -0.3668341708542714,
          -0.35678391959798994,
          -0.3467336683417085,
          -0.33668341708542715,
          -0.3266331658291457,
          -0.31658291457286436,
          -0.3065326633165829,
          -0.29648241206030146,
          -0.2864321608040201,
          -0.27638190954773867,
          -0.26633165829145733,
          -0.2562814070351759,
          -0.24623115577889443,
          -0.2361809045226131,
          -0.22613065326633164,
          -0.2160804020100502,
          -0.20603015075376885,
          -0.1959798994974874,
          -0.18592964824120606,
          -0.1758793969849246,
          -0.16582914572864316,
          -0.15577889447236182,
          -0.14572864321608037,
          -0.13567839195979903,
          -0.12562814070351758,
          -0.11557788944723613,
          -0.10552763819095479,
          -0.09547738693467334,
          -0.085427135678392,
          -0.07537688442211055,
          -0.0653266331658291,
          -0.055276381909547756,
          -0.045226130653266305,
          -0.035175879396984966,
          -0.025125628140703515,
          -0.015075376884422065,
          -0.005025125628140725,
          0.005025125628140614,
          0.015075376884422065,
          0.025125628140703515,
          0.035175879396984966,
          0.045226130653266416,
          0.055276381909547645,
          0.0653266331658291,
          0.07537688442211055,
          0.085427135678392,
          0.09547738693467345,
          0.1055276381909549,
          0.11557788944723613,
          0.12562814070351758,
          0.13567839195979903,
          0.14572864321608048,
          0.15577889447236193,
          0.16582914572864316,
          0.1758793969849246,
          0.18592964824120606,
          0.1959798994974875,
          0.20603015075376896,
          0.2160804020100502,
          0.22613065326633164,
          0.2361809045226131,
          0.24623115577889454,
          0.256281407035176,
          0.2663316582914572,
          0.27638190954773867,
          0.2864321608040201,
          0.29648241206030157,
          0.306532663316583,
          0.31658291457286425,
          0.3266331658291457,
          0.33668341708542715,
          0.3467336683417086,
          0.35678391959799005,
          0.3668341708542713,
          0.37688442211055273,
          0.3869346733668342,
          0.39698492462311563,
          0.4070351758793971,
          0.4170854271356783,
          0.42713567839195976,
          0.4371859296482412,
          0.44723618090452266,
          0.4572864321608041,
          0.46733668341708534,
          0.4773869346733668,
          0.48743718592964824,
          0.4974874371859297,
          0.5075376884422111,
          0.5175879396984926,
          0.5276381909547738,
          0.5376884422110553,
          0.5477386934673367,
          0.5577889447236182,
          0.5678391959798996,
          0.5778894472361809,
          0.5879396984924623,
          0.5979899497487438,
          0.6080402010050252,
          0.6180904522613067,
          0.6281407035175879,
          0.6381909547738693,
          0.6482412060301508,
          0.6582914572864322,
          0.6683417085427137,
          0.6783919597989949,
          0.6884422110552764,
          0.6984924623115578,
          0.7085427135678393,
          0.7185929648241207,
          0.728643216080402,
          0.7386934673366834,
          0.7487437185929648,
          0.7587939698492463,
          0.7688442211055277,
          0.778894472361809,
          0.7889447236180904,
          0.7989949748743719,
          0.8090452261306533,
          0.8190954773869348,
          0.829145728643216,
          0.8391959798994975,
          0.8492462311557789,
          0.8592964824120604,
          0.8693467336683418,
          0.879396984924623,
          0.8894472361809045,
          0.8994974874371859,
          0.9095477386934674,
          0.9195979899497488,
          0.9296482412060301,
          0.9396984924623115,
          0.949748743718593,
          0.9597989949748744,
          0.9698492462311559,
          0.9798994974874373,
          0.9899497487437185,
          1
         ],
         "y": [
          0,
          0,
          0,
          0,
          0,
          0,
          0,
          0,
          0,
          0,
          0,
          0,
          0,
          0,
          0,
          0,
          0,
          0,
          0,
          0,
          0,
          0,
          0,
          0,
          0,
          0,
          0,
          0,
          0,
          0,
          0,
          0,
          0,
          0,
          0,
          0,
          0,
          0,
          0,
          0,
          0,
          0,
          0,
          0,
          0,
          0,
          0,
          0,
          0,
          0,
          0,
          0,
          0,
          0,
          0,
          0,
          0,
          0,
          0,
          0,
          0,
          0,
          0,
          0,
          0,
          0,
          0,
          0,
          0,
          0,
          0,
          0,
          0,
          0,
          0,
          0,
          0,
          0,
          0,
          0,
          0,
          0,
          0,
          0,
          0,
          0,
          0,
          0,
          0,
          0,
          0,
          0,
          0,
          0,
          0,
          0,
          0,
          0,
          0,
          0,
          0,
          0,
          0,
          0,
          0,
          0,
          0,
          0,
          0,
          0,
          0,
          0,
          0,
          0,
          0,
          0,
          0,
          0,
          0,
          0,
          0,
          0,
          0,
          0,
          0,
          0,
          0,
          0,
          0,
          0,
          0,
          0,
          0,
          0,
          0,
          0,
          0,
          0,
          0,
          0,
          0,
          0,
          0,
          0,
          0,
          0,
          0,
          0,
          0,
          0,
          0,
          0,
          0,
          0,
          0,
          0,
          0,
          0,
          0,
          0,
          0,
          0,
          0,
          0,
          0,
          0,
          0,
          0,
          0,
          0,
          0,
          0,
          0,
          0,
          0,
          0,
          0,
          0,
          0,
          0,
          0,
          0,
          0,
          0,
          0,
          0,
          0,
          0,
          0,
          0,
          0,
          0,
          0,
          0,
          0,
          0,
          0,
          0,
          0,
          0
         ]
        },
        {
         "type": "scatter",
         "x": [
          0,
          0,
          0,
          0,
          0,
          0,
          0,
          0,
          0,
          0,
          0,
          0,
          0,
          0,
          0,
          0,
          0,
          0,
          0,
          0,
          0,
          0,
          0,
          0,
          0,
          0,
          0,
          0,
          0,
          0,
          0,
          0,
          0,
          0,
          0,
          0,
          0,
          0,
          0,
          0,
          0,
          0,
          0,
          0,
          0,
          0,
          0,
          0,
          0,
          0,
          0,
          0,
          0,
          0,
          0,
          0,
          0,
          0,
          0,
          0,
          0,
          0,
          0,
          0,
          0,
          0,
          0,
          0,
          0,
          0,
          0,
          0,
          0,
          0,
          0,
          0,
          0,
          0,
          0,
          0,
          0,
          0,
          0,
          0,
          0,
          0,
          0,
          0,
          0,
          0,
          0,
          0,
          0,
          0,
          0,
          0,
          0,
          0,
          0,
          0
         ],
         "y": [
          0,
          0.010101010101010102,
          0.020202020202020204,
          0.030303030303030304,
          0.04040404040404041,
          0.05050505050505051,
          0.06060606060606061,
          0.07070707070707072,
          0.08080808080808081,
          0.09090909090909091,
          0.10101010101010102,
          0.11111111111111112,
          0.12121212121212122,
          0.13131313131313133,
          0.14141414141414144,
          0.15151515151515152,
          0.16161616161616163,
          0.17171717171717174,
          0.18181818181818182,
          0.19191919191919193,
          0.20202020202020204,
          0.21212121212121213,
          0.22222222222222224,
          0.23232323232323235,
          0.24242424242424243,
          0.25252525252525254,
          0.26262626262626265,
          0.27272727272727276,
          0.2828282828282829,
          0.29292929292929293,
          0.30303030303030304,
          0.31313131313131315,
          0.32323232323232326,
          0.33333333333333337,
          0.3434343434343435,
          0.3535353535353536,
          0.36363636363636365,
          0.37373737373737376,
          0.38383838383838387,
          0.393939393939394,
          0.4040404040404041,
          0.4141414141414142,
          0.42424242424242425,
          0.43434343434343436,
          0.4444444444444445,
          0.4545454545454546,
          0.4646464646464647,
          0.4747474747474748,
          0.48484848484848486,
          0.494949494949495,
          0.5050505050505051,
          0.5151515151515152,
          0.5252525252525253,
          0.5353535353535354,
          0.5454545454545455,
          0.5555555555555556,
          0.5656565656565657,
          0.5757575757575758,
          0.5858585858585859,
          0.595959595959596,
          0.6060606060606061,
          0.6161616161616162,
          0.6262626262626263,
          0.6363636363636365,
          0.6464646464646465,
          0.6565656565656566,
          0.6666666666666667,
          0.6767676767676768,
          0.686868686868687,
          0.696969696969697,
          0.7070707070707072,
          0.7171717171717172,
          0.7272727272727273,
          0.7373737373737375,
          0.7474747474747475,
          0.7575757575757577,
          0.7676767676767677,
          0.7777777777777778,
          0.787878787878788,
          0.797979797979798,
          0.8080808080808082,
          0.8181818181818182,
          0.8282828282828284,
          0.8383838383838385,
          0.8484848484848485,
          0.8585858585858587,
          0.8686868686868687,
          0.8787878787878789,
          0.888888888888889,
          0.8989898989898991,
          0.9090909090909092,
          0.9191919191919192,
          0.9292929292929294,
          0.9393939393939394,
          0.9494949494949496,
          0.9595959595959597,
          0.9696969696969697,
          0.9797979797979799,
          0.98989898989899,
          1
         ]
        }
       ],
       "layout": {
        "autosize": true,
        "template": {
         "data": {
          "bar": [
           {
            "error_x": {
             "color": "#2a3f5f"
            },
            "error_y": {
             "color": "#2a3f5f"
            },
            "marker": {
             "line": {
              "color": "#E5ECF6",
              "width": 0.5
             }
            },
            "type": "bar"
           }
          ],
          "barpolar": [
           {
            "marker": {
             "line": {
              "color": "#E5ECF6",
              "width": 0.5
             }
            },
            "type": "barpolar"
           }
          ],
          "carpet": [
           {
            "aaxis": {
             "endlinecolor": "#2a3f5f",
             "gridcolor": "white",
             "linecolor": "white",
             "minorgridcolor": "white",
             "startlinecolor": "#2a3f5f"
            },
            "baxis": {
             "endlinecolor": "#2a3f5f",
             "gridcolor": "white",
             "linecolor": "white",
             "minorgridcolor": "white",
             "startlinecolor": "#2a3f5f"
            },
            "type": "carpet"
           }
          ],
          "choropleth": [
           {
            "colorbar": {
             "outlinewidth": 0,
             "ticks": ""
            },
            "type": "choropleth"
           }
          ],
          "contour": [
           {
            "colorbar": {
             "outlinewidth": 0,
             "ticks": ""
            },
            "colorscale": [
             [
              0,
              "#0d0887"
             ],
             [
              0.1111111111111111,
              "#46039f"
             ],
             [
              0.2222222222222222,
              "#7201a8"
             ],
             [
              0.3333333333333333,
              "#9c179e"
             ],
             [
              0.4444444444444444,
              "#bd3786"
             ],
             [
              0.5555555555555556,
              "#d8576b"
             ],
             [
              0.6666666666666666,
              "#ed7953"
             ],
             [
              0.7777777777777778,
              "#fb9f3a"
             ],
             [
              0.8888888888888888,
              "#fdca26"
             ],
             [
              1,
              "#f0f921"
             ]
            ],
            "type": "contour"
           }
          ],
          "contourcarpet": [
           {
            "colorbar": {
             "outlinewidth": 0,
             "ticks": ""
            },
            "type": "contourcarpet"
           }
          ],
          "heatmap": [
           {
            "colorbar": {
             "outlinewidth": 0,
             "ticks": ""
            },
            "colorscale": [
             [
              0,
              "#0d0887"
             ],
             [
              0.1111111111111111,
              "#46039f"
             ],
             [
              0.2222222222222222,
              "#7201a8"
             ],
             [
              0.3333333333333333,
              "#9c179e"
             ],
             [
              0.4444444444444444,
              "#bd3786"
             ],
             [
              0.5555555555555556,
              "#d8576b"
             ],
             [
              0.6666666666666666,
              "#ed7953"
             ],
             [
              0.7777777777777778,
              "#fb9f3a"
             ],
             [
              0.8888888888888888,
              "#fdca26"
             ],
             [
              1,
              "#f0f921"
             ]
            ],
            "type": "heatmap"
           }
          ],
          "heatmapgl": [
           {
            "colorbar": {
             "outlinewidth": 0,
             "ticks": ""
            },
            "colorscale": [
             [
              0,
              "#0d0887"
             ],
             [
              0.1111111111111111,
              "#46039f"
             ],
             [
              0.2222222222222222,
              "#7201a8"
             ],
             [
              0.3333333333333333,
              "#9c179e"
             ],
             [
              0.4444444444444444,
              "#bd3786"
             ],
             [
              0.5555555555555556,
              "#d8576b"
             ],
             [
              0.6666666666666666,
              "#ed7953"
             ],
             [
              0.7777777777777778,
              "#fb9f3a"
             ],
             [
              0.8888888888888888,
              "#fdca26"
             ],
             [
              1,
              "#f0f921"
             ]
            ],
            "type": "heatmapgl"
           }
          ],
          "histogram": [
           {
            "marker": {
             "colorbar": {
              "outlinewidth": 0,
              "ticks": ""
             }
            },
            "type": "histogram"
           }
          ],
          "histogram2d": [
           {
            "colorbar": {
             "outlinewidth": 0,
             "ticks": ""
            },
            "colorscale": [
             [
              0,
              "#0d0887"
             ],
             [
              0.1111111111111111,
              "#46039f"
             ],
             [
              0.2222222222222222,
              "#7201a8"
             ],
             [
              0.3333333333333333,
              "#9c179e"
             ],
             [
              0.4444444444444444,
              "#bd3786"
             ],
             [
              0.5555555555555556,
              "#d8576b"
             ],
             [
              0.6666666666666666,
              "#ed7953"
             ],
             [
              0.7777777777777778,
              "#fb9f3a"
             ],
             [
              0.8888888888888888,
              "#fdca26"
             ],
             [
              1,
              "#f0f921"
             ]
            ],
            "type": "histogram2d"
           }
          ],
          "histogram2dcontour": [
           {
            "colorbar": {
             "outlinewidth": 0,
             "ticks": ""
            },
            "colorscale": [
             [
              0,
              "#0d0887"
             ],
             [
              0.1111111111111111,
              "#46039f"
             ],
             [
              0.2222222222222222,
              "#7201a8"
             ],
             [
              0.3333333333333333,
              "#9c179e"
             ],
             [
              0.4444444444444444,
              "#bd3786"
             ],
             [
              0.5555555555555556,
              "#d8576b"
             ],
             [
              0.6666666666666666,
              "#ed7953"
             ],
             [
              0.7777777777777778,
              "#fb9f3a"
             ],
             [
              0.8888888888888888,
              "#fdca26"
             ],
             [
              1,
              "#f0f921"
             ]
            ],
            "type": "histogram2dcontour"
           }
          ],
          "mesh3d": [
           {
            "colorbar": {
             "outlinewidth": 0,
             "ticks": ""
            },
            "type": "mesh3d"
           }
          ],
          "parcoords": [
           {
            "line": {
             "colorbar": {
              "outlinewidth": 0,
              "ticks": ""
             }
            },
            "type": "parcoords"
           }
          ],
          "pie": [
           {
            "automargin": true,
            "type": "pie"
           }
          ],
          "scatter": [
           {
            "marker": {
             "colorbar": {
              "outlinewidth": 0,
              "ticks": ""
             }
            },
            "type": "scatter"
           }
          ],
          "scatter3d": [
           {
            "line": {
             "colorbar": {
              "outlinewidth": 0,
              "ticks": ""
             }
            },
            "marker": {
             "colorbar": {
              "outlinewidth": 0,
              "ticks": ""
             }
            },
            "type": "scatter3d"
           }
          ],
          "scattercarpet": [
           {
            "marker": {
             "colorbar": {
              "outlinewidth": 0,
              "ticks": ""
             }
            },
            "type": "scattercarpet"
           }
          ],
          "scattergeo": [
           {
            "marker": {
             "colorbar": {
              "outlinewidth": 0,
              "ticks": ""
             }
            },
            "type": "scattergeo"
           }
          ],
          "scattergl": [
           {
            "marker": {
             "colorbar": {
              "outlinewidth": 0,
              "ticks": ""
             }
            },
            "type": "scattergl"
           }
          ],
          "scattermapbox": [
           {
            "marker": {
             "colorbar": {
              "outlinewidth": 0,
              "ticks": ""
             }
            },
            "type": "scattermapbox"
           }
          ],
          "scatterpolar": [
           {
            "marker": {
             "colorbar": {
              "outlinewidth": 0,
              "ticks": ""
             }
            },
            "type": "scatterpolar"
           }
          ],
          "scatterpolargl": [
           {
            "marker": {
             "colorbar": {
              "outlinewidth": 0,
              "ticks": ""
             }
            },
            "type": "scatterpolargl"
           }
          ],
          "scatterternary": [
           {
            "marker": {
             "colorbar": {
              "outlinewidth": 0,
              "ticks": ""
             }
            },
            "type": "scatterternary"
           }
          ],
          "surface": [
           {
            "colorbar": {
             "outlinewidth": 0,
             "ticks": ""
            },
            "colorscale": [
             [
              0,
              "#0d0887"
             ],
             [
              0.1111111111111111,
              "#46039f"
             ],
             [
              0.2222222222222222,
              "#7201a8"
             ],
             [
              0.3333333333333333,
              "#9c179e"
             ],
             [
              0.4444444444444444,
              "#bd3786"
             ],
             [
              0.5555555555555556,
              "#d8576b"
             ],
             [
              0.6666666666666666,
              "#ed7953"
             ],
             [
              0.7777777777777778,
              "#fb9f3a"
             ],
             [
              0.8888888888888888,
              "#fdca26"
             ],
             [
              1,
              "#f0f921"
             ]
            ],
            "type": "surface"
           }
          ],
          "table": [
           {
            "cells": {
             "fill": {
              "color": "#EBF0F8"
             },
             "line": {
              "color": "white"
             }
            },
            "header": {
             "fill": {
              "color": "#C8D4E3"
             },
             "line": {
              "color": "white"
             }
            },
            "type": "table"
           }
          ]
         },
         "layout": {
          "annotationdefaults": {
           "arrowcolor": "#2a3f5f",
           "arrowhead": 0,
           "arrowwidth": 1
          },
          "coloraxis": {
           "colorbar": {
            "outlinewidth": 0,
            "ticks": ""
           }
          },
          "colorscale": {
           "diverging": [
            [
             0,
             "#8e0152"
            ],
            [
             0.1,
             "#c51b7d"
            ],
            [
             0.2,
             "#de77ae"
            ],
            [
             0.3,
             "#f1b6da"
            ],
            [
             0.4,
             "#fde0ef"
            ],
            [
             0.5,
             "#f7f7f7"
            ],
            [
             0.6,
             "#e6f5d0"
            ],
            [
             0.7,
             "#b8e186"
            ],
            [
             0.8,
             "#7fbc41"
            ],
            [
             0.9,
             "#4d9221"
            ],
            [
             1,
             "#276419"
            ]
           ],
           "sequential": [
            [
             0,
             "#0d0887"
            ],
            [
             0.1111111111111111,
             "#46039f"
            ],
            [
             0.2222222222222222,
             "#7201a8"
            ],
            [
             0.3333333333333333,
             "#9c179e"
            ],
            [
             0.4444444444444444,
             "#bd3786"
            ],
            [
             0.5555555555555556,
             "#d8576b"
            ],
            [
             0.6666666666666666,
             "#ed7953"
            ],
            [
             0.7777777777777778,
             "#fb9f3a"
            ],
            [
             0.8888888888888888,
             "#fdca26"
            ],
            [
             1,
             "#f0f921"
            ]
           ],
           "sequentialminus": [
            [
             0,
             "#0d0887"
            ],
            [
             0.1111111111111111,
             "#46039f"
            ],
            [
             0.2222222222222222,
             "#7201a8"
            ],
            [
             0.3333333333333333,
             "#9c179e"
            ],
            [
             0.4444444444444444,
             "#bd3786"
            ],
            [
             0.5555555555555556,
             "#d8576b"
            ],
            [
             0.6666666666666666,
             "#ed7953"
            ],
            [
             0.7777777777777778,
             "#fb9f3a"
            ],
            [
             0.8888888888888888,
             "#fdca26"
            ],
            [
             1,
             "#f0f921"
            ]
           ]
          },
          "colorway": [
           "#636efa",
           "#EF553B",
           "#00cc96",
           "#ab63fa",
           "#FFA15A",
           "#19d3f3",
           "#FF6692",
           "#B6E880",
           "#FF97FF",
           "#FECB52"
          ],
          "font": {
           "color": "#2a3f5f"
          },
          "geo": {
           "bgcolor": "white",
           "lakecolor": "white",
           "landcolor": "#E5ECF6",
           "showlakes": true,
           "showland": true,
           "subunitcolor": "white"
          },
          "hoverlabel": {
           "align": "left"
          },
          "hovermode": "closest",
          "mapbox": {
           "style": "light"
          },
          "paper_bgcolor": "white",
          "plot_bgcolor": "#E5ECF6",
          "polar": {
           "angularaxis": {
            "gridcolor": "white",
            "linecolor": "white",
            "ticks": ""
           },
           "bgcolor": "#E5ECF6",
           "radialaxis": {
            "gridcolor": "white",
            "linecolor": "white",
            "ticks": ""
           }
          },
          "scene": {
           "xaxis": {
            "backgroundcolor": "#E5ECF6",
            "gridcolor": "white",
            "gridwidth": 2,
            "linecolor": "white",
            "showbackground": true,
            "ticks": "",
            "zerolinecolor": "white"
           },
           "yaxis": {
            "backgroundcolor": "#E5ECF6",
            "gridcolor": "white",
            "gridwidth": 2,
            "linecolor": "white",
            "showbackground": true,
            "ticks": "",
            "zerolinecolor": "white"
           },
           "zaxis": {
            "backgroundcolor": "#E5ECF6",
            "gridcolor": "white",
            "gridwidth": 2,
            "linecolor": "white",
            "showbackground": true,
            "ticks": "",
            "zerolinecolor": "white"
           }
          },
          "shapedefaults": {
           "line": {
            "color": "#2a3f5f"
           }
          },
          "ternary": {
           "aaxis": {
            "gridcolor": "white",
            "linecolor": "white",
            "ticks": ""
           },
           "baxis": {
            "gridcolor": "white",
            "linecolor": "white",
            "ticks": ""
           },
           "bgcolor": "#E5ECF6",
           "caxis": {
            "gridcolor": "white",
            "linecolor": "white",
            "ticks": ""
           }
          },
          "title": {
           "x": 0.05
          },
          "xaxis": {
           "automargin": true,
           "gridcolor": "white",
           "linecolor": "white",
           "ticks": "",
           "title": {
            "standoff": 15
           },
           "zerolinecolor": "white",
           "zerolinewidth": 2
          },
          "yaxis": {
           "automargin": true,
           "gridcolor": "white",
           "linecolor": "white",
           "ticks": "",
           "title": {
            "standoff": 15
           },
           "zerolinecolor": "white",
           "zerolinewidth": 2
          }
         }
        },
        "title": {
         "text": "Subjectivity vs Polarity"
        },
        "xaxis": {
         "autorange": true,
         "range": [
          -1,
          1
         ],
         "tickmode": "array",
         "ticktext": [
          "Negative",
          "0.5",
          "0",
          "0.5",
          "Positive"
         ],
         "tickvals": [
          -1,
          -0.5,
          0,
          0.5,
          1
         ],
         "title": {
          "text": "Polarity"
         },
         "type": "linear"
        },
        "yaxis": {
         "autorange": true,
         "range": [
          -0.05555555555555556,
          1.0555555555555556
         ],
         "tickmode": "array",
         "ticktext": [
          "Fact",
          "0.2",
          "0.4",
          "0.6",
          "0.8",
          "Opinion"
         ],
         "tickvals": [
          0,
          0.2,
          0.4,
          0.6,
          0.8,
          1
         ],
         "title": {
          "text": "Subjectivity"
         },
         "type": "linear"
        }
       }
      },
      "image/png": "[encoded data removed]",
      "text/html": [
       "<div>\n",
       "        \n",
       "        \n",
       "            <div id=\"e8b0ea17-22db-4ed3-a746-6498c449f60d\" class=\"plotly-graph-div\" style=\"height:525px; width:100%;\"></div>\n",
       "            <script type=\"text/javascript\">\n",
       "                require([\"plotly\"], function(Plotly) {\n",
       "                    window.PLOTLYENV=window.PLOTLYENV || {};\n",
       "                    \n",
       "                if (document.getElementById(\"e8b0ea17-22db-4ed3-a746-6498c449f60d\")) {\n",
       "                    Plotly.newPlot(\n",
       "                        'e8b0ea17-22db-4ed3-a746-6498c449f60d',\n",
       "                        [{\"type\": \"scatter\", \"x\": [-1.0, -0.9899497487437185, -0.9798994974874372, -0.9698492462311558, -0.9597989949748744, -0.949748743718593, -0.9396984924623115, -0.9296482412060302, -0.9195979899497487, -0.9095477386934674, -0.8994974874371859, -0.8894472361809045, -0.8793969849246231, -0.8693467336683417, -0.8592964824120604, -0.8492462311557789, -0.8391959798994975, -0.8291457286432161, -0.8190954773869347, -0.8090452261306533, -0.7989949748743719, -0.7889447236180904, -0.778894472361809, -0.7688442211055276, -0.7587939698492463, -0.7487437185929648, -0.7386934673366834, -0.728643216080402, -0.7185929648241206, -0.7085427135678393, -0.6984924623115578, -0.6884422110552764, -0.6783919597989949, -0.6683417085427136, -0.6582914572864322, -0.6482412060301508, -0.6381909547738693, -0.6281407035175879, -0.6180904522613065, -0.6080402010050251, -0.5979899497487438, -0.5879396984924623, -0.5778894472361809, -0.5678391959798995, -0.5577889447236181, -0.5477386934673367, -0.5376884422110553, -0.5276381909547738, -0.5175879396984925, -0.507537688442211, -0.4974874371859297, -0.48743718592964824, -0.4773869346733668, -0.46733668341708545, -0.457286432160804, -0.44723618090452255, -0.4371859296482412, -0.42713567839195976, -0.4170854271356784, -0.40703517587939697, -0.3969849246231155, -0.3869346733668342, -0.37688442211055273, -0.3668341708542714, -0.35678391959798994, -0.3467336683417085, -0.33668341708542715, -0.3266331658291457, -0.31658291457286436, -0.3065326633165829, -0.29648241206030146, -0.2864321608040201, -0.27638190954773867, -0.26633165829145733, -0.2562814070351759, -0.24623115577889443, -0.2361809045226131, -0.22613065326633164, -0.2160804020100502, -0.20603015075376885, -0.1959798994974874, -0.18592964824120606, -0.1758793969849246, -0.16582914572864316, -0.15577889447236182, -0.14572864321608037, -0.13567839195979903, -0.12562814070351758, -0.11557788944723613, -0.10552763819095479, -0.09547738693467334, -0.085427135678392, -0.07537688442211055, -0.0653266331658291, -0.055276381909547756, -0.045226130653266305, -0.035175879396984966, -0.025125628140703515, -0.015075376884422065, -0.005025125628140725, 0.005025125628140614, 0.015075376884422065, 0.025125628140703515, 0.035175879396984966, 0.045226130653266416, 0.055276381909547645, 0.0653266331658291, 0.07537688442211055, 0.085427135678392, 0.09547738693467345, 0.1055276381909549, 0.11557788944723613, 0.12562814070351758, 0.13567839195979903, 0.14572864321608048, 0.15577889447236193, 0.16582914572864316, 0.1758793969849246, 0.18592964824120606, 0.1959798994974875, 0.20603015075376896, 0.2160804020100502, 0.22613065326633164, 0.2361809045226131, 0.24623115577889454, 0.256281407035176, 0.2663316582914572, 0.27638190954773867, 0.2864321608040201, 0.29648241206030157, 0.306532663316583, 0.31658291457286425, 0.3266331658291457, 0.33668341708542715, 0.3467336683417086, 0.35678391959799005, 0.3668341708542713, 0.37688442211055273, 0.3869346733668342, 0.39698492462311563, 0.4070351758793971, 0.4170854271356783, 0.42713567839195976, 0.4371859296482412, 0.44723618090452266, 0.4572864321608041, 0.46733668341708534, 0.4773869346733668, 0.48743718592964824, 0.4974874371859297, 0.5075376884422111, 0.5175879396984926, 0.5276381909547738, 0.5376884422110553, 0.5477386934673367, 0.5577889447236182, 0.5678391959798996, 0.5778894472361809, 0.5879396984924623, 0.5979899497487438, 0.6080402010050252, 0.6180904522613067, 0.6281407035175879, 0.6381909547738693, 0.6482412060301508, 0.6582914572864322, 0.6683417085427137, 0.6783919597989949, 0.6884422110552764, 0.6984924623115578, 0.7085427135678393, 0.7185929648241207, 0.728643216080402, 0.7386934673366834, 0.7487437185929648, 0.7587939698492463, 0.7688442211055277, 0.778894472361809, 0.7889447236180904, 0.7989949748743719, 0.8090452261306533, 0.8190954773869348, 0.829145728643216, 0.8391959798994975, 0.8492462311557789, 0.8592964824120604, 0.8693467336683418, 0.879396984924623, 0.8894472361809045, 0.8994974874371859, 0.9095477386934674, 0.9195979899497488, 0.9296482412060301, 0.9396984924623115, 0.949748743718593, 0.9597989949748744, 0.9698492462311559, 0.9798994974874373, 0.9899497487437185, 1.0], \"y\": [0.0, 0.0, 0.0, 0.0, 0.0, 0.0, 0.0, 0.0, 0.0, 0.0, 0.0, 0.0, 0.0, 0.0, 0.0, 0.0, 0.0, 0.0, 0.0, 0.0, 0.0, 0.0, 0.0, 0.0, 0.0, 0.0, 0.0, 0.0, 0.0, 0.0, 0.0, 0.0, 0.0, 0.0, 0.0, 0.0, 0.0, 0.0, 0.0, 0.0, 0.0, 0.0, 0.0, 0.0, 0.0, 0.0, 0.0, 0.0, 0.0, 0.0, 0.0, 0.0, 0.0, 0.0, 0.0, 0.0, 0.0, 0.0, 0.0, 0.0, 0.0, 0.0, 0.0, 0.0, 0.0, 0.0, 0.0, 0.0, 0.0, 0.0, 0.0, 0.0, 0.0, 0.0, 0.0, 0.0, 0.0, 0.0, 0.0, 0.0, 0.0, 0.0, 0.0, 0.0, 0.0, 0.0, 0.0, 0.0, 0.0, 0.0, 0.0, 0.0, 0.0, 0.0, 0.0, 0.0, 0.0, 0.0, 0.0, 0.0, 0.0, 0.0, 0.0, 0.0, 0.0, 0.0, 0.0, 0.0, 0.0, 0.0, 0.0, 0.0, 0.0, 0.0, 0.0, 0.0, 0.0, 0.0, 0.0, 0.0, 0.0, 0.0, 0.0, 0.0, 0.0, 0.0, 0.0, 0.0, 0.0, 0.0, 0.0, 0.0, 0.0, 0.0, 0.0, 0.0, 0.0, 0.0, 0.0, 0.0, 0.0, 0.0, 0.0, 0.0, 0.0, 0.0, 0.0, 0.0, 0.0, 0.0, 0.0, 0.0, 0.0, 0.0, 0.0, 0.0, 0.0, 0.0, 0.0, 0.0, 0.0, 0.0, 0.0, 0.0, 0.0, 0.0, 0.0, 0.0, 0.0, 0.0, 0.0, 0.0, 0.0, 0.0, 0.0, 0.0, 0.0, 0.0, 0.0, 0.0, 0.0, 0.0, 0.0, 0.0, 0.0, 0.0, 0.0, 0.0, 0.0, 0.0, 0.0, 0.0, 0.0, 0.0, 0.0, 0.0, 0.0, 0.0, 0.0, 0.0]}, {\"type\": \"scatter\", \"x\": [0.0, 0.0, 0.0, 0.0, 0.0, 0.0, 0.0, 0.0, 0.0, 0.0, 0.0, 0.0, 0.0, 0.0, 0.0, 0.0, 0.0, 0.0, 0.0, 0.0, 0.0, 0.0, 0.0, 0.0, 0.0, 0.0, 0.0, 0.0, 0.0, 0.0, 0.0, 0.0, 0.0, 0.0, 0.0, 0.0, 0.0, 0.0, 0.0, 0.0, 0.0, 0.0, 0.0, 0.0, 0.0, 0.0, 0.0, 0.0, 0.0, 0.0, 0.0, 0.0, 0.0, 0.0, 0.0, 0.0, 0.0, 0.0, 0.0, 0.0, 0.0, 0.0, 0.0, 0.0, 0.0, 0.0, 0.0, 0.0, 0.0, 0.0, 0.0, 0.0, 0.0, 0.0, 0.0, 0.0, 0.0, 0.0, 0.0, 0.0, 0.0, 0.0, 0.0, 0.0, 0.0, 0.0, 0.0, 0.0, 0.0, 0.0, 0.0, 0.0, 0.0, 0.0, 0.0, 0.0, 0.0, 0.0, 0.0, 0.0], \"y\": [0.0, 0.010101010101010102, 0.020202020202020204, 0.030303030303030304, 0.04040404040404041, 0.05050505050505051, 0.06060606060606061, 0.07070707070707072, 0.08080808080808081, 0.09090909090909091, 0.10101010101010102, 0.11111111111111112, 0.12121212121212122, 0.13131313131313133, 0.14141414141414144, 0.15151515151515152, 0.16161616161616163, 0.17171717171717174, 0.18181818181818182, 0.19191919191919193, 0.20202020202020204, 0.21212121212121213, 0.22222222222222224, 0.23232323232323235, 0.24242424242424243, 0.25252525252525254, 0.26262626262626265, 0.27272727272727276, 0.2828282828282829, 0.29292929292929293, 0.30303030303030304, 0.31313131313131315, 0.32323232323232326, 0.33333333333333337, 0.3434343434343435, 0.3535353535353536, 0.36363636363636365, 0.37373737373737376, 0.38383838383838387, 0.393939393939394, 0.4040404040404041, 0.4141414141414142, 0.42424242424242425, 0.43434343434343436, 0.4444444444444445, 0.4545454545454546, 0.4646464646464647, 0.4747474747474748, 0.48484848484848486, 0.494949494949495, 0.5050505050505051, 0.5151515151515152, 0.5252525252525253, 0.5353535353535354, 0.5454545454545455, 0.5555555555555556, 0.5656565656565657, 0.5757575757575758, 0.5858585858585859, 0.595959595959596, 0.6060606060606061, 0.6161616161616162, 0.6262626262626263, 0.6363636363636365, 0.6464646464646465, 0.6565656565656566, 0.6666666666666667, 0.6767676767676768, 0.686868686868687, 0.696969696969697, 0.7070707070707072, 0.7171717171717172, 0.7272727272727273, 0.7373737373737375, 0.7474747474747475, 0.7575757575757577, 0.7676767676767677, 0.7777777777777778, 0.787878787878788, 0.797979797979798, 0.8080808080808082, 0.8181818181818182, 0.8282828282828284, 0.8383838383838385, 0.8484848484848485, 0.8585858585858587, 0.8686868686868687, 0.8787878787878789, 0.888888888888889, 0.8989898989898991, 0.9090909090909092, 0.9191919191919192, 0.9292929292929294, 0.9393939393939394, 0.9494949494949496, 0.9595959595959597, 0.9696969696969697, 0.9797979797979799, 0.98989898989899, 1.0]}],\n",
       "                        {\"template\": {\"data\": {\"bar\": [{\"error_x\": {\"color\": \"#2a3f5f\"}, \"error_y\": {\"color\": \"#2a3f5f\"}, \"marker\": {\"line\": {\"color\": \"#E5ECF6\", \"width\": 0.5}}, \"type\": \"bar\"}], \"barpolar\": [{\"marker\": {\"line\": {\"color\": \"#E5ECF6\", \"width\": 0.5}}, \"type\": \"barpolar\"}], \"carpet\": [{\"aaxis\": {\"endlinecolor\": \"#2a3f5f\", \"gridcolor\": \"white\", \"linecolor\": \"white\", \"minorgridcolor\": \"white\", \"startlinecolor\": \"#2a3f5f\"}, \"baxis\": {\"endlinecolor\": \"#2a3f5f\", \"gridcolor\": \"white\", \"linecolor\": \"white\", \"minorgridcolor\": \"white\", \"startlinecolor\": \"#2a3f5f\"}, \"type\": \"carpet\"}], \"choropleth\": [{\"colorbar\": {\"outlinewidth\": 0, \"ticks\": \"\"}, \"type\": \"choropleth\"}], \"contour\": [{\"colorbar\": {\"outlinewidth\": 0, \"ticks\": \"\"}, \"colorscale\": [[0.0, \"#0d0887\"], [0.1111111111111111, \"#46039f\"], [0.2222222222222222, \"#7201a8\"], [0.3333333333333333, \"#9c179e\"], [0.4444444444444444, \"#bd3786\"], [0.5555555555555556, \"#d8576b\"], [0.6666666666666666, \"#ed7953\"], [0.7777777777777778, \"#fb9f3a\"], [0.8888888888888888, \"#fdca26\"], [1.0, \"#f0f921\"]], \"type\": \"contour\"}], \"contourcarpet\": [{\"colorbar\": {\"outlinewidth\": 0, \"ticks\": \"\"}, \"type\": \"contourcarpet\"}], \"heatmap\": [{\"colorbar\": {\"outlinewidth\": 0, \"ticks\": \"\"}, \"colorscale\": [[0.0, \"#0d0887\"], [0.1111111111111111, \"#46039f\"], [0.2222222222222222, \"#7201a8\"], [0.3333333333333333, \"#9c179e\"], [0.4444444444444444, \"#bd3786\"], [0.5555555555555556, \"#d8576b\"], [0.6666666666666666, \"#ed7953\"], [0.7777777777777778, \"#fb9f3a\"], [0.8888888888888888, \"#fdca26\"], [1.0, \"#f0f921\"]], \"type\": \"heatmap\"}], \"heatmapgl\": [{\"colorbar\": {\"outlinewidth\": 0, \"ticks\": \"\"}, \"colorscale\": [[0.0, \"#0d0887\"], [0.1111111111111111, \"#46039f\"], [0.2222222222222222, \"#7201a8\"], [0.3333333333333333, \"#9c179e\"], [0.4444444444444444, \"#bd3786\"], [0.5555555555555556, \"#d8576b\"], [0.6666666666666666, \"#ed7953\"], [0.7777777777777778, \"#fb9f3a\"], [0.8888888888888888, \"#fdca26\"], [1.0, \"#f0f921\"]], \"type\": \"heatmapgl\"}], \"histogram\": [{\"marker\": {\"colorbar\": {\"outlinewidth\": 0, \"ticks\": \"\"}}, \"type\": \"histogram\"}], \"histogram2d\": [{\"colorbar\": {\"outlinewidth\": 0, \"ticks\": \"\"}, \"colorscale\": [[0.0, \"#0d0887\"], [0.1111111111111111, \"#46039f\"], [0.2222222222222222, \"#7201a8\"], [0.3333333333333333, \"#9c179e\"], [0.4444444444444444, \"#bd3786\"], [0.5555555555555556, \"#d8576b\"], [0.6666666666666666, \"#ed7953\"], [0.7777777777777778, \"#fb9f3a\"], [0.8888888888888888, \"#fdca26\"], [1.0, \"#f0f921\"]], \"type\": \"histogram2d\"}], \"histogram2dcontour\": [{\"colorbar\": {\"outlinewidth\": 0, \"ticks\": \"\"}, \"colorscale\": [[0.0, \"#0d0887\"], [0.1111111111111111, \"#46039f\"], [0.2222222222222222, \"#7201a8\"], [0.3333333333333333, \"#9c179e\"], [0.4444444444444444, \"#bd3786\"], [0.5555555555555556, \"#d8576b\"], [0.6666666666666666, \"#ed7953\"], [0.7777777777777778, \"#fb9f3a\"], [0.8888888888888888, \"#fdca26\"], [1.0, \"#f0f921\"]], \"type\": \"histogram2dcontour\"}], \"mesh3d\": [{\"colorbar\": {\"outlinewidth\": 0, \"ticks\": \"\"}, \"type\": \"mesh3d\"}], \"parcoords\": [{\"line\": {\"colorbar\": {\"outlinewidth\": 0, \"ticks\": \"\"}}, \"type\": \"parcoords\"}], \"pie\": [{\"automargin\": true, \"type\": \"pie\"}], \"scatter\": [{\"marker\": {\"colorbar\": {\"outlinewidth\": 0, \"ticks\": \"\"}}, \"type\": \"scatter\"}], \"scatter3d\": [{\"line\": {\"colorbar\": {\"outlinewidth\": 0, \"ticks\": \"\"}}, \"marker\": {\"colorbar\": {\"outlinewidth\": 0, \"ticks\": \"\"}}, \"type\": \"scatter3d\"}], \"scattercarpet\": [{\"marker\": {\"colorbar\": {\"outlinewidth\": 0, \"ticks\": \"\"}}, \"type\": \"scattercarpet\"}], \"scattergeo\": [{\"marker\": {\"colorbar\": {\"outlinewidth\": 0, \"ticks\": \"\"}}, \"type\": \"scattergeo\"}], \"scattergl\": [{\"marker\": {\"colorbar\": {\"outlinewidth\": 0, \"ticks\": \"\"}}, \"type\": \"scattergl\"}], \"scattermapbox\": [{\"marker\": {\"colorbar\": {\"outlinewidth\": 0, \"ticks\": \"\"}}, \"type\": \"scattermapbox\"}], \"scatterpolar\": [{\"marker\": {\"colorbar\": {\"outlinewidth\": 0, \"ticks\": \"\"}}, \"type\": \"scatterpolar\"}], \"scatterpolargl\": [{\"marker\": {\"colorbar\": {\"outlinewidth\": 0, \"ticks\": \"\"}}, \"type\": \"scatterpolargl\"}], \"scatterternary\": [{\"marker\": {\"colorbar\": {\"outlinewidth\": 0, \"ticks\": \"\"}}, \"type\": \"scatterternary\"}], \"surface\": [{\"colorbar\": {\"outlinewidth\": 0, \"ticks\": \"\"}, \"colorscale\": [[0.0, \"#0d0887\"], [0.1111111111111111, \"#46039f\"], [0.2222222222222222, \"#7201a8\"], [0.3333333333333333, \"#9c179e\"], [0.4444444444444444, \"#bd3786\"], [0.5555555555555556, \"#d8576b\"], [0.6666666666666666, \"#ed7953\"], [0.7777777777777778, \"#fb9f3a\"], [0.8888888888888888, \"#fdca26\"], [1.0, \"#f0f921\"]], \"type\": \"surface\"}], \"table\": [{\"cells\": {\"fill\": {\"color\": \"#EBF0F8\"}, \"line\": {\"color\": \"white\"}}, \"header\": {\"fill\": {\"color\": \"#C8D4E3\"}, \"line\": {\"color\": \"white\"}}, \"type\": \"table\"}]}, \"layout\": {\"annotationdefaults\": {\"arrowcolor\": \"#2a3f5f\", \"arrowhead\": 0, \"arrowwidth\": 1}, \"coloraxis\": {\"colorbar\": {\"outlinewidth\": 0, \"ticks\": \"\"}}, \"colorscale\": {\"diverging\": [[0, \"#8e0152\"], [0.1, \"#c51b7d\"], [0.2, \"#de77ae\"], [0.3, \"#f1b6da\"], [0.4, \"#fde0ef\"], [0.5, \"#f7f7f7\"], [0.6, \"#e6f5d0\"], [0.7, \"#b8e186\"], [0.8, \"#7fbc41\"], [0.9, \"#4d9221\"], [1, \"#276419\"]], \"sequential\": [[0.0, \"#0d0887\"], [0.1111111111111111, \"#46039f\"], [0.2222222222222222, \"#7201a8\"], [0.3333333333333333, \"#9c179e\"], [0.4444444444444444, \"#bd3786\"], [0.5555555555555556, \"#d8576b\"], [0.6666666666666666, \"#ed7953\"], [0.7777777777777778, \"#fb9f3a\"], [0.8888888888888888, \"#fdca26\"], [1.0, \"#f0f921\"]], \"sequentialminus\": [[0.0, \"#0d0887\"], [0.1111111111111111, \"#46039f\"], [0.2222222222222222, \"#7201a8\"], [0.3333333333333333, \"#9c179e\"], [0.4444444444444444, \"#bd3786\"], [0.5555555555555556, \"#d8576b\"], [0.6666666666666666, \"#ed7953\"], [0.7777777777777778, \"#fb9f3a\"], [0.8888888888888888, \"#fdca26\"], [1.0, \"#f0f921\"]]}, \"colorway\": [\"#636efa\", \"#EF553B\", \"#00cc96\", \"#ab63fa\", \"#FFA15A\", \"#19d3f3\", \"#FF6692\", \"#B6E880\", \"#FF97FF\", \"#FECB52\"], \"font\": {\"color\": \"#2a3f5f\"}, \"geo\": {\"bgcolor\": \"white\", \"lakecolor\": \"white\", \"landcolor\": \"#E5ECF6\", \"showlakes\": true, \"showland\": true, \"subunitcolor\": \"white\"}, \"hoverlabel\": {\"align\": \"left\"}, \"hovermode\": \"closest\", \"mapbox\": {\"style\": \"light\"}, \"paper_bgcolor\": \"white\", \"plot_bgcolor\": \"#E5ECF6\", \"polar\": {\"angularaxis\": {\"gridcolor\": \"white\", \"linecolor\": \"white\", \"ticks\": \"\"}, \"bgcolor\": \"#E5ECF6\", \"radialaxis\": {\"gridcolor\": \"white\", \"linecolor\": \"white\", \"ticks\": \"\"}}, \"scene\": {\"xaxis\": {\"backgroundcolor\": \"#E5ECF6\", \"gridcolor\": \"white\", \"gridwidth\": 2, \"linecolor\": \"white\", \"showbackground\": true, \"ticks\": \"\", \"zerolinecolor\": \"white\"}, \"yaxis\": {\"backgroundcolor\": \"#E5ECF6\", \"gridcolor\": \"white\", \"gridwidth\": 2, \"linecolor\": \"white\", \"showbackground\": true, \"ticks\": \"\", \"zerolinecolor\": \"white\"}, \"zaxis\": {\"backgroundcolor\": \"#E5ECF6\", \"gridcolor\": \"white\", \"gridwidth\": 2, \"linecolor\": \"white\", \"showbackground\": true, \"ticks\": \"\", \"zerolinecolor\": \"white\"}}, \"shapedefaults\": {\"line\": {\"color\": \"#2a3f5f\"}}, \"ternary\": {\"aaxis\": {\"gridcolor\": \"white\", \"linecolor\": \"white\", \"ticks\": \"\"}, \"baxis\": {\"gridcolor\": \"white\", \"linecolor\": \"white\", \"ticks\": \"\"}, \"bgcolor\": \"#E5ECF6\", \"caxis\": {\"gridcolor\": \"white\", \"linecolor\": \"white\", \"ticks\": \"\"}}, \"title\": {\"x\": 0.05}, \"xaxis\": {\"automargin\": true, \"gridcolor\": \"white\", \"linecolor\": \"white\", \"ticks\": \"\", \"title\": {\"standoff\": 15}, \"zerolinecolor\": \"white\", \"zerolinewidth\": 2}, \"yaxis\": {\"automargin\": true, \"gridcolor\": \"white\", \"linecolor\": \"white\", \"ticks\": \"\", \"title\": {\"standoff\": 15}, \"zerolinecolor\": \"white\", \"zerolinewidth\": 2}}}, \"title\": {\"text\": \"Subjectivity vs Polarity\"}, \"xaxis\": {\"tickmode\": \"array\", \"ticktext\": [\"Negative\", \"0.5\", \"0\", \"0.5\", \"Positive\"], \"tickvals\": [-1, -0.5, 0, 0.5, 1.0], \"title\": {\"text\": \"Polarity\"}}, \"yaxis\": {\"tickmode\": \"array\", \"ticktext\": [\"Fact\", \"0.2\", \"0.4\", \"0.6\", \"0.8\", \"Opinion\"], \"tickvals\": [0, 0.2, 0.4, 0.6, 0.8, 1.0], \"title\": {\"text\": \"Subjectivity\"}}},\n",
       "                        {\"responsive\": true}\n",
       "                    ).then(function(){\n",
       "                            \n",
       "var gd = document.getElementById('e8b0ea17-22db-4ed3-a746-6498c449f60d');\n",
       "var x = new MutationObserver(function (mutations, observer) {{\n",
       "        var display = window.getComputedStyle(gd).display;\n",
       "        if (!display || display === 'none') {{\n",
       "            console.log([gd, 'removed!']);\n",
       "            Plotly.purge(gd);\n",
       "            observer.disconnect();\n",
       "        }}\n",
       "}});\n",
       "\n",
       "// Listen for the removal of the full notebook cells\n",
       "var notebookContainer = gd.closest('#notebook-container');\n",
       "if (notebookContainer) {{\n",
       "    x.observe(notebookContainer, {childList: true});\n",
       "}}\n",
       "\n",
       "// Listen for the clearing of the current output cell\n",
       "var outputEl = gd.closest('.output');\n",
       "if (outputEl) {{\n",
       "    x.observe(outputEl, {childList: true});\n",
       "}}\n",
       "\n",
       "                        })\n",
       "                };\n",
       "                });\n",
       "            </script>\n",
       "        </div>"
      ]
     },
     "metadata": {},
     "output_type": "display_data"
    }
   ],
   "source": [
    "polarity_points = np.linspace(start=-1, stop=1, num=200)\n",
    "polarity_y = np.zeros(200)\n",
    "\n",
    "subjectivity_points = np.linspace(start=0, stop=1, num=100)\n",
    "subjectivity_x = np.zeros(100)\n",
    "\n",
    "fig = go.Figure()\n",
    "\n",
    "fig.add_trace(go.Scatter(\n",
    "    x = polarity_points, \n",
    "    y = polarity_y))\n",
    "\n",
    "fig.add_trace(go.Scatter(\n",
    "    x = subjectivity_x, \n",
    "    y = subjectivity_points))\n",
    "\n",
    "fig.update_layout(title='Subjectivity vs Polarity', \n",
    "                  xaxis_title='Polarity', \n",
    "                  yaxis_title='Subjectivity', \n",
    "                  xaxis = dict(\n",
    "                      tickmode='array', \n",
    "                      tickvals=[-1, -0.5, 0, 0.5, 1.0], \n",
    "                      ticktext=['Negative', '0.5', '0', '0.5', 'Positive']), \n",
    "                  yaxis = dict(tickmode='array', \n",
    "                               tickvals=[0, 0.2, 0.4, 0.6, 0.8, 1.0], \n",
    "                               ticktext=['Fact', '0.2', '0.4', '0.6', '0.8', 'Opinion']) )\n",
    "\n",
    "fig.write_image('project_notes_or_data/photos_for_presentation/subjectivity_polarity_key.jpg', scale=2.0)\n",
    "\n",
    "fig.show()\n",
    "\n",
    "# fig.update_layout()"
   ]
  },
  {
   "cell_type": "code",
   "execution_count": null,
   "metadata": {},
   "outputs": [],
   "source": []
  }
 ],
 "metadata": {
  "kernelspec": {
   "display_name": "Python 3",
   "language": "python",
   "name": "python3"
  },
  "language_info": {
   "codemirror_mode": {
    "name": "ipython",
    "version": 3
   },
   "file_extension": ".py",
   "mimetype": "text/x-python",
   "name": "python",
   "nbconvert_exporter": "python",
   "pygments_lexer": "ipython3",
   "version": "3.7.3"
  }
 },
 "nbformat": 4,
 "nbformat_minor": 4
}
