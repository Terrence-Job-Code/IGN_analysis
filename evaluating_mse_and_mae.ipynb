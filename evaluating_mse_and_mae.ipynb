{
 "cells": [
  {
   "cell_type": "markdown",
   "metadata": {},
   "source": [
    "# Faking Scores\n",
    "This is to test what type of results I would get for faking results, or just guessing a score"
   ]
  },
  {
   "cell_type": "code",
   "execution_count": 9,
   "metadata": {},
   "outputs": [],
   "source": [
    "import numpy as np\n",
    "import pandas as pd\n",
    "import seaborn as sns\n",
    "import matplotlib.pyplot as plt\n",
    "from sklearn.metrics import mean_squared_error\n",
    "from sklearn.metrics import mean_absolute_error\n",
    "from sklearn.feature_extraction.text import CountVectorizer\n",
    "from nltk.corpus import stopwords\n",
    "from sklearn.model_selection import train_test_split\n",
    "from keras.preprocessing.sequence import pad_sequences"
   ]
  },
  {
   "cell_type": "code",
   "execution_count": 2,
   "metadata": {},
   "outputs": [
    {
     "name": "stdout",
     "output_type": "stream",
     "text": [
      "(11072, 19)\n"
     ]
    },
    {
     "data": {
      "text/html": [
       "<div>\n",
       "<style scoped>\n",
       "    .dataframe tbody tr th:only-of-type {\n",
       "        vertical-align: middle;\n",
       "    }\n",
       "\n",
       "    .dataframe tbody tr th {\n",
       "        vertical-align: top;\n",
       "    }\n",
       "\n",
       "    .dataframe thead th {\n",
       "        text-align: right;\n",
       "    }\n",
       "</style>\n",
       "<table border=\"1\" class=\"dataframe\">\n",
       "  <thead>\n",
       "    <tr style=\"text-align: right;\">\n",
       "      <th></th>\n",
       "      <th>links</th>\n",
       "      <th>rough_review_body</th>\n",
       "      <th>cleaned_review_body</th>\n",
       "      <th>review_summary_rough</th>\n",
       "      <th>review_score</th>\n",
       "      <th>tags</th>\n",
       "      <th>categories</th>\n",
       "      <th>modified_date</th>\n",
       "      <th>published_date</th>\n",
       "      <th>author_name</th>\n",
       "      <th>tag_list</th>\n",
       "      <th>categories_list</th>\n",
       "      <th>review_title</th>\n",
       "      <th>review_body_corpus</th>\n",
       "      <th>review_score_float</th>\n",
       "      <th>number_character_review</th>\n",
       "      <th>number_words_review</th>\n",
       "      <th>polarity</th>\n",
       "      <th>subjectivity</th>\n",
       "    </tr>\n",
       "  </thead>\n",
       "  <tbody>\n",
       "    <tr>\n",
       "      <th>1</th>\n",
       "      <td>https://www.ign.com/articles/2011/07/19/warham...</td>\n",
       "      <td>\\u003csection class=\\\"article-page\\\"\\u003e\\u00...</td>\n",
       "      <td>'Warhammer 40K: Kill Team might be unfortun...</td>\n",
       "      <td>\"And \\\"also-ran\\\" hangs all over Warhammer 40K...</td>\n",
       "      <td>6.5</td>\n",
       "      <td>:[\"review\",\"blogroll\",\"event-essentials\",\"hot\"...</td>\n",
       "      <td>:[\"ign\",\"ps3\",\"xbox-360\",\"xbox-live\"],</td>\n",
       "      <td>2011-10-18T05:59:32+0000</td>\n",
       "      <td>2011-07-19T19:47:00+0000</td>\n",
       "      <td>\"Arthur Gies\"</td>\n",
       "      <td>[review, blogroll, event-essentials, hot, lega...</td>\n",
       "      <td>[ign, ps3, xbox-360, xbox-live, ]</td>\n",
       "      <td>\"Warhammer 40K: Kill Team Review\"</td>\n",
       "      <td>warhammer 40k kill team might be unfortunat...</td>\n",
       "      <td>6.5</td>\n",
       "      <td>3705</td>\n",
       "      <td>642</td>\n",
       "      <td>0.062923</td>\n",
       "      <td>0.433371</td>\n",
       "    </tr>\n",
       "    <tr>\n",
       "      <th>2</th>\n",
       "      <td>https://www.ign.com/articles/2011/07/20/call-o...</td>\n",
       "      <td>\\u003csection class=\\\"article-page\\\"\\u003eThe ...</td>\n",
       "      <td>The Call of Juarez franchise always intereste...</td>\n",
       "      <td>\"Call of Juarez: The Cartel is a poor change o...</td>\n",
       "      <td>4.5</td>\n",
       "      <td>:[\"review\",\"blogroll\",\"call-of-juarez-the-cart...</td>\n",
       "      <td>:[\"ign\",\"pc\",\"ps3\",\"xbox-360\"],</td>\n",
       "      <td>2011-10-18T06:02:02+0000</td>\n",
       "      <td>2011-07-20T00:14:00+0000</td>\n",
       "      <td>\"Anthony Gallegos\"</td>\n",
       "      <td>[review, blogroll, call-of-juarez-the-cartel, ...</td>\n",
       "      <td>[ign, pc, ps3, xbox-360, ]</td>\n",
       "      <td>\"Call of Juarez: The Cartel Review\"</td>\n",
       "      <td>the call of juarez franchise always intereste...</td>\n",
       "      <td>4.5</td>\n",
       "      <td>3770</td>\n",
       "      <td>648</td>\n",
       "      <td>-0.016471</td>\n",
       "      <td>0.457898</td>\n",
       "    </tr>\n",
       "    <tr>\n",
       "      <th>3</th>\n",
       "      <td>https://www.ign.com/articles/2011/07/20/captai...</td>\n",
       "      <td>\\u003csection class=\\\"article-page\\\"\\u003eThe ...</td>\n",
       "      <td>The majority of movie games are just awful. S...</td>\n",
       "      <td>\"Captain America: Super Soldier is a mediocre ...</td>\n",
       "      <td>5.5</td>\n",
       "      <td>:[\"review\",\"blogroll\",\"legacy\",\"wii\",\"games\",\"...</td>\n",
       "      <td>:[\"ign\",\"wii\"],</td>\n",
       "      <td>2011-10-18T06:02:20+0000</td>\n",
       "      <td>2011-07-20T00:43:00+0000</td>\n",
       "      <td>\"Audrey Drake\"</td>\n",
       "      <td>[review, blogroll, legacy, wii, games, captain...</td>\n",
       "      <td>[ign, wii, ]</td>\n",
       "      <td>\"Captain America: Super Soldier Wii Review\"</td>\n",
       "      <td>the majority of movie games are just awful st...</td>\n",
       "      <td>5.5</td>\n",
       "      <td>2675</td>\n",
       "      <td>474</td>\n",
       "      <td>-0.003842</td>\n",
       "      <td>0.544458</td>\n",
       "    </tr>\n",
       "    <tr>\n",
       "      <th>4</th>\n",
       "      <td>https://www.ign.com/articles/2011/07/20/quiz-c...</td>\n",
       "      <td>\\u003csection class=\\\"article-page\\\"\\u003e\\u00...</td>\n",
       "      <td>'Quiz Climber, from Buzz! developer   'Rele...</td>\n",
       "      <td>\"Ultimately, Quiz Climber is just a little too...</td>\n",
       "      <td>6.5</td>\n",
       "      <td>:[\"review\",\"blogroll\",\"games\",\"legacy\",\"wirele...</td>\n",
       "      <td>:[\"ign\",\"wireless\"],</td>\n",
       "      <td>2011-10-18T06:07:06+0000</td>\n",
       "      <td>2011-07-20T21:44:00+0000</td>\n",
       "      <td>\"Justin Davis\"</td>\n",
       "      <td>[review, blogroll, games, legacy, wireless, qu...</td>\n",
       "      <td>[ign, wireless, ]</td>\n",
       "      <td>\"Quiz Climber Review\"</td>\n",
       "      <td>quiz climber from buzz developer   relentle...</td>\n",
       "      <td>6.5</td>\n",
       "      <td>1854</td>\n",
       "      <td>349</td>\n",
       "      <td>0.091160</td>\n",
       "      <td>0.600205</td>\n",
       "    </tr>\n",
       "    <tr>\n",
       "      <th>5</th>\n",
       "      <td>https://www.ign.com/articles/2011/07/20/limbo-...</td>\n",
       "      <td>\\u003csection class=\\\"article-page\\\"\\u003eVide...</td>\n",
       "      <td>Video games are an art form made up of visual...</td>\n",
       "      <td>\"Limbo is an incredible achievement. Very few ...</td>\n",
       "      <td>9</td>\n",
       "      <td>:[\"review\",\"games\",\"legacy\",\"limbo\",\"platforme...</td>\n",
       "      <td>:[\"pc\",\"ps3\"],</td>\n",
       "      <td>2011-10-18T06:07:21+0000</td>\n",
       "      <td>2011-07-20T22:29:00+0000</td>\n",
       "      <td>\"Daemon Hatfield\"</td>\n",
       "      <td>[review, games, legacy, limbo, platformer, pla...</td>\n",
       "      <td>[pc, ps3, ]</td>\n",
       "      <td>\"Limbo Review\"</td>\n",
       "      <td>video games are an art form made up of visual...</td>\n",
       "      <td>9.0</td>\n",
       "      <td>2938</td>\n",
       "      <td>527</td>\n",
       "      <td>0.096551</td>\n",
       "      <td>0.525587</td>\n",
       "    </tr>\n",
       "  </tbody>\n",
       "</table>\n",
       "</div>"
      ],
      "text/plain": [
       "                                               links  \\\n",
       "1  https://www.ign.com/articles/2011/07/19/warham...   \n",
       "2  https://www.ign.com/articles/2011/07/20/call-o...   \n",
       "3  https://www.ign.com/articles/2011/07/20/captai...   \n",
       "4  https://www.ign.com/articles/2011/07/20/quiz-c...   \n",
       "5  https://www.ign.com/articles/2011/07/20/limbo-...   \n",
       "\n",
       "                                   rough_review_body  \\\n",
       "1  \\u003csection class=\\\"article-page\\\"\\u003e\\u00...   \n",
       "2  \\u003csection class=\\\"article-page\\\"\\u003eThe ...   \n",
       "3  \\u003csection class=\\\"article-page\\\"\\u003eThe ...   \n",
       "4  \\u003csection class=\\\"article-page\\\"\\u003e\\u00...   \n",
       "5  \\u003csection class=\\\"article-page\\\"\\u003eVide...   \n",
       "\n",
       "                                 cleaned_review_body  \\\n",
       "1     'Warhammer 40K: Kill Team might be unfortun...   \n",
       "2   The Call of Juarez franchise always intereste...   \n",
       "3   The majority of movie games are just awful. S...   \n",
       "4     'Quiz Climber, from Buzz! developer   'Rele...   \n",
       "5   Video games are an art form made up of visual...   \n",
       "\n",
       "                                review_summary_rough review_score  \\\n",
       "1  \"And \\\"also-ran\\\" hangs all over Warhammer 40K...          6.5   \n",
       "2  \"Call of Juarez: The Cartel is a poor change o...          4.5   \n",
       "3  \"Captain America: Super Soldier is a mediocre ...          5.5   \n",
       "4  \"Ultimately, Quiz Climber is just a little too...          6.5   \n",
       "5  \"Limbo is an incredible achievement. Very few ...            9   \n",
       "\n",
       "                                                tags  \\\n",
       "1  :[\"review\",\"blogroll\",\"event-essentials\",\"hot\"...   \n",
       "2  :[\"review\",\"blogroll\",\"call-of-juarez-the-cart...   \n",
       "3  :[\"review\",\"blogroll\",\"legacy\",\"wii\",\"games\",\"...   \n",
       "4  :[\"review\",\"blogroll\",\"games\",\"legacy\",\"wirele...   \n",
       "5  :[\"review\",\"games\",\"legacy\",\"limbo\",\"platforme...   \n",
       "\n",
       "                               categories             modified_date  \\\n",
       "1  :[\"ign\",\"ps3\",\"xbox-360\",\"xbox-live\"],  2011-10-18T05:59:32+0000   \n",
       "2         :[\"ign\",\"pc\",\"ps3\",\"xbox-360\"],  2011-10-18T06:02:02+0000   \n",
       "3                         :[\"ign\",\"wii\"],  2011-10-18T06:02:20+0000   \n",
       "4                    :[\"ign\",\"wireless\"],  2011-10-18T06:07:06+0000   \n",
       "5                          :[\"pc\",\"ps3\"],  2011-10-18T06:07:21+0000   \n",
       "\n",
       "             published_date         author_name  \\\n",
       "1  2011-07-19T19:47:00+0000       \"Arthur Gies\"   \n",
       "2  2011-07-20T00:14:00+0000  \"Anthony Gallegos\"   \n",
       "3  2011-07-20T00:43:00+0000      \"Audrey Drake\"   \n",
       "4  2011-07-20T21:44:00+0000      \"Justin Davis\"   \n",
       "5  2011-07-20T22:29:00+0000   \"Daemon Hatfield\"   \n",
       "\n",
       "                                            tag_list  \\\n",
       "1  [review, blogroll, event-essentials, hot, lega...   \n",
       "2  [review, blogroll, call-of-juarez-the-cartel, ...   \n",
       "3  [review, blogroll, legacy, wii, games, captain...   \n",
       "4  [review, blogroll, games, legacy, wireless, qu...   \n",
       "5  [review, games, legacy, limbo, platformer, pla...   \n",
       "\n",
       "                     categories_list  \\\n",
       "1  [ign, ps3, xbox-360, xbox-live, ]   \n",
       "2         [ign, pc, ps3, xbox-360, ]   \n",
       "3                       [ign, wii, ]   \n",
       "4                  [ign, wireless, ]   \n",
       "5                        [pc, ps3, ]   \n",
       "\n",
       "                                  review_title  \\\n",
       "1            \"Warhammer 40K: Kill Team Review\"   \n",
       "2          \"Call of Juarez: The Cartel Review\"   \n",
       "3  \"Captain America: Super Soldier Wii Review\"   \n",
       "4                        \"Quiz Climber Review\"   \n",
       "5                               \"Limbo Review\"   \n",
       "\n",
       "                                  review_body_corpus  review_score_float  \\\n",
       "1     warhammer 40k kill team might be unfortunat...                 6.5   \n",
       "2   the call of juarez franchise always intereste...                 4.5   \n",
       "3   the majority of movie games are just awful st...                 5.5   \n",
       "4     quiz climber from buzz developer   relentle...                 6.5   \n",
       "5   video games are an art form made up of visual...                 9.0   \n",
       "\n",
       "   number_character_review  number_words_review  polarity  subjectivity  \n",
       "1                     3705                  642  0.062923      0.433371  \n",
       "2                     3770                  648 -0.016471      0.457898  \n",
       "3                     2675                  474 -0.003842      0.544458  \n",
       "4                     1854                  349  0.091160      0.600205  \n",
       "5                     2938                  527  0.096551      0.525587  "
      ]
     },
     "execution_count": 2,
     "metadata": {},
     "output_type": "execute_result"
    }
   ],
   "source": [
    "ign_df = pd.read_pickle('ign_data/ign_data_pass_three.pkl')\n",
    "\n",
    "ign_df = ign_df.loc[ign_df['review_score']!='null']\n",
    "ign_df.reset_index(drop=True)\n",
    "\n",
    "print(ign_df.shape)\n",
    "ign_df.head()"
   ]
  },
  {
   "cell_type": "code",
   "execution_count": 3,
   "metadata": {},
   "outputs": [],
   "source": [
    "ign_scores = ign_df['review_score_float'].values/10.0\n",
    "np.random.shuffle(ign_scores)"
   ]
  },
  {
   "cell_type": "code",
   "execution_count": 28,
   "metadata": {},
   "outputs": [],
   "source": [
    "fake_scores = np.random.normal(loc=0.75, scale=0.05, size=len(ign_scores))"
   ]
  },
  {
   "cell_type": "code",
   "execution_count": 29,
   "metadata": {},
   "outputs": [
    {
     "name": "stdout",
     "output_type": "stream",
     "text": [
      "0.13721174725793772\n"
     ]
    }
   ],
   "source": [
    "print(mean_absolute_error(y_true=ign_scores, y_pred=fake_scores))"
   ]
  },
  {
   "cell_type": "code",
   "execution_count": 30,
   "metadata": {},
   "outputs": [
    {
     "name": "stdout",
     "output_type": "stream",
     "text": [
      "0.03303626665119187\n"
     ]
    }
   ],
   "source": [
    "print(mean_squared_error(y_true=ign_scores, y_pred=fake_scores))"
   ]
  },
  {
   "cell_type": "code",
   "execution_count": 7,
   "metadata": {},
   "outputs": [],
   "source": [
    "fake_scores_iters = np.random.normal(loc=0.75, scale=0.05, size=(len(ign_scores), 10000) )\n",
    "# print(len(fake_scores_iters[:,0]))\n",
    "maes = [mean_absolute_error(y_true=ign_scores, y_pred=fake_scores_iters[:,x]) for x in range(0, 10000)]\n",
    "mses = [mean_squared_error(y_true=ign_scores, y_pred=fake_scores_iters[:,x]) for x in range(0, 10000)]"
   ]
  },
  {
   "cell_type": "code",
   "execution_count": 8,
   "metadata": {},
   "outputs": [
    {
     "name": "stdout",
     "output_type": "stream",
     "text": [
      "0.1383402558555293 0.13506218127945133 0.13668406176956213\n",
      "0.0335464267688838 0.03217137213011712 0.0328480224495152\n"
     ]
    }
   ],
   "source": [
    "print(max(maes), min(maes), sum(maes)/10000)\n",
    "print(max(mses), min(mses), sum(mses)/10000)"
   ]
  },
  {
   "cell_type": "code",
   "execution_count": 31,
   "metadata": {},
   "outputs": [
    {
     "name": "stdout",
     "output_type": "stream",
     "text": [
      "(11072,)\n"
     ]
    },
    {
     "data": {
      "image/png": "[encoded data removed]",
      "text/plain": [
       "<Figure size 432x288 with 1 Axes>"
      ]
     },
     "metadata": {
      "needs_background": "light"
     },
     "output_type": "display_data"
    }
   ],
   "source": [
    "# oh, can make a histogram of scores and compare to histogram of actual scores\n",
    "photo_dir = 'project_notes_or_data/photos_for_presentation/'\n",
    "print(fake_scores.shape)\n",
    "sns.distplot(ign_scores, bins=19, label='ign scores')\n",
    "sns.distplot(fake_scores, label='fake scores')\n",
    "plt.title('Comparison of Score Distributions')\n",
    "plt.legend()\n",
    "plt.savefig(photo_dir+'fake_score_comparison.jpg', dpi=200)\n",
    "plt.show()"
   ]
  },
  {
   "cell_type": "code",
   "execution_count": 33,
   "metadata": {},
   "outputs": [
    {
     "data": {
      "image/png": "[encoded data removed]",
      "text/plain": [
       "<Figure size 432x288 with 1 Axes>"
      ]
     },
     "metadata": {
      "needs_background": "light"
     },
     "output_type": "display_data"
    }
   ],
   "source": [
    "# plot distance from true score instead\n",
    "distance_from_score = ign_scores-fake_scores\n",
    "sns.distplot(distance_from_score)\n",
    "plt.title('Distance of fake score to real score')\n",
    "plt.savefig(photo_dir+'fake_score-real_score.jpg', dpi=200)\n",
    "plt.show()"
   ]
  },
  {
   "cell_type": "markdown",
   "metadata": {},
   "source": [
    "## should run above steps many times to get an average mse and mae"
   ]
  },
  {
   "cell_type": "markdown",
   "metadata": {},
   "source": [
    "# Below here, try to understand the data transformation that I've performed in my scoring dnns. "
   ]
  },
  {
   "cell_type": "code",
   "execution_count": 3,
   "metadata": {},
   "outputs": [
    {
     "name": "stdout",
     "output_type": "stream",
     "text": [
      "(11072, 19)\n"
     ]
    },
    {
     "data": {
      "text/html": [
       "<div>\n",
       "<style scoped>\n",
       "    .dataframe tbody tr th:only-of-type {\n",
       "        vertical-align: middle;\n",
       "    }\n",
       "\n",
       "    .dataframe tbody tr th {\n",
       "        vertical-align: top;\n",
       "    }\n",
       "\n",
       "    .dataframe thead th {\n",
       "        text-align: right;\n",
       "    }\n",
       "</style>\n",
       "<table border=\"1\" class=\"dataframe\">\n",
       "  <thead>\n",
       "    <tr style=\"text-align: right;\">\n",
       "      <th></th>\n",
       "      <th>links</th>\n",
       "      <th>rough_review_body</th>\n",
       "      <th>cleaned_review_body</th>\n",
       "      <th>review_summary_rough</th>\n",
       "      <th>review_score</th>\n",
       "      <th>tags</th>\n",
       "      <th>categories</th>\n",
       "      <th>modified_date</th>\n",
       "      <th>published_date</th>\n",
       "      <th>author_name</th>\n",
       "      <th>tag_list</th>\n",
       "      <th>categories_list</th>\n",
       "      <th>review_title</th>\n",
       "      <th>review_body_corpus</th>\n",
       "      <th>review_score_float</th>\n",
       "      <th>number_character_review</th>\n",
       "      <th>number_words_review</th>\n",
       "      <th>polarity</th>\n",
       "      <th>subjectivity</th>\n",
       "    </tr>\n",
       "  </thead>\n",
       "  <tbody>\n",
       "    <tr>\n",
       "      <th>1</th>\n",
       "      <td>https://www.ign.com/articles/2011/07/19/warham...</td>\n",
       "      <td>\\u003csection class=\\\"article-page\\\"\\u003e\\u00...</td>\n",
       "      <td>'Warhammer 40K: Kill Team might be unfortun...</td>\n",
       "      <td>\"And \\\"also-ran\\\" hangs all over Warhammer 40K...</td>\n",
       "      <td>6.5</td>\n",
       "      <td>:[\"review\",\"blogroll\",\"event-essentials\",\"hot\"...</td>\n",
       "      <td>:[\"ign\",\"ps3\",\"xbox-360\",\"xbox-live\"],</td>\n",
       "      <td>2011-10-18T05:59:32+0000</td>\n",
       "      <td>2011-07-19T19:47:00+0000</td>\n",
       "      <td>\"Arthur Gies\"</td>\n",
       "      <td>[review, blogroll, event-essentials, hot, lega...</td>\n",
       "      <td>[ign, ps3, xbox-360, xbox-live, ]</td>\n",
       "      <td>\"Warhammer 40K: Kill Team Review\"</td>\n",
       "      <td>warhammer 40k kill team might be unfortunat...</td>\n",
       "      <td>6.5</td>\n",
       "      <td>3705</td>\n",
       "      <td>642</td>\n",
       "      <td>0.062923</td>\n",
       "      <td>0.433371</td>\n",
       "    </tr>\n",
       "    <tr>\n",
       "      <th>2</th>\n",
       "      <td>https://www.ign.com/articles/2011/07/20/call-o...</td>\n",
       "      <td>\\u003csection class=\\\"article-page\\\"\\u003eThe ...</td>\n",
       "      <td>The Call of Juarez franchise always intereste...</td>\n",
       "      <td>\"Call of Juarez: The Cartel is a poor change o...</td>\n",
       "      <td>4.5</td>\n",
       "      <td>:[\"review\",\"blogroll\",\"call-of-juarez-the-cart...</td>\n",
       "      <td>:[\"ign\",\"pc\",\"ps3\",\"xbox-360\"],</td>\n",
       "      <td>2011-10-18T06:02:02+0000</td>\n",
       "      <td>2011-07-20T00:14:00+0000</td>\n",
       "      <td>\"Anthony Gallegos\"</td>\n",
       "      <td>[review, blogroll, call-of-juarez-the-cartel, ...</td>\n",
       "      <td>[ign, pc, ps3, xbox-360, ]</td>\n",
       "      <td>\"Call of Juarez: The Cartel Review\"</td>\n",
       "      <td>the call of juarez franchise always intereste...</td>\n",
       "      <td>4.5</td>\n",
       "      <td>3770</td>\n",
       "      <td>648</td>\n",
       "      <td>-0.016471</td>\n",
       "      <td>0.457898</td>\n",
       "    </tr>\n",
       "    <tr>\n",
       "      <th>3</th>\n",
       "      <td>https://www.ign.com/articles/2011/07/20/captai...</td>\n",
       "      <td>\\u003csection class=\\\"article-page\\\"\\u003eThe ...</td>\n",
       "      <td>The majority of movie games are just awful. S...</td>\n",
       "      <td>\"Captain America: Super Soldier is a mediocre ...</td>\n",
       "      <td>5.5</td>\n",
       "      <td>:[\"review\",\"blogroll\",\"legacy\",\"wii\",\"games\",\"...</td>\n",
       "      <td>:[\"ign\",\"wii\"],</td>\n",
       "      <td>2011-10-18T06:02:20+0000</td>\n",
       "      <td>2011-07-20T00:43:00+0000</td>\n",
       "      <td>\"Audrey Drake\"</td>\n",
       "      <td>[review, blogroll, legacy, wii, games, captain...</td>\n",
       "      <td>[ign, wii, ]</td>\n",
       "      <td>\"Captain America: Super Soldier Wii Review\"</td>\n",
       "      <td>the majority of movie games are just awful st...</td>\n",
       "      <td>5.5</td>\n",
       "      <td>2675</td>\n",
       "      <td>474</td>\n",
       "      <td>-0.003842</td>\n",
       "      <td>0.544458</td>\n",
       "    </tr>\n",
       "    <tr>\n",
       "      <th>4</th>\n",
       "      <td>https://www.ign.com/articles/2011/07/20/quiz-c...</td>\n",
       "      <td>\\u003csection class=\\\"article-page\\\"\\u003e\\u00...</td>\n",
       "      <td>'Quiz Climber, from Buzz! developer   'Rele...</td>\n",
       "      <td>\"Ultimately, Quiz Climber is just a little too...</td>\n",
       "      <td>6.5</td>\n",
       "      <td>:[\"review\",\"blogroll\",\"games\",\"legacy\",\"wirele...</td>\n",
       "      <td>:[\"ign\",\"wireless\"],</td>\n",
       "      <td>2011-10-18T06:07:06+0000</td>\n",
       "      <td>2011-07-20T21:44:00+0000</td>\n",
       "      <td>\"Justin Davis\"</td>\n",
       "      <td>[review, blogroll, games, legacy, wireless, qu...</td>\n",
       "      <td>[ign, wireless, ]</td>\n",
       "      <td>\"Quiz Climber Review\"</td>\n",
       "      <td>quiz climber from buzz developer   relentle...</td>\n",
       "      <td>6.5</td>\n",
       "      <td>1854</td>\n",
       "      <td>349</td>\n",
       "      <td>0.091160</td>\n",
       "      <td>0.600205</td>\n",
       "    </tr>\n",
       "    <tr>\n",
       "      <th>5</th>\n",
       "      <td>https://www.ign.com/articles/2011/07/20/limbo-...</td>\n",
       "      <td>\\u003csection class=\\\"article-page\\\"\\u003eVide...</td>\n",
       "      <td>Video games are an art form made up of visual...</td>\n",
       "      <td>\"Limbo is an incredible achievement. Very few ...</td>\n",
       "      <td>9</td>\n",
       "      <td>:[\"review\",\"games\",\"legacy\",\"limbo\",\"platforme...</td>\n",
       "      <td>:[\"pc\",\"ps3\"],</td>\n",
       "      <td>2011-10-18T06:07:21+0000</td>\n",
       "      <td>2011-07-20T22:29:00+0000</td>\n",
       "      <td>\"Daemon Hatfield\"</td>\n",
       "      <td>[review, games, legacy, limbo, platformer, pla...</td>\n",
       "      <td>[pc, ps3, ]</td>\n",
       "      <td>\"Limbo Review\"</td>\n",
       "      <td>video games are an art form made up of visual...</td>\n",
       "      <td>9.0</td>\n",
       "      <td>2938</td>\n",
       "      <td>527</td>\n",
       "      <td>0.096551</td>\n",
       "      <td>0.525587</td>\n",
       "    </tr>\n",
       "  </tbody>\n",
       "</table>\n",
       "</div>"
      ],
      "text/plain": [
       "                                               links  \\\n",
       "1  https://www.ign.com/articles/2011/07/19/warham...   \n",
       "2  https://www.ign.com/articles/2011/07/20/call-o...   \n",
       "3  https://www.ign.com/articles/2011/07/20/captai...   \n",
       "4  https://www.ign.com/articles/2011/07/20/quiz-c...   \n",
       "5  https://www.ign.com/articles/2011/07/20/limbo-...   \n",
       "\n",
       "                                   rough_review_body  \\\n",
       "1  \\u003csection class=\\\"article-page\\\"\\u003e\\u00...   \n",
       "2  \\u003csection class=\\\"article-page\\\"\\u003eThe ...   \n",
       "3  \\u003csection class=\\\"article-page\\\"\\u003eThe ...   \n",
       "4  \\u003csection class=\\\"article-page\\\"\\u003e\\u00...   \n",
       "5  \\u003csection class=\\\"article-page\\\"\\u003eVide...   \n",
       "\n",
       "                                 cleaned_review_body  \\\n",
       "1     'Warhammer 40K: Kill Team might be unfortun...   \n",
       "2   The Call of Juarez franchise always intereste...   \n",
       "3   The majority of movie games are just awful. S...   \n",
       "4     'Quiz Climber, from Buzz! developer   'Rele...   \n",
       "5   Video games are an art form made up of visual...   \n",
       "\n",
       "                                review_summary_rough review_score  \\\n",
       "1  \"And \\\"also-ran\\\" hangs all over Warhammer 40K...          6.5   \n",
       "2  \"Call of Juarez: The Cartel is a poor change o...          4.5   \n",
       "3  \"Captain America: Super Soldier is a mediocre ...          5.5   \n",
       "4  \"Ultimately, Quiz Climber is just a little too...          6.5   \n",
       "5  \"Limbo is an incredible achievement. Very few ...            9   \n",
       "\n",
       "                                                tags  \\\n",
       "1  :[\"review\",\"blogroll\",\"event-essentials\",\"hot\"...   \n",
       "2  :[\"review\",\"blogroll\",\"call-of-juarez-the-cart...   \n",
       "3  :[\"review\",\"blogroll\",\"legacy\",\"wii\",\"games\",\"...   \n",
       "4  :[\"review\",\"blogroll\",\"games\",\"legacy\",\"wirele...   \n",
       "5  :[\"review\",\"games\",\"legacy\",\"limbo\",\"platforme...   \n",
       "\n",
       "                               categories             modified_date  \\\n",
       "1  :[\"ign\",\"ps3\",\"xbox-360\",\"xbox-live\"],  2011-10-18T05:59:32+0000   \n",
       "2         :[\"ign\",\"pc\",\"ps3\",\"xbox-360\"],  2011-10-18T06:02:02+0000   \n",
       "3                         :[\"ign\",\"wii\"],  2011-10-18T06:02:20+0000   \n",
       "4                    :[\"ign\",\"wireless\"],  2011-10-18T06:07:06+0000   \n",
       "5                          :[\"pc\",\"ps3\"],  2011-10-18T06:07:21+0000   \n",
       "\n",
       "             published_date         author_name  \\\n",
       "1  2011-07-19T19:47:00+0000       \"Arthur Gies\"   \n",
       "2  2011-07-20T00:14:00+0000  \"Anthony Gallegos\"   \n",
       "3  2011-07-20T00:43:00+0000      \"Audrey Drake\"   \n",
       "4  2011-07-20T21:44:00+0000      \"Justin Davis\"   \n",
       "5  2011-07-20T22:29:00+0000   \"Daemon Hatfield\"   \n",
       "\n",
       "                                            tag_list  \\\n",
       "1  [review, blogroll, event-essentials, hot, lega...   \n",
       "2  [review, blogroll, call-of-juarez-the-cartel, ...   \n",
       "3  [review, blogroll, legacy, wii, games, captain...   \n",
       "4  [review, blogroll, games, legacy, wireless, qu...   \n",
       "5  [review, games, legacy, limbo, platformer, pla...   \n",
       "\n",
       "                     categories_list  \\\n",
       "1  [ign, ps3, xbox-360, xbox-live, ]   \n",
       "2         [ign, pc, ps3, xbox-360, ]   \n",
       "3                       [ign, wii, ]   \n",
       "4                  [ign, wireless, ]   \n",
       "5                        [pc, ps3, ]   \n",
       "\n",
       "                                  review_title  \\\n",
       "1            \"Warhammer 40K: Kill Team Review\"   \n",
       "2          \"Call of Juarez: The Cartel Review\"   \n",
       "3  \"Captain America: Super Soldier Wii Review\"   \n",
       "4                        \"Quiz Climber Review\"   \n",
       "5                               \"Limbo Review\"   \n",
       "\n",
       "                                  review_body_corpus  review_score_float  \\\n",
       "1     warhammer 40k kill team might be unfortunat...                 6.5   \n",
       "2   the call of juarez franchise always intereste...                 4.5   \n",
       "3   the majority of movie games are just awful st...                 5.5   \n",
       "4     quiz climber from buzz developer   relentle...                 6.5   \n",
       "5   video games are an art form made up of visual...                 9.0   \n",
       "\n",
       "   number_character_review  number_words_review  polarity  subjectivity  \n",
       "1                     3705                  642  0.062923      0.433371  \n",
       "2                     3770                  648 -0.016471      0.457898  \n",
       "3                     2675                  474 -0.003842      0.544458  \n",
       "4                     1854                  349  0.091160      0.600205  \n",
       "5                     2938                  527  0.096551      0.525587  "
      ]
     },
     "execution_count": 3,
     "metadata": {},
     "output_type": "execute_result"
    }
   ],
   "source": [
    "ign_df = pd.read_pickle('ign_data/ign_data_pass_three.pkl')\n",
    "\n",
    "ign_df = ign_df.loc[ign_df['review_score']!='null']\n",
    "ign_df.reset_index(drop=True)\n",
    "\n",
    "print(ign_df.shape)\n",
    "ign_df.head()"
   ]
  },
  {
   "cell_type": "code",
   "execution_count": 6,
   "metadata": {},
   "outputs": [],
   "source": [
    "vectorizer = CountVectorizer(binary=True, stop_words=stopwords.words('english'), \n",
    "                             lowercase=True, min_df=3, max_df=0.9, max_features=5000)\n",
    "\n",
    "test_size = 0.2\n",
    "\n",
    "ign_data = ign_df['cleaned_review_body'].values\n",
    "ign_scores = ign_df['review_score_float'].values \n",
    "ign_standard_values = ign_scores/10.0\n",
    "\n",
    "data_train, data_validation, target_train, target_validation = train_test_split(ign_data, \n",
    "                                                                                ign_standard_values, \n",
    "                                                                                test_size=test_size, \n",
    "                                                                                random_state=42)"
   ]
  },
  {
   "cell_type": "code",
   "execution_count": 7,
   "metadata": {},
   "outputs": [],
   "source": [
    "vectorizer = CountVectorizer(binary=True, stop_words=stopwords.words('english'), \n",
    "                             lowercase=True, min_df=3, max_df=0.9, max_features=5000)\n",
    "data_train_cv = vectorizer.fit_transform(data_train)\n",
    "data_valid_cv = vectorizer.transform(data_validation)"
   ]
  },
  {
   "cell_type": "code",
   "execution_count": 12,
   "metadata": {},
   "outputs": [
    {
     "name": "stdout",
     "output_type": "stream",
     "text": [
      "[2218, 4437]\n",
      "important\n",
      "test\n"
     ]
    }
   ],
   "source": [
    "word2idx = {word: idx for idx, word in enumerate(vectorizer.get_feature_names())}\n",
    "tokenize = vectorizer.build_tokenizer()\n",
    "preprocess = vectorizer.build_preprocessor()\n",
    "\n",
    "# print(len(vectorizer.get_feature_names()))\n",
    "\n",
    "def to_sequence(tokenizer, preprocessor, index, text):\n",
    "    \n",
    "    words = tokenizer(preprocessor(text))\n",
    "    indexes = [index[word] for word in words if word in index]\n",
    "    \n",
    "    return indexes\n",
    "\n",
    "print(to_sequence(tokenize, preprocess, word2idx, 'This is an important test!'))\n",
    "print(vectorizer.get_feature_names()[2218])\n",
    "print(vectorizer.get_feature_names()[4437])"
   ]
  },
  {
   "cell_type": "code",
   "execution_count": 9,
   "metadata": {},
   "outputs": [
    {
     "name": "stdout",
     "output_type": "stream",
     "text": [
      "[5000 5000 5000 ... 2851  481  876]\n"
     ]
    }
   ],
   "source": [
    "data_train_sequences = [to_sequence(tokenize, preprocess, word2idx, x) for x in data_train]\n",
    "data_valid_sequences = [to_sequence(tokenize, preprocess, word2idx, x) for x in data_validation]\n",
    "\n",
    "# padding sequences\n",
    "MAX_SEQ_LENGTH = len(max(data_train_sequences, key=len))\n",
    "if len(max(data_valid_sequences, key=len)) > MAX_SEQ_LENGTH:\n",
    "    MAX_SEQ_LENGTH = len(max(data_valid_sequences, key=len))\n",
    "    \n",
    "N_FEATURES = len(vectorizer.get_feature_names())\n",
    "\n",
    "data_train_sequences = pad_sequences(data_train_sequences, maxlen=MAX_SEQ_LENGTH, value=N_FEATURES)\n",
    "data_valid_sequences = pad_sequences(data_valid_sequences, maxlen=MAX_SEQ_LENGTH, value=N_FEATURES)\n",
    "\n",
    "print(data_train_sequences[0])\n",
    "# print(vectorizer.get_feature_names())\n",
    "# print(vectorizer.build_tokenizer())"
   ]
  },
  {
   "cell_type": "markdown",
   "metadata": {},
   "source": [
    "Okay, so now I will examine the data processing that I've done"
   ]
  },
  {
   "cell_type": "code",
   "execution_count": 19,
   "metadata": {},
   "outputs": [
    {
     "data": {
      "text/plain": [
       "218"
      ]
     },
     "execution_count": 19,
     "metadata": {},
     "output_type": "execute_result"
    }
   ],
   "source": [
    "data_train_sequences[0][len(data_train_sequences[0])-3]"
   ]
  },
  {
   "cell_type": "code",
   "execution_count": 21,
   "metadata": {},
   "outputs": [
    {
     "name": "stdout",
     "output_type": "stream",
     "text": [
      "this is an important test!\n",
      "['this', 'is', 'an', 'important', 'test']\n"
     ]
    }
   ],
   "source": [
    "phrase = 'This is an important test!'\n",
    "print(preprocess(phrase))\n",
    "print(tokenize(preprocess(phrase)))"
   ]
  },
  {
   "cell_type": "code",
   "execution_count": 1,
   "metadata": {},
   "outputs": [
    {
     "ename": "NameError",
     "evalue": "name 'vectorizer' is not defined",
     "output_type": "error",
     "traceback": [
      "\u001b[1;31m---------------------------------------------------------------------------\u001b[0m",
      "\u001b[1;31mNameError\u001b[0m                                 Traceback (most recent call last)",
      "\u001b[1;32m<ipython-input-1-e6c437a93446>\u001b[0m in \u001b[0;36m<module>\u001b[1;34m\u001b[0m\n\u001b[1;32m----> 1\u001b[1;33m \u001b[0mprint\u001b[0m\u001b[1;33m(\u001b[0m\u001b[0mvectorizer\u001b[0m\u001b[1;33m.\u001b[0m\u001b[0mget_feature_names\u001b[0m\u001b[1;33m(\u001b[0m\u001b[1;33m)\u001b[0m\u001b[1;33m)\u001b[0m\u001b[1;33m\u001b[0m\u001b[1;33m\u001b[0m\u001b[0m\n\u001b[0m\u001b[0;32m      2\u001b[0m \u001b[1;31m# print(to_sequence(tokenize, preprocess, word2idx, ''))\u001b[0m\u001b[1;33m\u001b[0m\u001b[1;33m\u001b[0m\u001b[1;33m\u001b[0m\u001b[0m\n",
      "\u001b[1;31mNameError\u001b[0m: name 'vectorizer' is not defined"
     ]
    }
   ],
   "source": [
    "print(vectorizer.get_feature_names())\n",
    "# print(to_sequence(tokenize, preprocess, word2idx, ''))"
   ]
  },
  {
   "cell_type": "code",
   "execution_count": 26,
   "metadata": {},
   "outputs": [
    {
     "name": "stdout",
     "output_type": "stream",
     "text": [
      "2705\n",
      "2705\n"
     ]
    }
   ],
   "source": [
    "print(MAX_SEQ_LENGTH)\n",
    "print(len(data_train_sequences[0]))"
   ]
  },
  {
   "cell_type": "code",
   "execution_count": null,
   "metadata": {},
   "outputs": [],
   "source": []
  }
 ],
 "metadata": {
  "kernelspec": {
   "display_name": "Python 3",
   "language": "python",
   "name": "python3"
  },
  "language_info": {
   "codemirror_mode": {
    "name": "ipython",
    "version": 3
   },
   "file_extension": ".py",
   "mimetype": "text/x-python",
   "name": "python",
   "nbconvert_exporter": "python",
   "pygments_lexer": "ipython3",
   "version": "3.7.3"
  }
 },
 "nbformat": 4,
 "nbformat_minor": 4
}
